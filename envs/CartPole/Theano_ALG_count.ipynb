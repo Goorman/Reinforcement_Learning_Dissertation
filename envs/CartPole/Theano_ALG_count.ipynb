{
 "cells": [
  {
   "cell_type": "code",
   "execution_count": 1,
   "metadata": {
    "collapsed": false
   },
   "outputs": [],
   "source": [
    "import scipy\n",
    "import scipy.misc\n",
    "import numpy as np\n",
    "import random\n",
    "import pandas as pd\n",
    "import gym\n",
    "from tqdm import tqdm\n",
    "from tqdm import tqdm_notebook\n",
    "import os\n",
    "from collections import defaultdict\n",
    "import matplotlib.pyplot as plt\n",
    "%matplotlib inline"
   ]
  },
  {
   "cell_type": "code",
   "execution_count": 2,
   "metadata": {
    "collapsed": true
   },
   "outputs": [],
   "source": [
    "import lasagne\n",
    "import theano.tensor as T\n",
    "import theano"
   ]
  },
  {
   "cell_type": "code",
   "execution_count": 3,
   "metadata": {
    "collapsed": false
   },
   "outputs": [],
   "source": [
    "%load_ext autoreload\n",
    "%autoreload 2"
   ]
  },
  {
   "cell_type": "code",
   "execution_count": null,
   "metadata": {
    "collapsed": false
   },
   "outputs": [],
   "source": []
  },
  {
   "cell_type": "code",
   "execution_count": 4,
   "metadata": {
    "collapsed": false
   },
   "outputs": [],
   "source": [
    "class ATARI_wrapper():\n",
    "    def __init__(self, gamename = \"Enduro-v0\"):\n",
    "        self.state_size = (105, 80)\n",
    "        self.game_title = gamename\n",
    "        self.actions = [\"0\", \"1\", \"2\", \"3\", \"4\", \"5\", \"6\", \"7\", \"8\"]\n",
    "        self.n_actions = len(self.actions)\n",
    "        try:\n",
    "            self.env = gym.make(self.game_title)\n",
    "        except:\n",
    "            print (\"ERROR : Can't find \" + self.game_title + \" environment.\")\n",
    "            return None\n",
    "        self.env.reset()\n",
    "    \n",
    "    def processState(self, state):\n",
    "        grayimage = np.mean(state, axis = 2)\n",
    "        downscale = self.downscale2x(grayimage)\n",
    "        norm = (downscale - 128.0) / 128.0\n",
    "        return norm\n",
    "    \n",
    "    def processAction(self, action):\n",
    "        return action\n",
    "    \n",
    "    def make_reset(self):\n",
    "        state = self.env.reset()\n",
    "    \n",
    "        return self.processState(state)\n",
    "    \n",
    "    def make_step(self, action, render = False):\n",
    "        action = self.processAction(action)\n",
    "    \n",
    "        state, ret1, ret2, ret3 = self.env.step(action)\n",
    "    \n",
    "        if render:\n",
    "            self.env.render()\n",
    "    \n",
    "        return self.processState(state), ret1, ret2, ret3\n",
    "    \n",
    "    def downscale2x(self, image):\n",
    "        image00 = image[0::2, 0::2]\n",
    "        image01 = image[0::2, 1::2]\n",
    "        image10 = image[1::2, 0::2]\n",
    "        image11 = image[1::2, 1::2]\n",
    "        return (image00 + image01 + image10 + image11) / 4"
   ]
  },
  {
   "cell_type": "code",
   "execution_count": 5,
   "metadata": {
    "collapsed": false
   },
   "outputs": [],
   "source": [
    "class LunarLanding_wrapper():\n",
    "    def __init__(self):\n",
    "        self.state_size = (1, 8)\n",
    "        self.game_title = \"LunarLander-v2\"\n",
    "        self.actions = [\"DO_NOTHING\", \"FIRE_LEFT\", \"FIRE_MAIN\", \"FIRE_RIGHT\"]\n",
    "        self.n_actions = len(self.actions)\n",
    "        try:\n",
    "            self.env = gym.make(self.game_title)\n",
    "        except:\n",
    "            print (\"ERROR : Can't find \" + self.game_title + \" environment.\")\n",
    "            return None\n",
    "        self.env.reset()\n",
    "    \n",
    "    def processState(self, state):\n",
    "        return state.reshape(1, -1)\n",
    "    \n",
    "    def processAction(self, action):\n",
    "        return action\n",
    "    \n",
    "    def make_reset(self):\n",
    "        state = self.env.reset()\n",
    "    \n",
    "        return self.processState(state)\n",
    "    \n",
    "    def make_step(self, action, render = False):\n",
    "        action = self.processAction(action)\n",
    "    \n",
    "        state, ret1, ret2, ret3 = self.env.step(action)\n",
    "    \n",
    "        if render:\n",
    "            self.env.render()\n",
    "    \n",
    "        return self.processState(state), ret1, ret2, ret3"
   ]
  },
  {
   "cell_type": "code",
   "execution_count": 6,
   "metadata": {
    "collapsed": false
   },
   "outputs": [],
   "source": [
    "class CartPole_wrapper():\n",
    "    def __init__(self):\n",
    "        self.state_size = (1, 4)\n",
    "        self.game_title = \"CartPole-v0\"\n",
    "        self.actions = [\"LEFT\", \"RIGHT\"]\n",
    "        self.n_actions = len(self.actions)\n",
    "        try:\n",
    "            self.env = gym.make(self.game_title)\n",
    "        except:\n",
    "            print (\"ERROR : Can't find \" + self.game_title + \" environment.\")\n",
    "            return None\n",
    "        self.env.reset()\n",
    "    \n",
    "    def processState(self, state):\n",
    "        return state.reshape(1, -1)\n",
    "    \n",
    "    def processAction(self, action):\n",
    "        return action\n",
    "    \n",
    "    def make_reset(self):\n",
    "        state = self.env.reset()\n",
    "    \n",
    "        return self.processState(state)\n",
    "    \n",
    "    def make_step(self, action, render = False):\n",
    "        action = self.processAction(action)\n",
    "    \n",
    "        state, ret1, ret2, ret3 = self.env.step(action)\n",
    "    \n",
    "        if render:\n",
    "            self.env.render()\n",
    "    \n",
    "        return self.processState(state), ret1, ret2, ret3"
   ]
  },
  {
   "cell_type": "code",
   "execution_count": 7,
   "metadata": {
    "collapsed": false
   },
   "outputs": [],
   "source": [
    "class AVQ_nn():\n",
    "    def __init__(self, channels_number = 4, image_shape = (1, 8), n_actions = 4, grad_clipping = 10, lr = 0.0001, \n",
    "                 encodeunits = 10, encodenoise = 0.1, aelosscoef = 0.1, regaelosscoef = 2.0):\n",
    "        self.input_var = T.tensor4('statebatch')\n",
    "        self.targetQ = T.fvector('targetQ')\n",
    "        self.actions = T.ivector('actions')\n",
    "        self.newstates = T.tensor4(\"newstatebatch\")\n",
    "        self.actions_onehot = T.extra_ops.to_one_hot(self.actions, n_actions, dtype=np.float32)\n",
    "        \n",
    "        self.aelosscoef = aelosscoef\n",
    "        self.regaelosscoef = regaelosscoef\n",
    "        self.n_actions = n_actions\n",
    "        self.build_network(channels_number, image_shape, encodeunits, encodenoise)\n",
    "        self.build_AVQ(grad_clipping, lr)\n",
    "        self.compile_network()\n",
    "        \n",
    "    def build_network(self, channels_number, image_shape, encodeunits, encodenoise):\n",
    "        self.l1 = lasagne.layers.InputLayer(shape=(None, channels_number, image_shape[0], image_shape[1]), \n",
    "                                            input_var = self.input_var)\n",
    "        self.l2 = lasagne.layers.DenseLayer(self.l1, 60, nonlinearity=lasagne.nonlinearities.leaky_rectify)\n",
    "        self.l3 = lasagne.layers.DenseLayer(self.l2, 40, nonlinearity=lasagne.nonlinearities.leaky_rectify)\n",
    "        self.outlayer = lasagne.layers.DenseLayer(self.l3, 20, nonlinearity=lasagne.nonlinearities.leaky_rectify)\n",
    "        self.encode = lasagne.layers.DenseLayer(self.outlayer, encodeunits, nonlinearity=lasagne.nonlinearities.sigmoid)\n",
    "        self.encodenoise = lasagne.layers.GaussianNoiseLayer(self.encode, sigma = encodenoise)\n",
    "        self.le3 = lasagne.layers.DenseLayer(self.encodenoise, 20, nonlinearity=lasagne.nonlinearities.leaky_rectify)\n",
    "        self.le2 = lasagne.layers.DenseLayer(self.le3, 40, nonlinearity=lasagne.nonlinearities.leaky_rectify)\n",
    "        self.le1 = lasagne.layers.DenseLayer(self.le2, 60, nonlinearity=lasagne.nonlinearities.leaky_rectify)\n",
    "        self.le0 = lasagne.layers.DenseLayer(self.le1, channels_number * image_shape[0] * image_shape[1])\n",
    "        self.l_aeout = lasagne.layers.ReshapeLayer(self.le0, shape=(-1, channels_number, image_shape[0], image_shape[1]))\n",
    "    \n",
    "    def build_AVQ(self, grad_clipping, lr):\n",
    "        self.l_advantage = lasagne.layers.DenseLayer(self.outlayer, self.n_actions)\n",
    "        self.l_value = lasagne.layers.DenseLayer(self.outlayer, 1)\n",
    "        \n",
    "        self.advantage, self.value, self.ae_out, self.enc = lasagne.layers.get_output([self.l_advantage, self.l_value, self.l_aeout, self.encode])\n",
    "        \n",
    "        self.average_advantage = T.mean(self.advantage, keepdims = True, axis = 1)\n",
    "        \n",
    "#        self.Qout = self.advantage + self.value - self.average_advantage\n",
    "        self.Qout = self.advantage\n",
    "        self.predict = T.argmax(self.Qout, axis = 1)\n",
    "        \n",
    "        self.Q = T.sum(self.Qout * self.actions_onehot, axis = 1)\n",
    "        \n",
    "        self.regae_error = 0.25 - T.mean(T.sqr(self.enc - 0.5))\n",
    "        self.ae_error = T.mean(T.sqr(self.ae_out - self.input_var))\n",
    "        self.td_error = T.mean(T.sqr(self.targetQ - self.Q))\n",
    "        \n",
    "        self.loss = self.ae_error * self.aelosscoef + self.regaelosscoef * self.regae_error + self.td_error\n",
    "        params = self.get_all_params()\n",
    "        self.all_grads = T.grad(self.loss, params)\n",
    "        self.scaled_grads = lasagne.updates.total_norm_constraint(self.all_grads, grad_clipping)\n",
    "        self.updates = lasagne.updates.adam(self.scaled_grads, params, learning_rate=lr)\n",
    "\n",
    "        enc_layers = [self.l2, self.l3, self.outlayer, self.encode, self.le3, self.le2, self.le1, self.le0]\n",
    "        enc_params = [l.W for l in enc_layers] + [l.b for l in enc_layers]\n",
    "        self.enc_grads = T.grad(self.ae_error, enc_params)\n",
    "        self.enc_scaled_grads = lasagne.updates.total_norm_constraint(self.enc_grads, grad_clipping)\n",
    "        self.enc_updates = lasagne.updates.adam(self.enc_scaled_grads, enc_params, learning_rate=lr)\n",
    "        \n",
    "    def compile_network(self):\n",
    "        self.Qout_fn = theano.function([self.input_var], self.Qout)\n",
    "        self.actionpred_fn = theano.function([self.input_var], self.predict)\n",
    "        self.train_fn = theano.function([self.input_var, self.targetQ, self.actions], [self.ae_error, self.td_error], updates = self.updates)\n",
    "        self.train_encoder = theano.function([self.input_var], self.ae_error, updates = self.enc_updates)\n",
    "        self.get_encode = theano.function([self.input_var], [self.enc, self.regae_error])\n",
    "        \n",
    "    def get_all_params(self):\n",
    "#        return lasagne.layers.get_all_params([self.l_advantage, self.l_value], trainable = True)\n",
    "        return lasagne.layers.get_all_params(self.l_advantage, trainable = True)\n",
    "    \n",
    "    def get_all_params_values(self):\n",
    "#        return lasagne.layers.get_all_param_values([self.l_advantage, self.l_value], trainable = True)\n",
    "        return lasagne.layers.get_all_param_values(self.l_advantage, trainable = True)\n",
    "    \n",
    "    def set_all_params_values(self, values):\n",
    "#        return lasagne.layers.set_all_param_values([self.l_advantage, self.l_value], values, trainable = True)\n",
    "        return lasagne.layers.set_all_param_values(self.l_advantage, values, trainable = True)"
   ]
  },
  {
   "cell_type": "code",
   "execution_count": 8,
   "metadata": {
    "collapsed": true
   },
   "outputs": [],
   "source": [
    "class experience_buffer():\n",
    "    def __init__(self, buffer_size = 10000):\n",
    "        self.buffer = []\n",
    "        self.buffer_size = buffer_size\n",
    "    \n",
    "    def add(self, experience):\n",
    "        if len(self.buffer) + len(experience) >= self.buffer_size:\n",
    "            self.buffer[0:(len(experience)+len(self.buffer))-self.buffer_size] = []\n",
    "        self.buffer.extend(experience)\n",
    "            \n",
    "    def sample(self, size):\n",
    "        size = min(size, len(self.buffer))\n",
    "        return np.reshape(np.array(random.sample(self.buffer, size)),[size,5])"
   ]
  },
  {
   "cell_type": "code",
   "execution_count": 9,
   "metadata": {
    "collapsed": false
   },
   "outputs": [],
   "source": [
    "class window_aggregator():\n",
    "    def __init__(self, window_length, state_shape):\n",
    "        self.state_shape = state_shape\n",
    "        self.window_length = window_length\n",
    "        \n",
    "        assert len(self.state_shape) == 2\n",
    "        assert self.window_length >= 1\n",
    "        \n",
    "        self.start_aggregator_shape = (window_length, state_shape[0], state_shape[1])\n",
    "                                             \n",
    "        self.aggregator = np.zeros(self.start_aggregator_shape)\n",
    "        \n",
    "    def reset(self):\n",
    "        self.aggregator = np.zeros(self.start_aggregator_shape)\n",
    "                                       \n",
    "    def add_state(self, state):\n",
    "        state = np.expand_dims(state, 0)\n",
    "        self.aggregator = np.append(self.aggregator, state, axis = 0)\n",
    "    \n",
    "    def get_window(self):\n",
    "        return self.aggregator[-self.window_length:,:,:]                                                                           "
   ]
  },
  {
   "cell_type": "code",
   "execution_count": 10,
   "metadata": {
    "collapsed": true
   },
   "outputs": [],
   "source": [
    "class egreedy_agent():\n",
    "    def __init__(self, n_actions, actionpred_fn, startE = 1, endE = 0.1, anneling_steps = 50000):\n",
    "        self.startE = startE\n",
    "        self.endE = endE\n",
    "        self.anneling_steps = anneling_steps\n",
    "        self.stepE = (self.startE - self.endE) / self.anneling_steps\n",
    "        self.n_actions = n_actions\n",
    "        self.actionpred_fn = actionpred_fn\n",
    "    \n",
    "    def choose_action(self, state, current_step):\n",
    "        if current_step > self.anneling_steps:\n",
    "            epsilon = self.endE\n",
    "        else:\n",
    "            epsilon = self.startE - self.stepE * current_step\n",
    "        \n",
    "        if np.random.rand(1) < epsilon:\n",
    "            a = np.random.randint(0, self.n_actions)\n",
    "        else:\n",
    "            a = self.actionpred_fn(np.expand_dims(state, axis = 0))[0]\n",
    "            \n",
    "        return a"
   ]
  },
  {
   "cell_type": "code",
   "execution_count": 11,
   "metadata": {
    "collapsed": false
   },
   "outputs": [],
   "source": [
    "class boltzman_agent:\n",
    "    def __init__(self, n_actions, Qout_fn, startT = 1000, endT = 0.1, anneling_steps = 50000):\n",
    "        self.startT = startT\n",
    "        self.endT = endT\n",
    "        self.anneling_steps = anneling_steps\n",
    "        self.logstep = (np.log(startT) - np.log(endT)) / anneling_steps\n",
    "        self.n_actions = n_actions\n",
    "        self.Qout_fn = Qout_fn\n",
    "    \n",
    "    def choose_action(self, state, current_step):\n",
    "        scores = self.Qout_fn(np.expand_dims(state, axis = 0))[0]\n",
    "        if current_step > self.anneling_steps:\n",
    "            exponents = np.exp((scores - np.max(scores)) / self.endT)\n",
    "        else:\n",
    "            current_temp = self.startT / np.exp(self.logstep * current_step)\n",
    "            exponents = np.exp((scores - np.max(scores)) / current_temp)\n",
    "        probs = exponents / np.sum(exponents)\n",
    "        return np.random.choice(self.n_actions, p = probs)"
   ]
  },
  {
   "cell_type": "code",
   "execution_count": null,
   "metadata": {
    "collapsed": true
   },
   "outputs": [],
   "source": []
  },
  {
   "cell_type": "code",
   "execution_count": 12,
   "metadata": {
    "collapsed": false
   },
   "outputs": [],
   "source": [
    "class DDQL():\n",
    "    def __init__(self, lparams, env, agent = {\"agent\":\"egreedy\", \"params\":{}}):\n",
    "        self.grad_clip = lparams[\"grad_clipping\"]\n",
    "        self.lr = lparams[\"learning_rate\"]\n",
    "        self.window_size = lparams[\"window_size\"]\n",
    "        self.encode_unitnum = lparams[\"encode_unitnum\"]\n",
    "        self.encode_noise = lparams[\"encode_noise\"]\n",
    "        self.encode_reward_multiplier = lparams[\"encode_reward_multiplier\"]\n",
    "        self.batch_size = lparams[\"batch_size\"]\n",
    "        self.gamma = lparams[\"gamma\"]\n",
    "        self.MQN_updatefreq = lparams[\"MQN_updatefreq\"]\n",
    "        self.TQN_updatefreq = lparams[\"TQN_updatefreq\"]\n",
    "        self.TQN_updaterate = lparams[\"TQN_updaterate\"]\n",
    "        self.print_freq = lparams[\"print_freq\"]\n",
    "        self.pretrain_steps = lparams[\"pretrain_steps\"]\n",
    "        self.buffer_size = lparams[\"buffer_size\"]\n",
    "        self.pretrain_over = False\n",
    "\n",
    "        \n",
    "        self.env = env\n",
    "        AVQ_params = [self.window_size, self.env.state_size, self.env.n_actions, self.grad_clip, \n",
    "                      self.lr, self.encode_unitnum, self.encode_noise]\n",
    "        self.mainQN = AVQ_nn(*AVQ_params)\n",
    "        self.targetQN = AVQ_nn(*AVQ_params)\n",
    "\n",
    "        self.lList = []\n",
    "        self.rList = []\n",
    "        self.aeList = []\n",
    "        self.encode_counts = defaultdict(int)\n",
    "        self.total_steps = 0\n",
    "        \n",
    "        self.window = window_aggregator(self.window_size, self.env.state_size)\n",
    "        self.experience_storage = experience_buffer(self.buffer_size)\n",
    "        self.agent = self.getAgent(agent[\"agent\"], agent[\"params\"])\n",
    "            \n",
    "    def getAgent(self, agent, agentparams):\n",
    "        if agent == \"egreedy\":\n",
    "            agent = egreedy_agent(self.env.n_actions, self.mainQN.actionpred_fn, **agentparams)\n",
    "        elif agent == \"boltzman\":\n",
    "            agent = boltzman_agent(self.env.n_actions, self.mainQN.Qout_fn, **agentparams)\n",
    "        else:\n",
    "            raise ValueError(\"Unknown agent\")\n",
    "            \n",
    "        return agent\n",
    "            \n",
    "    def updateTarget(self, completeupdate = False):\n",
    "        if completeupdate:\n",
    "            self.targetQN.set_all_params_values(self.mainQN.get_all_params_values())\n",
    "        else:\n",
    "            targetparams = self.targetQN.get_all_params_values()\n",
    "            mainparams = self.mainQN.get_all_params_values()\n",
    "            ur = self.TQN_updaterate\n",
    "        \n",
    "            assert len(targetparams) == len(mainparams)\n",
    "            for k in range(0, len(targetparams)):\n",
    "                targetparams[k] = targetparams[k] * (1.0 - ur) + mainparams[k] * ur\n",
    "        \n",
    "            self.targetQN.set_all_params_values(targetparams)\n",
    "            \n",
    "    def train(self, num_episodes, frame_limit, render = True):\n",
    "        self.updateTarget(True)\n",
    "        self.window.reset()\n",
    "        \n",
    "        for episode_num in tqdm_notebook(range(num_episodes), desc = \"RL train\"):\n",
    "            state = self.env.make_reset()\n",
    "            self.window.add_state(state)\n",
    "            window_state = self.window.get_window()\n",
    "            episode_rewards = np.zeros(frame_limit)\n",
    "            episode_aeerrors = np.array([])\n",
    "            \n",
    "            for iteration in xrange(0, frame_limit):\n",
    "                action = self.agent.choose_action(window_state, self.total_steps)\n",
    "                new_state, reward, gameover, _ = self.env.make_step(action, render)\n",
    "                self.window.add_state(new_state)\n",
    "                new_window_state = self.window.get_window()\n",
    "                experience = np.reshape(np.array([window_state, action, reward, new_window_state, gameover]),[1,5])\n",
    "                self.experience_storage.add(experience)\n",
    "                episode_rewards[iteration] = reward\n",
    "                \n",
    "                if self.pretrain_over:\n",
    "                    self.total_steps += 1\n",
    "                \n",
    "                    if self.total_steps % (self.TQN_updatefreq) == 0:\n",
    "                        self.updateTarget()\n",
    "                \n",
    "                    if self.total_steps % (self.MQN_updatefreq) == 0:\n",
    "                        train_batch = self.experience_storage.sample(self.batch_size)\n",
    "                        old_state_batch = np.stack(train_batch[:,0])\n",
    "                        new_state_batch = np.stack(train_batch[:,3])\n",
    "                        action_vector = (train_batch[:,1]).astype(np.int32)\n",
    "                        end_multiplier = -(train_batch[:,4] - 1)\n",
    "                        rewards_vector = train_batch[:,2]\n",
    "                        \n",
    "                        encodes, reg_errors = self.mainQN.get_encode(old_state_batch)\n",
    "                        encodes = [\"\".join([str(k) for k in encode]) for encode in (encodes > 0.5).astype(int)]\n",
    "                        for encode in encodes:\n",
    "                            self.encode_counts[encode] += 1\n",
    "                        encode_rewards = self.encode_reward_multiplier / np.sqrt(np.array([self.encode_counts[encode] for encode in encodes]))\n",
    "                        rewards_vector = rewards_vector + encode_rewards \n",
    "                        \n",
    "                        Q1 = self.mainQN.actionpred_fn(new_state_batch)\n",
    "                        Q2 = self.targetQN.Qout_fn(new_state_batch)\n",
    "                        \n",
    "                        doubleQ = Q2[range(self.batch_size),Q1]\n",
    "                        targetQ = (rewards_vector + (self.gamma * doubleQ * end_multiplier)).astype(np.float32)\n",
    "                        \n",
    "                        aeerror, tderror = self.mainQN.train_fn(old_state_batch, targetQ, action_vector)\n",
    "                        episode_aeerrors = np.append(episode_aeerrors, aeerror)\n",
    "                else:\n",
    "                    train_batch = self.experience_storage.sample(self.batch_size)\n",
    "                    old_state_batch = np.stack(train_batch[:,0])\n",
    "                    new_state_batch = np.stack(train_batch[:,3])\n",
    "                    action_vector = (train_batch[:,1]).astype(np.int32)\n",
    "                    aeerror1 = self.mainQN.train_encoder(old_state_batch)\n",
    "                    aeerror2 = self.mainQN.train_encoder(new_state_batch)\n",
    "                    episode_aeerrors = np.append(episode_aeerrors, (aeerror1 + aeerror2)/2)\n",
    "                    \n",
    "                    self.pretrain_steps -= 1;\n",
    "                    if self.pretrain_steps <= 0:\n",
    "                        self.pretrain_over = True\n",
    "                        \n",
    "                state = new_state\n",
    "                window_state = new_window_state\n",
    "            \n",
    "                if gameover:\n",
    "                    self.window.reset()\n",
    "                    break\n",
    "    \n",
    "            total_reward = np.sum(episode_rewards)\n",
    "            total_aeerror = np.mean(episode_aeerrors)\n",
    "            self.lList.append(iteration)\n",
    "            self.rList.append(total_reward)\n",
    "            self.aeList.append(total_aeerror)\n",
    "            if len(self.rList) % self.print_freq == 0:\n",
    "                tqdm.write(\" \".join([\"========= Episode\", str(episode_num), \"================================================\"]))\n",
    "                tqdm.write(\" \".join([\"Total steps:\", str(self.total_steps)]))\n",
    "                tqdm.write(\" \".join([\"Episode rewards, last 10:\", str(self.rList[-10:])]))\n",
    "                tqdm.write(\" \".join([\"Mean over last\", str(self.print_freq), \"episodes:\", str(np.mean(self.rList[-self.print_freq:]))]))\n",
    "                tqdm.write(\" \".join([\"Episode lengths, last 10:\", str(self.lList[-10:])]))\n",
    "                tqdm.write(\" \".join([\"AEerror, mean over last 10:\", str(np.mean(self.aeList[-10:]))]))\n",
    "                tqdm.write(\"===================================================================\" + \"=\" * len(str(episode_num)))"
   ]
  },
  {
   "cell_type": "code",
   "execution_count": null,
   "metadata": {
    "collapsed": true
   },
   "outputs": [],
   "source": []
  },
  {
   "cell_type": "code",
   "execution_count": 13,
   "metadata": {
    "collapsed": true
   },
   "outputs": [],
   "source": [
    "def plot_rewards(ddqlmodel, meanwindow = 250):\n",
    "    rlist = [ddqlmodel.rList[0]] * meanwindow + ddqlmodel.rList\n",
    "    x = np.cumsum(ddqlmodel.lList)\n",
    "    y = [np.mean(rlist[k:k+meanwindow]) for k in range(len(rlist) - meanwindow)]\n",
    "    plt.plot(x, y)"
   ]
  },
  {
   "cell_type": "code",
   "execution_count": 14,
   "metadata": {
    "collapsed": false
   },
   "outputs": [
    {
     "name": "stderr",
     "output_type": "stream",
     "text": [
      "[2017-05-14 15:28:32,345] Making new env: CartPole-v0\n"
     ]
    }
   ],
   "source": [
    "#llenv = LunarLanding_wrapper()\n",
    "cp_env = CartPole_wrapper()"
   ]
  },
  {
   "cell_type": "code",
   "execution_count": 15,
   "metadata": {
    "collapsed": false
   },
   "outputs": [],
   "source": [
    "lparams = {\"grad_clipping\" : 50,\n",
    "           \"learning_rate\" : 0.005,\n",
    "           \"window_size\" : 3,\n",
    "           \"encode_unitnum\": 10,\n",
    "           \"encode_noise\": 0.05,\n",
    "           \"encode_reward_multiplier\": 10.0,\n",
    "           \"batch_size\" : 8,\n",
    "           \"buffer_size\" : 128,\n",
    "           \"gamma\" : 0.98,\n",
    "           \"MQN_updatefreq\" : 1,\n",
    "           \"TQN_updatefreq\" : 4,\n",
    "           \"TQN_updaterate\" : 0.2,\n",
    "           \"print_freq\" : 500,\n",
    "           \"pretrain_steps\" : 5000,\n",
    "           \"render\" : False}"
   ]
  },
  {
   "cell_type": "code",
   "execution_count": 16,
   "metadata": {
    "collapsed": true
   },
   "outputs": [],
   "source": [
    "egreedyagentinfo = {\"agent\" : \"egreedy\",\n",
    "                    \"params\" : {\"startE\": 0.5,\n",
    "                                \"endE\" : 0.06,\n",
    "                                \"anneling_steps\":10000}}"
   ]
  },
  {
   "cell_type": "code",
   "execution_count": 17,
   "metadata": {
    "collapsed": true
   },
   "outputs": [],
   "source": [
    "boltzmanagentinfo = {\"agent\" : \"boltzman\",\n",
    "                     \"params\" : {\"startT\": 10,\n",
    "                                 \"endT\" : 1,\n",
    "                                 \"anneling_steps\":10000}}"
   ]
  },
  {
   "cell_type": "code",
   "execution_count": null,
   "metadata": {
    "collapsed": false
   },
   "outputs": [],
   "source": [
    "ddql = DDQL(lparams, cpenv, egreedyagentinfo)"
   ]
  },
  {
   "cell_type": "code",
   "execution_count": null,
   "metadata": {
    "collapsed": false,
    "scrolled": true
   },
   "outputs": [],
   "source": [
    "ddql.train(num_episodes = 3000, frame_limit = 500, render = False)"
   ]
  },
  {
   "cell_type": "code",
   "execution_count": null,
   "metadata": {
    "collapsed": false
   },
   "outputs": [],
   "source": [
    "plot_rewards(ddql, 500)"
   ]
  },
  {
   "cell_type": "markdown",
   "metadata": {},
   "source": [
    "Алгоритм с учитыванием частоты посещения состояний. Подсчет посещения состояний определяется с использованием автоэнкодера, в котором все нейроны центрального слоя (с сигмоидной функцией активации) регуляризуются для помещения значений либо у нуля, либо у единицы. Эта регуляризация осуществляется с помощью изменения оптимизируемой функции потерь и с помощью добавления слоя гауссового шума после центрального слоя."
   ]
  },
  {
   "cell_type": "markdown",
   "metadata": {},
   "source": [
    "Стабильность подобной кодировки можно ожидать из-за того, что сигмоидные нейроны быстро насыщаются, предотвращая значительные их колебания во время динамического обучения"
   ]
  },
  {
   "cell_type": "markdown",
   "metadata": {},
   "source": [
    "Каждому действию агента добавляется дополнительная награда, причем она обратно пропорциональна количеству раз, которые агент бывал в этом состоянии(если точнее, то количеству раз, которые агент бывал в состояниях, имеющих ту же бинарную кодировку автоэнкодера, что и текущее)"
   ]
  },
  {
   "cell_type": "code",
   "execution_count": null,
   "metadata": {
    "collapsed": true
   },
   "outputs": [],
   "source": []
  },
  {
   "cell_type": "code",
   "execution_count": 18,
   "metadata": {
    "collapsed": true
   },
   "outputs": [],
   "source": [
    "def produce_experiment(ddql, ddql_init_params, ddql_train_params, experiment_num = 5):\n",
    "    ddql_list = [ddql(**ddql_init_params) for k in range(experiment_num)]\n",
    "    \n",
    "    for k in range(experiment_num):\n",
    "        ddql_list[k].train(**ddql_train_params)\n",
    "        \n",
    "    return ddql_list"
   ]
  },
  {
   "cell_type": "code",
   "execution_count": 19,
   "metadata": {
    "collapsed": false
   },
   "outputs": [],
   "source": [
    "ddql_egreedy_params = {\"lparams\":lparams, \"env\":cp_env, \"agent\":egreedyagentinfo}\n",
    "\n",
    "ddql_train_params = {\"num_episodes\":2500, \"frame_limit\":500, \"render\":False}"
   ]
  },
  {
   "cell_type": "code",
   "execution_count": 20,
   "metadata": {
    "collapsed": false
   },
   "outputs": [
    {
     "name": "stdout",
     "output_type": "stream",
     "text": [
      "========= Episode 499 ================================================\n",
      "Total steps: 35336\n",
      "Episode rewards, last 10: [103.0, 45.0, 33.0, 17.0, 36.0, 25.0, 27.0, 34.0, 500.0, 129.0]\n",
      "Mean over last 500 episodes: 80.672\n",
      "Episode lengths, last 10: [102, 44, 32, 16, 35, 24, 26, 33, 499, 128]\n",
      "AEerror, mean over last 10: 0.404199413493\n",
      "======================================================================\n",
      "========= Episode 999 ================================================\n",
      "Total steps: 125882\n",
      "Episode rewards, last 10: [55.0, 39.0, 9.0, 29.0, 28.0, 14.0, 19.0, 265.0, 32.0, 13.0]\n",
      "Mean over last 500 episodes: 181.092\n",
      "Episode lengths, last 10: [54, 38, 8, 28, 27, 13, 18, 264, 31, 12]\n",
      "AEerror, mean over last 10: 0.416016125851\n",
      "======================================================================\n",
      "========= Episode 1499 ================================================\n",
      "Total steps: 215340\n",
      "Episode rewards, last 10: [472.0, 274.0, 271.0, 14.0, 10.0, 27.0, 193.0, 187.0, 159.0, 139.0]\n",
      "Mean over last 500 episodes: 178.916\n",
      "Episode lengths, last 10: [471, 273, 270, 13, 9, 26, 192, 186, 158, 138]\n",
      "AEerror, mean over last 10: 0.417729565599\n",
      "=======================================================================\n",
      "========= Episode 1999 ================================================\n",
      "Total steps: 310170\n",
      "Episode rewards, last 10: [61.0, 54.0, 12.0, 27.0, 38.0, 73.0, 37.0, 57.0, 84.0, 234.0]\n",
      "Mean over last 500 episodes: 189.66\n",
      "Episode lengths, last 10: [60, 53, 11, 26, 37, 72, 36, 56, 83, 233]\n",
      "AEerror, mean over last 10: 0.465546069152\n",
      "=======================================================================\n",
      "========= Episode 2499 ================================================\n",
      "Total steps: 394088\n",
      "Episode rewards, last 10: [84.0, 90.0, 91.0, 107.0, 112.0, 224.0, 23.0, 44.0, 42.0, 133.0]\n",
      "Mean over last 500 episodes: 167.836\n",
      "Episode lengths, last 10: [83, 89, 90, 106, 111, 223, 22, 43, 41, 132]\n",
      "AEerror, mean over last 10: 0.444121031196\n",
      "=======================================================================\n",
      "\n",
      "========= Episode 499 ================================================\n",
      "Total steps: 15738\n",
      "Episode rewards, last 10: [123.0, 106.0, 22.0, 114.0, 175.0, 500.0, 339.0, 142.0, 358.0, 162.0]\n",
      "Mean over last 500 episodes: 41.476\n",
      "Episode lengths, last 10: [122, 105, 21, 113, 174, 499, 338, 141, 357, 161]\n",
      "AEerror, mean over last 10: 0.530862295438\n",
      "======================================================================\n",
      "========= Episode 999 ================================================\n",
      "Total steps: 92176\n",
      "Episode rewards, last 10: [13.0, 23.0, 13.0, 33.0, 37.0, 129.0, 208.0, 128.0, 102.0, 48.0]\n",
      "Mean over last 500 episodes: 152.876\n",
      "Episode lengths, last 10: [12, 22, 12, 32, 36, 128, 207, 127, 101, 47]\n",
      "AEerror, mean over last 10: 0.359450488389\n",
      "======================================================================\n",
      "========= Episode 1499 ================================================\n",
      "Total steps: 187411\n",
      "Episode rewards, last 10: [12.0, 454.0, 325.0, 158.0, 500.0, 223.0, 12.0, 10.0, 11.0, 31.0]\n",
      "Mean over last 500 episodes: 190.47\n",
      "Episode lengths, last 10: [11, 453, 324, 157, 499, 222, 11, 9, 10, 30]\n",
      "AEerror, mean over last 10: 0.542115798071\n",
      "=======================================================================\n",
      "========= Episode 1999 ================================================\n",
      "Total steps: 288376\n",
      "Episode rewards, last 10: [107.0, 108.0, 101.0, 100.0, 38.0, 92.0, 30.0, 215.0, 108.0, 111.0]\n",
      "Mean over last 500 episodes: 201.93\n",
      "Episode lengths, last 10: [106, 107, 100, 99, 37, 91, 29, 214, 107, 110]\n",
      "AEerror, mean over last 10: 0.637536149998\n",
      "=======================================================================\n",
      "========= Episode 2499 ================================================\n",
      "Total steps: 364797\n",
      "Episode rewards, last 10: [15.0, 19.0, 23.0, 22.0, 62.0, 54.0, 48.0, 29.0, 48.0, 52.0]\n",
      "Mean over last 500 episodes: 152.842\n",
      "Episode lengths, last 10: [14, 18, 22, 21, 61, 53, 47, 28, 47, 51]\n",
      "AEerror, mean over last 10: 0.7223323535\n",
      "=======================================================================\n",
      "\n",
      "========= Episode 499 ================================================\n",
      "Total steps: 13355\n",
      "Episode rewards, last 10: [234.0, 151.0, 134.0, 147.0, 143.0, 133.0, 144.0, 136.0, 151.0, 96.0]\n",
      "Mean over last 500 episodes: 36.71\n",
      "Episode lengths, last 10: [233, 150, 133, 146, 142, 132, 143, 135, 150, 95]\n",
      "AEerror, mean over last 10: 0.539584894612\n",
      "======================================================================\n",
      "========= Episode 999 ================================================\n",
      "Total steps: 121029\n",
      "Episode rewards, last 10: [170.0, 12.0, 158.0, 131.0, 137.0, 118.0, 143.0, 139.0, 279.0, 187.0]\n",
      "Mean over last 500 episodes: 215.348\n",
      "Episode lengths, last 10: [169, 11, 157, 130, 136, 117, 142, 138, 278, 186]\n",
      "AEerror, mean over last 10: 0.606965190474\n",
      "======================================================================\n",
      "========= Episode 1499 ================================================\n",
      "Total steps: 240272\n",
      "Episode rewards, last 10: [500.0, 500.0, 500.0, 500.0, 500.0, 500.0, 500.0, 13.0, 288.0, 500.0]\n",
      "Mean over last 500 episodes: 238.486\n",
      "Episode lengths, last 10: [499, 499, 499, 499, 499, 499, 499, 12, 287, 499]\n",
      "AEerror, mean over last 10: 0.863330352484\n",
      "=======================================================================\n",
      "========= Episode 1999 ================================================\n",
      "Total steps: 361519\n",
      "Episode rewards, last 10: [147.0, 96.0, 17.0, 28.0, 19.0, 17.0, 55.0, 23.0, 31.0, 133.0]\n",
      "Mean over last 500 episodes: 242.494\n",
      "Episode lengths, last 10: [146, 95, 16, 27, 18, 16, 54, 22, 30, 132]\n",
      "AEerror, mean over last 10: 0.486910263663\n",
      "=======================================================================\n",
      "========= Episode 2499 ================================================\n",
      "Total steps: 466788\n",
      "Episode rewards, last 10: [500.0, 500.0, 500.0, 142.0, 55.0, 500.0, 500.0, 500.0, 500.0, 500.0]\n",
      "Mean over last 500 episodes: 210.538\n",
      "Episode lengths, last 10: [499, 499, 499, 141, 54, 499, 499, 499, 499, 499]\n",
      "AEerror, mean over last 10: 0.138697876017\n",
      "=======================================================================\n",
      "\n",
      "========= Episode 499 ================================================\n",
      "Total steps: 33935\n",
      "Episode rewards, last 10: [453.0, 78.0, 67.0, 40.0, 12.0, 32.0, 66.0, 78.0, 127.0, 47.0]\n",
      "Mean over last 500 episodes: 77.87\n",
      "Episode lengths, last 10: [452, 77, 66, 39, 11, 31, 65, 77, 126, 46]\n",
      "AEerror, mean over last 10: 0.424880858196\n",
      "======================================================================\n",
      "========= Episode 999 ================================================\n",
      "Total steps: 124282\n",
      "Episode rewards, last 10: [15.0, 24.0, 23.0, 13.0, 89.0, 131.0, 267.0, 14.0, 135.0, 332.0]\n",
      "Mean over last 500 episodes: 180.694\n",
      "Episode lengths, last 10: [14, 23, 22, 12, 88, 130, 266, 13, 134, 331]\n",
      "AEerror, mean over last 10: 0.258375927224\n",
      "======================================================================\n",
      "========= Episode 1499 ================================================\n",
      "Total steps: 221329\n",
      "Episode rewards, last 10: [22.0, 11.0, 43.0, 500.0, 500.0, 500.0, 500.0, 500.0, 425.0, 164.0]\n",
      "Mean over last 500 episodes: 194.094\n",
      "Episode lengths, last 10: [21, 10, 42, 499, 499, 499, 499, 499, 424, 163]\n",
      "AEerror, mean over last 10: 0.25284128148\n",
      "=======================================================================\n",
      "========= Episode 1999 ================================================\n",
      "Total steps: 326581\n",
      "Episode rewards, last 10: [500.0, 500.0, 500.0, 500.0, 262.0, 500.0, 500.0, 500.0, 443.0, 12.0]\n",
      "Mean over last 500 episodes: 210.504\n",
      "Episode lengths, last 10: [499, 499, 499, 499, 261, 499, 499, 499, 442, 11]\n",
      "AEerror, mean over last 10: 0.247385155371\n",
      "=======================================================================\n",
      "========= Episode 2499 ================================================\n",
      "Total steps: 434541\n",
      "Episode rewards, last 10: [500.0, 500.0, 500.0, 500.0, 500.0, 95.0, 48.0, 437.0, 117.0, 302.0]\n",
      "Mean over last 500 episodes: 215.92\n",
      "Episode lengths, last 10: [499, 499, 499, 499, 499, 94, 47, 436, 116, 301]\n",
      "AEerror, mean over last 10: 0.153163839293\n",
      "=======================================================================\n",
      "\n",
      "========= Episode 499 ================================================\n",
      "Total steps: 1682\n",
      "Episode rewards, last 10: [21.0, 10.0, 13.0, 11.0, 18.0, 10.0, 15.0, 11.0, 15.0, 11.0]\n",
      "Mean over last 500 episodes: 13.364\n",
      "Episode lengths, last 10: [20, 9, 12, 10, 17, 9, 14, 10, 14, 10]\n",
      "AEerror, mean over last 10: 0.398035971468\n",
      "======================================================================\n",
      "========= Episode 999 ================================================\n",
      "Total steps: 81505\n",
      "Episode rewards, last 10: [140.0, 127.0, 160.0, 159.0, 160.0, 131.0, 128.0, 134.0, 178.0, 113.0]\n",
      "Mean over last 500 episodes: 159.646\n",
      "Episode lengths, last 10: [139, 126, 159, 158, 159, 130, 127, 133, 177, 112]\n",
      "AEerror, mean over last 10: 0.705770714733\n",
      "======================================================================\n",
      "========= Episode 1499 ================================================\n",
      "Total steps: 180223\n",
      "Episode rewards, last 10: [500.0, 500.0, 500.0, 500.0, 500.0, 475.0, 50.0, 45.0, 500.0, 20.0]\n",
      "Mean over last 500 episodes: 197.436\n",
      "Episode lengths, last 10: [499, 499, 499, 499, 499, 474, 49, 44, 499, 19]\n",
      "AEerror, mean over last 10: 0.582751176062\n",
      "=======================================================================\n",
      "========= Episode 1999 ================================================\n",
      "Total steps: 276743\n",
      "Episode rewards, last 10: [34.0, 89.0, 36.0, 93.0, 275.0, 107.0, 110.0, 107.0, 113.0, 162.0]\n",
      "Mean over last 500 episodes: 193.04\n",
      "Episode lengths, last 10: [33, 88, 35, 92, 274, 106, 109, 106, 112, 161]\n",
      "AEerror, mean over last 10: 0.536227975675\n",
      "=======================================================================\n",
      "========= Episode 2499 ================================================\n",
      "Total steps: 391596\n",
      "Episode rewards, last 10: [227.0, 500.0, 345.0, 500.0, 500.0, 475.0, 11.0, 500.0, 19.0, 41.0]\n",
      "Mean over last 500 episodes: 229.706\n",
      "Episode lengths, last 10: [226, 499, 344, 499, 499, 474, 10, 499, 18, 40]\n",
      "AEerror, mean over last 10: 0.632972288491\n",
      "=======================================================================\n",
      "\n",
      "========= Episode 499 ================================================\n",
      "Total steps: 15490\n",
      "Episode rewards, last 10: [71.0, 12.0, 10.0, 17.0, 11.0, 41.0, 11.0, 11.0, 65.0, 111.0]\n",
      "Mean over last 500 episodes: 40.98\n",
      "Episode lengths, last 10: [70, 11, 9, 16, 10, 40, 10, 10, 64, 110]\n",
      "AEerror, mean over last 10: 0.505180539437\n",
      "======================================================================\n",
      "========= Episode 999 ================================================\n",
      "Total steps: 122670\n",
      "Episode rewards, last 10: [50.0, 500.0, 500.0, 146.0, 19.0, 44.0, 13.0, 30.0, 33.0, 169.0]\n",
      "Mean over last 500 episodes: 214.36\n",
      "Episode lengths, last 10: [49, 499, 499, 145, 18, 43, 12, 29, 32, 168]\n",
      "AEerror, mean over last 10: 0.509074165834\n",
      "======================================================================\n",
      "========= Episode 1499 ================================================\n",
      "Total steps: 233980\n",
      "Episode rewards, last 10: [139.0, 135.0, 121.0, 143.0, 121.0, 125.0, 55.0, 55.0, 12.0, 36.0]\n",
      "Mean over last 500 episodes: 222.62\n",
      "Episode lengths, last 10: [138, 134, 120, 142, 120, 124, 54, 54, 11, 35]\n",
      "AEerror, mean over last 10: 0.781456165398\n",
      "=======================================================================\n",
      "========= Episode 1999 ================================================\n",
      "Total steps: 329625\n",
      "Episode rewards, last 10: [57.0, 59.0, 37.0, 46.0, 249.0, 54.0, 47.0, 202.0, 213.0, 203.0]\n",
      "Mean over last 500 episodes: 191.29\n",
      "Episode lengths, last 10: [56, 58, 36, 45, 248, 53, 46, 201, 212, 202]\n",
      "AEerror, mean over last 10: 0.166522028954\n",
      "=======================================================================\n",
      "========= Episode 2499 ================================================\n",
      "Total steps: 422954\n",
      "Episode rewards, last 10: [467.0, 84.0, 188.0, 54.0, 201.0, 189.0, 151.0, 132.0, 112.0, 104.0]\n",
      "Mean over last 500 episodes: 186.658\n",
      "Episode lengths, last 10: [466, 83, 187, 53, 200, 188, 150, 131, 111, 103]\n",
      "AEerror, mean over last 10: 0.423341667352\n",
      "=======================================================================\n",
      "\n",
      "========= Episode 499 ================================================\n",
      "Total steps: 44569\n",
      "Episode rewards, last 10: [142.0, 283.0, 500.0, 500.0, 500.0, 500.0, 500.0, 500.0, 390.0, 47.0]\n",
      "Mean over last 500 episodes: 99.138\n",
      "Episode lengths, last 10: [141, 282, 499, 499, 499, 499, 499, 499, 389, 46]\n",
      "AEerror, mean over last 10: 0.264565156721\n",
      "======================================================================\n",
      "========= Episode 999 ================================================\n",
      "Total steps: 136906\n",
      "Episode rewards, last 10: [457.0, 308.0, 91.0, 69.0, 92.0, 500.0, 500.0, 500.0, 500.0, 500.0]\n",
      "Mean over last 500 episodes: 184.674\n",
      "Episode lengths, last 10: [456, 307, 90, 68, 91, 499, 499, 499, 499, 499]\n",
      "AEerror, mean over last 10: 0.309244077256\n",
      "======================================================================\n",
      "========= Episode 1499 ================================================\n",
      "Total steps: 222359\n",
      "Episode rewards, last 10: [10.0, 25.0, 72.0, 66.0, 500.0, 500.0, 203.0, 500.0, 103.0, 500.0]\n",
      "Mean over last 500 episodes: 170.906\n",
      "Episode lengths, last 10: [9, 24, 71, 65, 499, 499, 202, 499, 102, 499]\n",
      "AEerror, mean over last 10: 0.291188497243\n",
      "=======================================================================\n",
      "========= Episode 1999 ================================================\n",
      "Total steps: 314659\n",
      "Episode rewards, last 10: [92.0, 15.0, 18.0, 13.0, 14.0, 108.0, 122.0, 98.0, 137.0, 132.0]\n",
      "Mean over last 500 episodes: 184.6\n",
      "Episode lengths, last 10: [91, 14, 17, 12, 13, 107, 121, 97, 136, 131]\n",
      "AEerror, mean over last 10: 0.338505266073\n",
      "=======================================================================\n",
      "========= Episode 2499 ================================================\n",
      "Total steps: 420500\n",
      "Episode rewards, last 10: [102.0, 147.0, 121.0, 97.0, 106.0, 94.0, 111.0, 96.0, 214.0, 13.0]\n",
      "Mean over last 500 episodes: 211.682\n",
      "Episode lengths, last 10: [101, 146, 120, 96, 105, 93, 110, 95, 213, 12]\n",
      "AEerror, mean over last 10: 0.273338757157\n",
      "=======================================================================\n",
      "\n",
      "========= Episode 499 ================================================\n",
      "Total steps: 2052\n",
      "Episode rewards, last 10: [12.0, 25.0, 19.0, 14.0, 12.0, 11.0, 9.0, 11.0, 10.0, 10.0]\n",
      "Mean over last 500 episodes: 14.104\n",
      "Episode lengths, last 10: [11, 24, 18, 13, 11, 10, 8, 10, 9, 9]\n",
      "AEerror, mean over last 10: 0.363369532646\n",
      "======================================================================\n",
      "========= Episode 999 ================================================\n",
      "Total steps: 7712\n",
      "Episode rewards, last 10: [10.0, 12.0, 10.0, 11.0, 11.0, 8.0, 12.0, 10.0, 9.0, 10.0]\n",
      "Mean over last 500 episodes: 11.32\n",
      "Episode lengths, last 10: [9, 11, 9, 10, 10, 7, 11, 9, 8, 9]\n",
      "AEerror, mean over last 10: 0.451841705569\n",
      "======================================================================\n",
      "========= Episode 1499 ================================================\n",
      "Total steps: 12606\n",
      "Episode rewards, last 10: [10.0, 10.0, 10.0, 8.0, 10.0, 10.0, 10.0, 9.0, 10.0, 8.0]\n",
      "Mean over last 500 episodes: 9.788\n",
      "Episode lengths, last 10: [9, 9, 9, 7, 9, 9, 9, 8, 9, 7]\n",
      "AEerror, mean over last 10: 0.489530083577\n",
      "=======================================================================\n",
      "========= Episode 1999 ================================================\n",
      "Total steps: 17437\n",
      "Episode rewards, last 10: [9.0, 9.0, 11.0, 10.0, 11.0, 10.0, 9.0, 11.0, 9.0, 11.0]\n",
      "Mean over last 500 episodes: 9.662\n",
      "Episode lengths, last 10: [8, 8, 10, 9, 10, 9, 8, 10, 8, 10]\n",
      "AEerror, mean over last 10: 0.54935266542\n",
      "=======================================================================\n",
      "========= Episode 2499 ================================================\n",
      "Total steps: 22264\n",
      "Episode rewards, last 10: [11.0, 8.0, 10.0, 9.0, 8.0, 9.0, 10.0, 9.0, 9.0, 9.0]\n",
      "Mean over last 500 episodes: 9.654\n",
      "Episode lengths, last 10: [10, 7, 9, 8, 7, 8, 9, 8, 8, 8]\n",
      "AEerror, mean over last 10: 0.576293698092\n",
      "=======================================================================\n",
      "\n",
      "========= Episode 499 ================================================\n",
      "Total steps: 9525\n",
      "Episode rewards, last 10: [130.0, 385.0, 454.0, 500.0, 129.0, 410.0, 10.0, 24.0, 23.0, 25.0]\n",
      "Mean over last 500 episodes: 29.05\n",
      "Episode lengths, last 10: [129, 384, 453, 499, 128, 409, 9, 23, 22, 24]\n",
      "AEerror, mean over last 10: 0.557928202287\n",
      "======================================================================\n",
      "========= Episode 999 ================================================\n",
      "Total steps: 100982\n",
      "Episode rewards, last 10: [13.0, 14.0, 28.0, 16.0, 53.0, 500.0, 500.0, 311.0, 13.0, 31.0]\n",
      "Mean over last 500 episodes: 182.914\n",
      "Episode lengths, last 10: [12, 13, 27, 15, 52, 499, 499, 310, 12, 30]\n",
      "AEerror, mean over last 10: 0.486026669688\n",
      "======================================================================\n",
      "========= Episode 1499 ================================================\n",
      "Total steps: 196511\n",
      "Episode rewards, last 10: [72.0, 89.0, 68.0, 60.0, 49.0, 74.0, 170.0, 498.0, 297.0, 35.0]\n",
      "Mean over last 500 episodes: 191.058\n",
      "Episode lengths, last 10: [71, 88, 67, 59, 48, 73, 169, 497, 296, 34]\n",
      "AEerror, mean over last 10: 0.252968771802\n",
      "=======================================================================\n",
      "========= Episode 1999 ================================================\n",
      "Total steps: 285238\n",
      "Episode rewards, last 10: [65.0, 12.0, 175.0, 155.0, 500.0, 500.0, 500.0, 500.0, 74.0, 36.0]\n",
      "Mean over last 500 episodes: 177.454\n",
      "Episode lengths, last 10: [64, 11, 174, 154, 499, 499, 499, 499, 73, 35]\n",
      "AEerror, mean over last 10: 0.357536982445\n",
      "=======================================================================\n",
      "========= Episode 2499 ================================================\n",
      "Total steps: 393170\n",
      "Episode rewards, last 10: [500.0, 500.0, 500.0, 165.0, 52.0, 500.0, 14.0, 32.0, 17.0, 76.0]\n",
      "Mean over last 500 episodes: 215.864\n",
      "Episode lengths, last 10: [499, 499, 499, 164, 51, 499, 13, 31, 16, 75]\n",
      "AEerror, mean over last 10: 0.234510362071\n",
      "=======================================================================\n",
      "\n",
      "========= Episode 499 ================================================\n",
      "Total steps: 2699\n",
      "Episode rewards, last 10: [10.0, 14.0, 11.0, 12.0, 10.0, 21.0, 10.0, 15.0, 10.0, 18.0]\n",
      "Mean over last 500 episodes: 15.398\n",
      "Episode lengths, last 10: [9, 13, 10, 11, 9, 20, 9, 14, 9, 17]\n",
      "AEerror, mean over last 10: 0.30812881231\n",
      "======================================================================\n",
      "========= Episode 999 ================================================\n",
      "Total steps: 8194\n",
      "Episode rewards, last 10: [11.0, 11.0, 15.0, 11.0, 10.0, 12.0, 11.0, 9.0, 9.0, 10.0]\n",
      "Mean over last 500 episodes: 10.99\n",
      "Episode lengths, last 10: [10, 10, 14, 10, 9, 11, 10, 8, 8, 9]\n",
      "AEerror, mean over last 10: 0.434554755996\n",
      "======================================================================\n",
      "========= Episode 1499 ================================================\n",
      "Total steps: 13031\n",
      "Episode rewards, last 10: [10.0, 11.0, 9.0, 9.0, 10.0, 9.0, 11.0, 8.0, 10.0, 9.0]\n",
      "Mean over last 500 episodes: 9.674\n",
      "Episode lengths, last 10: [9, 10, 8, 8, 9, 8, 10, 7, 9, 8]\n",
      "AEerror, mean over last 10: 0.520789124306\n",
      "=======================================================================\n",
      "========= Episode 1999 ================================================\n",
      "Total steps: 17839\n",
      "Episode rewards, last 10: [9.0, 11.0, 10.0, 10.0, 9.0, 9.0, 10.0, 10.0, 10.0, 9.0]\n",
      "Mean over last 500 episodes: 9.616\n",
      "Episode lengths, last 10: [8, 10, 9, 9, 8, 8, 9, 9, 9, 8]\n",
      "AEerror, mean over last 10: 0.520676481146\n",
      "=======================================================================\n",
      "========= Episode 2499 ================================================\n",
      "Total steps: 22712\n",
      "Episode rewards, last 10: [9.0, 9.0, 10.0, 9.0, 10.0, 9.0, 9.0, 10.0, 8.0, 10.0]\n",
      "Mean over last 500 episodes: 9.746\n",
      "Episode lengths, last 10: [8, 8, 9, 8, 9, 8, 8, 9, 7, 9]\n",
      "AEerror, mean over last 10: 0.522928088506\n",
      "=======================================================================\n",
      "\n"
     ]
    }
   ],
   "source": [
    "res = produce_experiment(DDQL, ddql_egreedy_params, ddql_train_params, 10)"
   ]
  },
  {
   "cell_type": "code",
   "execution_count": null,
   "metadata": {
    "collapsed": true
   },
   "outputs": [],
   "source": []
  },
  {
   "cell_type": "code",
   "execution_count": 24,
   "metadata": {
    "collapsed": true
   },
   "outputs": [],
   "source": [
    "def plot_results(ddql_res, window = 100, std_coef = 0.2, results_over = 1000):\n",
    "    res_lists = [k.rList for k in ddql_res]\n",
    "    res_lists = np.array(res_lists)\n",
    "    pd.DataFrame(data = res_lists)\n",
    "    mean = res_lists.mean(axis = 0)\n",
    "    std = res_lists.std(axis = 0)\n",
    "    rol_mean = np.nan_to_num(pd.Series(mean).rolling(window = window).mean())\n",
    "    rol_std = np.nan_to_num(pd.Series(std).rolling(window = window).mean())\n",
    "    plt.figure()\n",
    "    index = np.arange(len(rol_mean))\n",
    "    plt.plot(index, rol_mean)\n",
    "    plt.fill_between(index, rol_mean-std_coef*rol_std, rol_mean+std_coef*rol_std, color='b', alpha=0.1)\n",
    "    return max(rol_mean[0:results_over]), rol_mean[0:results_over].mean(), pd.DataFrame(data = res_lists)"
   ]
  },
  {
   "cell_type": "code",
   "execution_count": 28,
   "metadata": {
    "collapsed": false
   },
   "outputs": [
    {
     "data": {
      "image/png": "[encoded data removed]",
      "text/plain": [
       "<matplotlib.figure.Figure at 0x13cddd290>"
      ]
     },
     "metadata": {},
     "output_type": "display_data"
    }
   ],
   "source": [
    "count_max, count_auc, count_df = plot_results(res, 100, 0.2)\n",
    "plt.savefig(\"count_cp.png\")"
   ]
  },
  {
   "cell_type": "code",
   "execution_count": 26,
   "metadata": {
    "collapsed": false
   },
   "outputs": [
    {
     "name": "stdout",
     "output_type": "stream",
     "text": [
      "176.103 88.535724\n"
     ]
    }
   ],
   "source": [
    "print count_max, count_auc"
   ]
  },
  {
   "cell_type": "code",
   "execution_count": 27,
   "metadata": {
    "collapsed": true
   },
   "outputs": [],
   "source": [
    "count_df.to_csv(\"count.csv\")"
   ]
  },
  {
   "cell_type": "code",
   "execution_count": null,
   "metadata": {
    "collapsed": true
   },
   "outputs": [],
   "source": []
  }
 ],
 "metadata": {
  "anaconda-cloud": {},
  "kernelspec": {
   "display_name": "Python [conda root]",
   "language": "python",
   "name": "conda-root-py"
  },
  "language_info": {
   "codemirror_mode": {
    "name": "ipython",
    "version": 2
   },
   "file_extension": ".py",
   "mimetype": "text/x-python",
   "name": "python",
   "nbconvert_exporter": "python",
   "pygments_lexer": "ipython2",
   "version": "2.7.13"
  },
  "widgets": {
   "state": {
    "276c8eb4010e4cdb97dd3c2a13417ffd": {
     "views": [
      {
       "cell_index": 29
      }
     ]
    },
    "41121df64b994a7bbf4d9ddb8bcc4c70": {
     "views": [
      {
       "cell_index": 29
      }
     ]
    },
    "632370d7f90340fcb545a4c09ca67dea": {
     "views": [
      {
       "cell_index": 29
      }
     ]
    },
    "98986e1fd57c4bef8a2f5c5598e738bb": {
     "views": [
      {
       "cell_index": 29
      }
     ]
    },
    "a0dc0bad943f417f92eb7c47b35ee9ad": {
     "views": [
      {
       "cell_index": 29
      }
     ]
    },
    "a8fd011534a74c0c98b1e3064ad7a5e8": {
     "views": [
      {
       "cell_index": 29
      }
     ]
    },
    "c7ce587cd4054a59a5f938ace833d9da": {
     "views": [
      {
       "cell_index": 29
      }
     ]
    },
    "c95c8a7d425a41e49478da7843321900": {
     "views": [
      {
       "cell_index": 29
      }
     ]
    },
    "f7bd652c80d64145a9d8c77dd1dc74ea": {
     "views": [
      {
       "cell_index": 29
      }
     ]
    },
    "fe5346e309e4442489d74c1caad41be3": {
     "views": [
      {
       "cell_index": 29
      }
     ]
    }
   },
   "version": "1.2.0"
  }
 },
 "nbformat": 4,
 "nbformat_minor": 0
}
