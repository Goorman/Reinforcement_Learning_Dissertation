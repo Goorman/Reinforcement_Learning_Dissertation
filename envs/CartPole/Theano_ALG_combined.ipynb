{
 "cells": [
  {
   "cell_type": "code",
   "execution_count": 1,
   "metadata": {
    "collapsed": false
   },
   "outputs": [],
   "source": [
    "import scipy\n",
    "import scipy.misc\n",
    "import numpy as np\n",
    "import random\n",
    "import pandas as pd\n",
    "import gym\n",
    "from tqdm import tqdm\n",
    "from tqdm import tqdm_notebook\n",
    "import os\n",
    "from collections import defaultdict\n",
    "import matplotlib.pyplot as plt\n",
    "%matplotlib inline"
   ]
  },
  {
   "cell_type": "code",
   "execution_count": 2,
   "metadata": {
    "collapsed": true
   },
   "outputs": [],
   "source": [
    "import lasagne\n",
    "import theano.tensor as T\n",
    "import theano"
   ]
  },
  {
   "cell_type": "code",
   "execution_count": 3,
   "metadata": {
    "collapsed": false
   },
   "outputs": [],
   "source": [
    "%load_ext autoreload\n",
    "%autoreload 2"
   ]
  },
  {
   "cell_type": "code",
   "execution_count": null,
   "metadata": {
    "collapsed": false
   },
   "outputs": [],
   "source": []
  },
  {
   "cell_type": "code",
   "execution_count": 4,
   "metadata": {
    "collapsed": false
   },
   "outputs": [],
   "source": [
    "class ATARI_wrapper():\n",
    "    def __init__(self, gamename = \"Enduro-v0\"):\n",
    "        self.state_size = (105, 80)\n",
    "        self.game_title = gamename\n",
    "        self.actions = [\"0\", \"1\", \"2\", \"3\", \"4\", \"5\", \"6\", \"7\", \"8\"]\n",
    "        self.n_actions = len(self.actions)\n",
    "        try:\n",
    "            self.env = gym.make(self.game_title)\n",
    "        except:\n",
    "            print (\"ERROR : Can't find \" + self.game_title + \" environment.\")\n",
    "            return None\n",
    "        self.env.reset()\n",
    "    \n",
    "    def processState(self, state):\n",
    "        grayimage = np.mean(state, axis = 2)\n",
    "        downscale = self.downscale2x(grayimage)\n",
    "        norm = (downscale - 128.0) / 128.0\n",
    "        return norm\n",
    "    \n",
    "    def processAction(self, action):\n",
    "        return action\n",
    "    \n",
    "    def make_reset(self):\n",
    "        state = self.env.reset()\n",
    "    \n",
    "        return self.processState(state)\n",
    "    \n",
    "    def make_step(self, action, render = False):\n",
    "        action = self.processAction(action)\n",
    "    \n",
    "        state, ret1, ret2, ret3 = self.env.step(action)\n",
    "    \n",
    "        if render:\n",
    "            self.env.render()\n",
    "    \n",
    "        return self.processState(state), ret1, ret2, ret3\n",
    "    \n",
    "    def downscale2x(self, image):\n",
    "        image00 = image[0::2, 0::2]\n",
    "        image01 = image[0::2, 1::2]\n",
    "        image10 = image[1::2, 0::2]\n",
    "        image11 = image[1::2, 1::2]\n",
    "        return (image00 + image01 + image10 + image11) / 4"
   ]
  },
  {
   "cell_type": "code",
   "execution_count": 5,
   "metadata": {
    "collapsed": false
   },
   "outputs": [],
   "source": [
    "class LunarLanding_wrapper():\n",
    "    def __init__(self):\n",
    "        self.state_size = (1, 8)\n",
    "        self.game_title = \"LunarLander-v2\"\n",
    "        self.actions = [\"DO_NOTHING\", \"FIRE_LEFT\", \"FIRE_MAIN\", \"FIRE_RIGHT\"]\n",
    "        self.n_actions = len(self.actions)\n",
    "        try:\n",
    "            self.env = gym.make(self.game_title)\n",
    "        except:\n",
    "            print (\"ERROR : Can't find \" + self.game_title + \" environment.\")\n",
    "            return None\n",
    "        self.env.reset()\n",
    "    \n",
    "    def processState(self, state):\n",
    "        return state.reshape(1, -1)\n",
    "    \n",
    "    def processAction(self, action):\n",
    "        return action\n",
    "    \n",
    "    def make_reset(self):\n",
    "        state = self.env.reset()\n",
    "    \n",
    "        return self.processState(state)\n",
    "    \n",
    "    def make_step(self, action, render = False):\n",
    "        action = self.processAction(action)\n",
    "    \n",
    "        state, ret1, ret2, ret3 = self.env.step(action)\n",
    "    \n",
    "        if render:\n",
    "            self.env.render()\n",
    "    \n",
    "        return self.processState(state), ret1, ret2, ret3"
   ]
  },
  {
   "cell_type": "code",
   "execution_count": 6,
   "metadata": {
    "collapsed": false
   },
   "outputs": [],
   "source": [
    "class CartPole_wrapper():\n",
    "    def __init__(self):\n",
    "        self.state_size = (1, 4)\n",
    "        self.game_title = \"CartPole-v0\"\n",
    "        self.actions = [\"LEFT\", \"RIGHT\"]\n",
    "        self.n_actions = len(self.actions)\n",
    "        try:\n",
    "            self.env = gym.make(self.game_title)\n",
    "        except:\n",
    "            print (\"ERROR : Can't find \" + self.game_title + \" environment.\")\n",
    "            return None\n",
    "        self.env.reset()\n",
    "    \n",
    "    def processState(self, state):\n",
    "        return state.reshape(1, -1)\n",
    "    \n",
    "    def processAction(self, action):\n",
    "        return action\n",
    "    \n",
    "    def make_reset(self):\n",
    "        state = self.env.reset()\n",
    "    \n",
    "        return self.processState(state)\n",
    "    \n",
    "    def make_step(self, action, render = False):\n",
    "        action = self.processAction(action)\n",
    "    \n",
    "        state, ret1, ret2, ret3 = self.env.step(action)\n",
    "    \n",
    "        if render:\n",
    "            self.env.render()\n",
    "    \n",
    "        return self.processState(state), ret1, ret2, ret3"
   ]
  },
  {
   "cell_type": "code",
   "execution_count": 7,
   "metadata": {
    "collapsed": false
   },
   "outputs": [],
   "source": [
    "class AVQ_nn():\n",
    "    def __init__(self, channels_number = 4, image_shape = (1, 8), n_actions = 4, grad_clipping = 10, lr = 0.0001, \n",
    "                 encodeunits = 10, encodenoise = 0.1, aelosscoef = 0.1, regaelosscoef = 2.0, \n",
    "                 explosscoef = 0.1, h = 50, alpha = 25):\n",
    "        self.input_var = T.tensor4('statebatch')\n",
    "        self.targetQ = T.fvector('targetQ')\n",
    "        self.targetE = T.fvector('targetE')\n",
    "        self.actions = T.ivector('actions')\n",
    "        self.newstates = T.tensor4(\"newstatebatch\")\n",
    "        self.actions_onehot = T.extra_ops.to_one_hot(self.actions, n_actions, dtype=np.float32)\n",
    "        \n",
    "        self.aelosscoef = aelosscoef\n",
    "        self.regaelosscoef = regaelosscoef\n",
    "        self.explosscoef = explosscoef\n",
    "        self.n_actions = n_actions\n",
    "        self.build_network(channels_number, image_shape, encodeunits, encodenoise)\n",
    "        self.build_AVQ(grad_clipping, lr, h, alpha)\n",
    "        self.compile_network()\n",
    "        \n",
    "    def build_network(self, channels_number, image_shape, encodeunits, encodenoise):\n",
    "        self.l1 = lasagne.layers.InputLayer(shape=(None, channels_number, image_shape[0], image_shape[1]), \n",
    "                                            input_var = self.input_var)\n",
    "        self.l2 = lasagne.layers.DenseLayer(self.l1, 60, nonlinearity=lasagne.nonlinearities.leaky_rectify)\n",
    "        self.l3 = lasagne.layers.DenseLayer(self.l2, 40, nonlinearity=lasagne.nonlinearities.leaky_rectify)\n",
    "        self.outlayer = lasagne.layers.DenseLayer(self.l3, 20, nonlinearity=lasagne.nonlinearities.leaky_rectify)\n",
    "        self.encode = lasagne.layers.DenseLayer(self.outlayer, encodeunits, nonlinearity=lasagne.nonlinearities.sigmoid)\n",
    "        self.encodenoise = lasagne.layers.GaussianNoiseLayer(self.encode, sigma = encodenoise)\n",
    "        self.le3 = lasagne.layers.DenseLayer(self.encodenoise, 20, nonlinearity=lasagne.nonlinearities.leaky_rectify)\n",
    "        self.le2 = lasagne.layers.DenseLayer(self.le3, 40, nonlinearity=lasagne.nonlinearities.leaky_rectify)\n",
    "        self.le1 = lasagne.layers.DenseLayer(self.le2, 60, nonlinearity=lasagne.nonlinearities.leaky_rectify)\n",
    "        self.le0 = lasagne.layers.DenseLayer(self.le1, channels_number * image_shape[0] * image_shape[1])\n",
    "        self.l_aeout = lasagne.layers.ReshapeLayer(self.le0, shape=(-1, channels_number, image_shape[0], image_shape[1]))\n",
    "    \n",
    "    def build_AVQ(self, grad_clipping, lr, h, alpha):\n",
    "        self.l_advantage = lasagne.layers.DenseLayer(self.outlayer, self.n_actions)\n",
    "        self.l_value = lasagne.layers.DenseLayer(self.outlayer, 1)\n",
    "        self.l_varq = lasagne.layers.DenseLayer(self.outlayer, self.n_actions, nonlinearity=lasagne.nonlinearities.softplus)\n",
    "        self.l_exp_out = lasagne.layers.DenseLayer(self.outlayer, self.n_actions)\n",
    "        \n",
    "        self.advantage, self.value, self.ae_out, self.enc, self.varq, self.exp_out = \\\n",
    "            lasagne.layers.get_output([self.l_advantage, self.l_value, self.l_aeout, self.encode, self.l_varq, self.l_exp_out])\n",
    "        \n",
    "        self.average_advantage = T.mean(self.advantage, keepdims = True, axis = 1)\n",
    "        \n",
    "#        self.Qout = self.advantage + self.value - self.average_advantage\n",
    "#-----\n",
    "        self.Q = self.advantage\n",
    "        self.predict = T.argmax(self.Q, axis = 1)\n",
    "        \n",
    "        self.actions_onehot = T.extra_ops.to_one_hot(self.actions, self.n_actions, dtype=np.float32)\n",
    "        \n",
    "        self.E = self.exp_out\n",
    "        self.Epredict = T.argmax(self.E, axis = 1)\n",
    "        \n",
    "        self.E0 = T.sum(self.E * self.actions_onehot, axis = 1)\n",
    "        \n",
    "        self.Q0 = T.sum(self.Q * self.actions_onehot, axis = 1)\n",
    "        self.varQ0 = T.sum(self.varq * self.actions_onehot, axis = 1)\n",
    "        \n",
    "        self.Q1 = self.Q0 + (self.targetQ - self.Q0) / (h + 1)\n",
    "        self.varQ1 = (h * (alpha - 1)) / ((h + 1) * (alpha - 0.5)) * \\\n",
    "                     (self.varQ0 + T.sqr(self.targetQ - self.Q0) / (2 * (h+1) * (alpha - 1)))\n",
    "        \n",
    "        self.exp_error = T.mean(T.sqr(self.targetE - self.E0))\n",
    "        self.td_error = T.mean(T.sqr(self.Q1 - self.Q0))\n",
    "        self.var_error = T.mean(T.sqr(self.varQ1 - self.varQ0))\n",
    "        self.regae_error = 0.25 - T.mean(T.sqr(self.enc - 0.5))\n",
    "        self.ae_error = T.mean(T.sqr(self.ae_out - self.input_var))\n",
    "        \n",
    "        self.loss = self.ae_error * self.aelosscoef + self.regaelosscoef * self.regae_error + self.td_error + self.var_error + self.explosscoef * self.exp_error\n",
    "        params = self.get_all_params()\n",
    "        self.all_grads = T.grad(self.loss, params)\n",
    "        self.scaled_grads = lasagne.updates.total_norm_constraint(self.all_grads, grad_clipping)\n",
    "        self.updates = lasagne.updates.adam(self.scaled_grads, params, learning_rate=lr)\n",
    "\n",
    "        enc_layers = [self.l2, self.l3, self.outlayer, self.encode, self.le3, self.le2, self.le1, self.le0]\n",
    "        enc_params = [l.W for l in enc_layers] + [l.b for l in enc_layers]\n",
    "        self.enc_grads = T.grad(self.ae_error, enc_params)\n",
    "        self.enc_scaled_grads = lasagne.updates.total_norm_constraint(self.enc_grads, grad_clipping)\n",
    "        self.enc_updates = lasagne.updates.adam(self.enc_scaled_grads, enc_params, learning_rate=lr)\n",
    "        \n",
    "    def compile_network(self):\n",
    "        self.Qout_fn = theano.function([self.input_var], self.Q)\n",
    "        self.actionpred_fn = theano.function([self.input_var], self.predict)\n",
    "        self.full_train_fn = theano.function([self.input_var, self.targetQ, self.targetE, self.actions], [self.ae_error, self.td_error], updates = self.updates)\n",
    "        self.train_encoder = theano.function([self.input_var], self.ae_error, updates = self.enc_updates)\n",
    "        self.get_encode = theano.function([self.input_var], [self.enc, self.regae_error])\n",
    "        self.var_fn = theano.function([self.input_var], self.varq)\n",
    "        \n",
    "        self.Eout_fn = theano.function([self.input_var], self.E)\n",
    "        self.Eactionpred_fn = theano.function([self.input_var], self.Epredict)\n",
    "        \n",
    "    def get_all_params(self):\n",
    "#        return lasagne.layers.get_all_params([self.l_advantage, self.l_value], trainable = True)\n",
    "        return lasagne.layers.get_all_params(self.l_advantage, trainable = True)\n",
    "    \n",
    "    def get_all_params_values(self):\n",
    "#        return lasagne.layers.get_all_param_values([self.l_advantage, self.l_value], trainable = True)\n",
    "        return lasagne.layers.get_all_param_values(self.l_advantage, trainable = True)\n",
    "    \n",
    "    def set_all_params_values(self, values):\n",
    "#        return lasagne.layers.set_all_param_values([self.l_advantage, self.l_value], values, trainable = True)\n",
    "        return lasagne.layers.set_all_param_values(self.l_advantage, values, trainable = True)"
   ]
  },
  {
   "cell_type": "code",
   "execution_count": 8,
   "metadata": {
    "collapsed": true
   },
   "outputs": [],
   "source": [
    "class experience_buffer():\n",
    "    def __init__(self, buffer_size = 10000):\n",
    "        self.buffer = []\n",
    "        self.buffer_size = buffer_size\n",
    "    \n",
    "    def add(self, experience):\n",
    "        if len(self.buffer) + len(experience) >= self.buffer_size:\n",
    "            self.buffer[0:(len(experience)+len(self.buffer))-self.buffer_size] = []\n",
    "        self.buffer.extend(experience)\n",
    "            \n",
    "    def sample(self, size):\n",
    "        size = min(size, len(self.buffer))\n",
    "        return np.reshape(np.array(random.sample(self.buffer, size)),[size,5])"
   ]
  },
  {
   "cell_type": "code",
   "execution_count": 9,
   "metadata": {
    "collapsed": false
   },
   "outputs": [],
   "source": [
    "class window_aggregator():\n",
    "    def __init__(self, window_length, state_shape):\n",
    "        self.state_shape = state_shape\n",
    "        self.window_length = window_length\n",
    "        \n",
    "        assert len(self.state_shape) == 2\n",
    "        assert self.window_length >= 1\n",
    "        \n",
    "        self.start_aggregator_shape = (window_length, state_shape[0], state_shape[1])\n",
    "                                             \n",
    "        self.aggregator = np.zeros(self.start_aggregator_shape)\n",
    "        \n",
    "    def reset(self):\n",
    "        self.aggregator = np.zeros(self.start_aggregator_shape)\n",
    "                                       \n",
    "    def add_state(self, state):\n",
    "        state = np.expand_dims(state, 0)\n",
    "        self.aggregator = np.append(self.aggregator, state, axis = 0)\n",
    "    \n",
    "    def get_window(self):\n",
    "        return self.aggregator[-self.window_length:,:,:]                                                                           "
   ]
  },
  {
   "cell_type": "code",
   "execution_count": 10,
   "metadata": {
    "collapsed": true
   },
   "outputs": [],
   "source": [
    "class egreedy_agent():\n",
    "    def __init__(self, n_actions, actionpred_fn, startE = 1, endE = 0.1, anneling_steps = 50000):\n",
    "        self.startE = startE\n",
    "        self.endE = endE\n",
    "        self.anneling_steps = anneling_steps\n",
    "        self.stepE = (self.startE - self.endE) / self.anneling_steps\n",
    "        self.n_actions = n_actions\n",
    "        self.actionpred_fn = actionpred_fn\n",
    "    \n",
    "    def choose_action(self, state, current_step):\n",
    "        if current_step > self.anneling_steps:\n",
    "            epsilon = self.endE\n",
    "        else:\n",
    "            epsilon = self.startE - self.stepE * current_step\n",
    "        \n",
    "        if np.random.rand(1) < epsilon:\n",
    "            a = np.random.randint(0, self.n_actions)\n",
    "        else:\n",
    "            a = self.actionpred_fn(np.expand_dims(state, axis = 0))[0]\n",
    "            \n",
    "        return a"
   ]
  },
  {
   "cell_type": "code",
   "execution_count": 11,
   "metadata": {
    "collapsed": false
   },
   "outputs": [],
   "source": [
    "class boltzman_agent:\n",
    "    def __init__(self, n_actions, Qout_fn, startT = 1000, endT = 0.1, anneling_steps = 50000):\n",
    "        self.startT = startT\n",
    "        self.endT = endT\n",
    "        self.anneling_steps = anneling_steps\n",
    "        self.logstep = (np.log(startT) - np.log(endT)) / anneling_steps\n",
    "        self.n_actions = n_actions\n",
    "        self.Qout_fn = Qout_fn\n",
    "    \n",
    "    def choose_action(self, state, current_step):\n",
    "        scores = self.Qout_fn(np.expand_dims(state, axis = 0))[0]\n",
    "        if current_step > self.anneling_steps:\n",
    "            exponents = np.exp((scores - np.max(scores)) / self.endT)\n",
    "        else:\n",
    "            current_temp = self.startT / np.exp(self.logstep * current_step)\n",
    "            exponents = np.exp((scores - np.max(scores)) / current_temp)\n",
    "        probs = exponents / np.sum(exponents)\n",
    "        return np.random.choice(self.n_actions, p = probs)"
   ]
  },
  {
   "cell_type": "code",
   "execution_count": 12,
   "metadata": {
    "collapsed": true
   },
   "outputs": [],
   "source": [
    "class combined_agent:\n",
    "    def __init__(self, n_actions, actionpred_fn, Eactionpred_fn, startE = 1, endE = 0.1, anneling_steps = 50000):\n",
    "        self.startE = startE\n",
    "        self.endE = endE\n",
    "        self.anneling_steps = anneling_steps\n",
    "        self.stepE = (self.startE - self.endE) / self.anneling_steps\n",
    "        self.n_actions = n_actions\n",
    "        self.actionpred_fn = actionpred_fn\n",
    "        self.Eactionpred_fn = Eactionpred_fn\n",
    "    \n",
    "    def choose_action(self, state, current_step):\n",
    "        if current_step > self.anneling_steps:\n",
    "            epsilon = self.endE\n",
    "        else:\n",
    "            epsilon = self.startE - self.stepE * current_step\n",
    "        \n",
    "        if np.random.rand(1) < epsilon:\n",
    "            a = self.Eactionpred_fn(np.expand_dims(state, axis = 0))[0]\n",
    "        else:\n",
    "            a = self.actionpred_fn(np.expand_dims(state, axis = 0))[0]\n",
    "            \n",
    "        return a"
   ]
  },
  {
   "cell_type": "code",
   "execution_count": null,
   "metadata": {
    "collapsed": true
   },
   "outputs": [],
   "source": []
  },
  {
   "cell_type": "code",
   "execution_count": 13,
   "metadata": {
    "collapsed": false
   },
   "outputs": [],
   "source": [
    "class DDQL():\n",
    "    def __init__(self, lparams, env, agent = {\"agent\":\"egreedy\", \"params\":{}}):\n",
    "        self.grad_clip = lparams[\"grad_clipping\"]\n",
    "        self.lr = lparams[\"learning_rate\"]\n",
    "        self.window_size = lparams[\"window_size\"]\n",
    "        self.encode_unitnum = lparams[\"encode_unitnum\"]\n",
    "        self.encode_noise = lparams[\"encode_noise\"]\n",
    "        self.encode_reward_multiplier = lparams[\"encode_reward_multiplier\"]\n",
    "        self.batch_size = lparams[\"batch_size\"]\n",
    "        self.gamma = lparams[\"gamma\"]\n",
    "        self.egamma = lparams[\"egamma\"]\n",
    "        self.aelosscoef = lparams[\"aelosscoef\"]\n",
    "        self.regaelosscoef = lparams[\"regaelosscoef\"]\n",
    "        self.explosscoef = lparams[\"explosscoef\"]\n",
    "        self.h = lparams[\"lambda\"]\n",
    "        self.alpha = lparams[\"alpha\"]\n",
    "        self.MQN_updatefreq = lparams[\"MQN_updatefreq\"]\n",
    "        self.TQN_updatefreq = lparams[\"TQN_updatefreq\"]\n",
    "        self.TQN_updaterate = lparams[\"TQN_updaterate\"]\n",
    "        self.print_freq = lparams[\"print_freq\"]\n",
    "        self.pretrain_steps = lparams[\"pretrain_steps\"]\n",
    "        self.buffer_size = lparams[\"buffer_size\"]\n",
    "        self.pretrain_over = False\n",
    "\n",
    "        self.env = env\n",
    "        \n",
    "        AVQ_params = [self.window_size, self.env.state_size, self.env.n_actions, self.grad_clip, \n",
    "                      self.lr, self.encode_unitnum, self.encode_noise, self.aelosscoef, self.regaelosscoef, \n",
    "                      self.explosscoef, self.h, self.alpha]\n",
    "        self.mainQN = AVQ_nn(*AVQ_params)\n",
    "        self.targetQN = AVQ_nn(*AVQ_params)\n",
    "\n",
    "        self.lList = []\n",
    "        self.rList = []\n",
    "        self.aeList = []\n",
    "        self.encode_counts = defaultdict(int)\n",
    "        self.total_steps = 0\n",
    "        \n",
    "        self.window = window_aggregator(self.window_size, self.env.state_size)\n",
    "        self.experience_storage = experience_buffer(self.buffer_size)\n",
    "        self.agent = self.getAgent(agent[\"agent\"], agent[\"params\"])\n",
    "            \n",
    "    def getAgent(self, agent, agentparams):\n",
    "        if agent == \"egreedy\":\n",
    "            agent = egreedy_agent(self.env.n_actions, self.mainQN.actionpred_fn, **agentparams)\n",
    "        elif agent == \"boltzman\":\n",
    "            agent = boltzman_agent(self.env.n_actions, self.mainQN.Qout_fn, **agentparams)\n",
    "        elif agent == \"combined\":\n",
    "            agent = combined_agent(self.env.n_actions, self.mainQN.actionpred_fn, self.mainQN.Eactionpred_fn, **agentparams)\n",
    "        else:\n",
    "            raise ValueError(\"Unknown agent\")\n",
    "            \n",
    "        return agent\n",
    "            \n",
    "    def updateTarget(self, completeupdate = False):\n",
    "        if completeupdate:\n",
    "            self.targetQN.set_all_params_values(self.mainQN.get_all_params_values())\n",
    "        else:\n",
    "            targetparams = self.targetQN.get_all_params_values()\n",
    "            mainparams = self.mainQN.get_all_params_values()\n",
    "            ur = self.TQN_updaterate\n",
    "        \n",
    "            assert len(targetparams) == len(mainparams)\n",
    "            for k in range(0, len(targetparams)):\n",
    "                targetparams[k] = targetparams[k] * (1.0 - ur) + mainparams[k] * ur\n",
    "        \n",
    "            self.targetQN.set_all_params_values(targetparams)\n",
    "            \n",
    "    def train(self, num_episodes, frame_limit, render = True):\n",
    "        self.updateTarget(True)\n",
    "        self.window.reset()\n",
    "        \n",
    "        for episode_num in tqdm_notebook(range(num_episodes), desc = \"RL train\"):\n",
    "            state = self.env.make_reset()\n",
    "            self.window.add_state(state)\n",
    "            window_state = self.window.get_window()\n",
    "            episode_rewards = np.zeros(frame_limit)\n",
    "            episode_aeerrors = np.array([])\n",
    "            \n",
    "            for iteration in xrange(0, frame_limit):\n",
    "                action = self.agent.choose_action(window_state, self.total_steps)\n",
    "                new_state, reward, gameover, _ = self.env.make_step(action, render)\n",
    "                self.window.add_state(new_state)\n",
    "                new_window_state = self.window.get_window()\n",
    "                experience = np.reshape(np.array([window_state, action, reward, new_window_state, gameover]),[1,5])\n",
    "                self.experience_storage.add(experience)\n",
    "                episode_rewards[iteration] = reward\n",
    "                \n",
    "                if self.pretrain_over:\n",
    "                    self.total_steps += 1\n",
    "                \n",
    "                    if self.total_steps % (self.TQN_updatefreq) == 0:\n",
    "                        self.updateTarget()\n",
    "                \n",
    "                    if self.total_steps % (self.MQN_updatefreq) == 0:\n",
    "                        train_batch = self.experience_storage.sample(self.batch_size)\n",
    "                        old_state_batch = np.stack(train_batch[:,0])\n",
    "                        new_state_batch = np.stack(train_batch[:,3])\n",
    "                        action_vector = (train_batch[:,1]).astype(np.int32)\n",
    "                        end_multiplier = -(train_batch[:,4] - 1)\n",
    "                        rewards_vector = train_batch[:,2]\n",
    "                        \n",
    "                        encodes, reg_errors = self.mainQN.get_encode(old_state_batch)\n",
    "                        encodes = [\"\".join([str(k) for k in encode]) for encode in (encodes > 0.5).astype(int)]\n",
    "                        for encode in encodes:\n",
    "                            self.encode_counts[encode] += 1\n",
    "                        encode_rewards = self.encode_reward_multiplier / np.sqrt(np.array([self.encode_counts[encode] for encode in encodes]))\n",
    "                        \n",
    "                        E1 = self.mainQN.Eactionpred_fn(new_state_batch)\n",
    "                        E2 = self.targetQN.Eout_fn(new_state_batch)\n",
    "                        doubleE = E2[range(self.batch_size), E1]\n",
    "                        var1 = self.mainQN.var_fn(old_state_batch)\n",
    "                        doublevar = var1[range(self.batch_size), E1]\n",
    "                        exp_rewards_vector = doublevar + 0.01 * encode_rewards\n",
    "                        \n",
    "                        targetE = (exp_rewards_vector + (self.egamma * doubleE * end_multiplier)).astype(np.float32)\n",
    "                        \n",
    "                        Q1 = self.mainQN.actionpred_fn(new_state_batch)\n",
    "                        Q2 = self.targetQN.Qout_fn(new_state_batch)\n",
    "                        doubleQ = Q2[range(self.batch_size), Q1]\n",
    "                        targetQ = (rewards_vector + (self.gamma * doubleQ * end_multiplier)).astype(np.float32)\n",
    "                        \n",
    "                        aeerror, tderror = self.mainQN.full_train_fn(old_state_batch, targetQ, targetE, action_vector)\n",
    "                        episode_aeerrors = np.append(episode_aeerrors, aeerror)\n",
    "                else:\n",
    "                    train_batch = self.experience_storage.sample(self.batch_size)\n",
    "                    old_state_batch = np.stack(train_batch[:,0])\n",
    "                    new_state_batch = np.stack(train_batch[:,3])\n",
    "                    action_vector = (train_batch[:,1]).astype(np.int32)\n",
    "                    aeerror1 = self.mainQN.train_encoder(old_state_batch)\n",
    "                    aeerror2 = self.mainQN.train_encoder(new_state_batch)\n",
    "                    episode_aeerrors = np.append(episode_aeerrors, (aeerror1 + aeerror2)/2)\n",
    "                    \n",
    "                    self.pretrain_steps -= 1;\n",
    "                    if self.pretrain_steps <= 0:\n",
    "                        self.pretrain_over = True\n",
    "                        \n",
    "                state = new_state\n",
    "                window_state = new_window_state\n",
    "            \n",
    "                if gameover:\n",
    "                    self.window.reset()\n",
    "                    break\n",
    "    \n",
    "            total_reward = np.sum(episode_rewards)\n",
    "            total_aeerror = np.mean(episode_aeerrors)\n",
    "            self.lList.append(iteration)\n",
    "            self.rList.append(total_reward)\n",
    "            self.aeList.append(total_aeerror)\n",
    "            if len(self.rList) % self.print_freq == 0:\n",
    "                tqdm.write(\" \".join([\"========= Episode\", str(episode_num), \"================================================\"]))\n",
    "                tqdm.write(\" \".join([\"Total steps:\", str(self.total_steps)]))\n",
    "                tqdm.write(\" \".join([\"Episode rewards, last 10:\", str(self.rList[-10:])]))\n",
    "                tqdm.write(\" \".join([\"Mean over last\", str(self.print_freq), \"episodes:\", str(np.mean(self.rList[-self.print_freq:]))]))\n",
    "                tqdm.write(\" \".join([\"Episode lengths, last 10:\", str(self.lList[-10:])]))\n",
    "                tqdm.write(\" \".join([\"AEerror, mean over last 10:\", str(np.mean(self.aeList[-10:]))]))\n",
    "                tqdm.write(\"===================================================================\" + \"=\" * len(str(episode_num)))"
   ]
  },
  {
   "cell_type": "code",
   "execution_count": null,
   "metadata": {
    "collapsed": true
   },
   "outputs": [],
   "source": []
  },
  {
   "cell_type": "code",
   "execution_count": 14,
   "metadata": {
    "collapsed": true
   },
   "outputs": [],
   "source": [
    "def plot_rewards(ddqlmodel, meanwindow = 250):\n",
    "    rlist = [ddqlmodel.rList[0]] * meanwindow + ddqlmodel.rList\n",
    "    x = np.cumsum(ddqlmodel.lList)\n",
    "    y = [np.mean(rlist[k:k+meanwindow]) for k in range(len(rlist) - meanwindow)]\n",
    "    plt.plot(x, y)"
   ]
  },
  {
   "cell_type": "code",
   "execution_count": 15,
   "metadata": {
    "collapsed": false
   },
   "outputs": [
    {
     "name": "stderr",
     "output_type": "stream",
     "text": [
      "[2017-05-15 16:25:57,920] Making new env: CartPole-v0\n"
     ]
    }
   ],
   "source": [
    "#llenv = LunarLanding_wrapper()\n",
    "cp_env = CartPole_wrapper()"
   ]
  },
  {
   "cell_type": "code",
   "execution_count": 16,
   "metadata": {
    "collapsed": false
   },
   "outputs": [],
   "source": [
    "lparams = {\"grad_clipping\" : 50,\n",
    "           \"learning_rate\" : 0.005,\n",
    "           \"window_size\" : 3,\n",
    "           \"encode_unitnum\": 10,\n",
    "           \"encode_noise\": 0.05,\n",
    "           \"encode_reward_multiplier\": 10.0,\n",
    "           \"batch_size\" : 8,\n",
    "           \"buffer_size\" : 128,\n",
    "           \"aelosscoef\" : 0.1,\n",
    "           \"regaelosscoef\" : 2.0,\n",
    "           \"explosscoef\" : 0.1,\n",
    "           \"gamma\" : 0.98,\n",
    "           \"egamma\" : 0.01,\n",
    "           \"lambda\": 4,\n",
    "           \"alpha\": 2,\n",
    "           \"MQN_updatefreq\" : 1,\n",
    "           \"TQN_updatefreq\" : 4,\n",
    "           \"TQN_updaterate\" : 0.2,\n",
    "           \"print_freq\" : 500,\n",
    "           \"pretrain_steps\" : 5000,\n",
    "           \"render\" : False}"
   ]
  },
  {
   "cell_type": "code",
   "execution_count": 17,
   "metadata": {
    "collapsed": true
   },
   "outputs": [],
   "source": [
    "egreedyagentinfo = {\"agent\" : \"egreedy\",\n",
    "                    \"params\" : {\"startE\": 0.5,\n",
    "                                \"endE\" : 0.06,\n",
    "                                \"anneling_steps\":10000}}"
   ]
  },
  {
   "cell_type": "code",
   "execution_count": 18,
   "metadata": {
    "collapsed": true
   },
   "outputs": [],
   "source": [
    "boltzmanagentinfo = {\"agent\" : \"boltzman\",\n",
    "                     \"params\" : {\"startT\": 10,\n",
    "                                 \"endT\" : 1,\n",
    "                                 \"anneling_steps\":10000}}"
   ]
  },
  {
   "cell_type": "code",
   "execution_count": 19,
   "metadata": {
    "collapsed": true
   },
   "outputs": [],
   "source": [
    "combinedagentinfo = {\"agent\" : \"combined\",\n",
    "                     \"params\" : {\"startE\": 0.5,\n",
    "                                 \"endE\" : 0.1,\n",
    "                                 \"anneling_steps\":10000}}"
   ]
  },
  {
   "cell_type": "code",
   "execution_count": null,
   "metadata": {
    "collapsed": false,
    "scrolled": false
   },
   "outputs": [],
   "source": [
    "ddql = DDQL(lparams, cp_env, combinedagentinfo)"
   ]
  },
  {
   "cell_type": "code",
   "execution_count": null,
   "metadata": {
    "collapsed": false,
    "scrolled": true
   },
   "outputs": [],
   "source": [
    "ddql.train(num_episodes = 3000, frame_limit = 500, render = False)"
   ]
  },
  {
   "cell_type": "code",
   "execution_count": null,
   "metadata": {
    "collapsed": false
   },
   "outputs": [],
   "source": [
    "plot_rewards(ddql, 500)"
   ]
  },
  {
   "cell_type": "markdown",
   "metadata": {},
   "source": [
    "Алгоритм с учитыванием частоты посещения состояний. Подсчет посещения состояний определяется с использованием автоэнкодера, в котором все нейроны центрального слоя (с сигмоидной функцией активации) регуляризуются для помещения значений либо у нуля, либо у единицы. Эта регуляризация осуществляется с помощью изменения оптимизируемой функции потерь и с помощью добавления слоя гауссового шума после центрального слоя."
   ]
  },
  {
   "cell_type": "markdown",
   "metadata": {},
   "source": [
    "Стабильность подобной кодировки можно ожидать из-за того, что сигмоидные нейроны быстро насыщаются, предотвращая значительные их колебания во время динамического обучения"
   ]
  },
  {
   "cell_type": "markdown",
   "metadata": {},
   "source": [
    "Каждому действию агента добавляется дополнительная награда, причем она обратно пропорциональна количеству раз, которые агент бывал в этом состоянии(если точнее, то количеству раз, которые агент бывал в состояниях, имеющих ту же бинарную кодировку автоэнкодера, что и текущее)"
   ]
  },
  {
   "cell_type": "code",
   "execution_count": null,
   "metadata": {
    "collapsed": true
   },
   "outputs": [],
   "source": []
  },
  {
   "cell_type": "code",
   "execution_count": 20,
   "metadata": {
    "collapsed": true
   },
   "outputs": [],
   "source": [
    "def produce_experiment(ddql, ddql_init_params, ddql_train_params, experiment_num = 5):\n",
    "    ddql_list = [ddql(**ddql_init_params) for k in range(experiment_num)]\n",
    "    \n",
    "    for k in range(experiment_num):\n",
    "        ddql_list[k].train(**ddql_train_params)\n",
    "        \n",
    "    return ddql_list"
   ]
  },
  {
   "cell_type": "code",
   "execution_count": 21,
   "metadata": {
    "collapsed": false
   },
   "outputs": [],
   "source": [
    "ddql_combined_params = {\"lparams\":lparams, \"env\":cp_env, \"agent\":combinedagentinfo}\n",
    "ddql_egreedy_params = {\"lparams\":lparams, \"env\":cp_env, \"agent\":egreedyagentinfo}\n",
    "\n",
    "ddql_train_params = {\"num_episodes\":2500, \"frame_limit\":500, \"render\":False}"
   ]
  },
  {
   "cell_type": "code",
   "execution_count": 22,
   "metadata": {
    "collapsed": false
   },
   "outputs": [
    {
     "name": "stdout",
     "output_type": "stream",
     "text": [
      "========= Episode 499 ================================================\n",
      "Total steps: 16364\n",
      "Episode rewards, last 10: [500.0, 14.0, 37.0, 169.0, 95.0, 191.0, 67.0, 128.0, 128.0, 13.0]\n",
      "Mean over last 500 episodes: 42.728\n",
      "Episode lengths, last 10: [499, 13, 36, 168, 94, 190, 66, 127, 127, 12]\n",
      "AEerror, mean over last 10: 0.34422588198\n",
      "======================================================================\n",
      "========= Episode 999 ================================================\n",
      "Total steps: 112007\n",
      "Episode rewards, last 10: [500.0, 500.0, 416.0, 152.0, 14.0, 16.0, 10.0, 28.0, 44.0, 48.0]\n",
      "Mean over last 500 episodes: 191.286\n",
      "Episode lengths, last 10: [499, 499, 415, 151, 13, 15, 9, 27, 43, 47]\n",
      "AEerror, mean over last 10: 0.743457699211\n",
      "======================================================================\n",
      "========= Episode 1499 ================================================\n",
      "Total steps: 225778\n",
      "Episode rewards, last 10: [93.0, 94.0, 95.0, 96.0, 99.0, 109.0, 111.0, 103.0, 112.0, 125.0]\n",
      "Mean over last 500 episodes: 227.542\n",
      "Episode lengths, last 10: [92, 93, 94, 95, 98, 108, 110, 102, 111, 124]\n",
      "AEerror, mean over last 10: 0.873022741975\n",
      "=======================================================================\n",
      "========= Episode 1999 ================================================\n",
      "Total steps: 332350\n",
      "Episode rewards, last 10: [21.0, 16.0, 9.0, 315.0, 123.0, 216.0, 110.0, 98.0, 117.0, 122.0]\n",
      "Mean over last 500 episodes: 213.144\n",
      "Episode lengths, last 10: [20, 15, 8, 314, 122, 215, 109, 97, 116, 121]\n",
      "AEerror, mean over last 10: 0.57634559704\n",
      "=======================================================================\n",
      "========= Episode 2499 ================================================\n",
      "Total steps: 408611\n",
      "Episode rewards, last 10: [299.0, 123.0, 18.0, 20.0, 97.0, 45.0, 22.0, 500.0, 32.0, 91.0]\n",
      "Mean over last 500 episodes: 152.522\n",
      "Episode lengths, last 10: [298, 122, 17, 19, 96, 44, 21, 499, 31, 90]\n",
      "AEerror, mean over last 10: 0.514808730915\n",
      "=======================================================================\n",
      "\n",
      "========= Episode 499 ================================================\n",
      "Total steps: 14285\n",
      "Episode rewards, last 10: [105.0, 11.0, 12.0, 70.0, 44.0, 500.0, 367.0, 92.0, 274.0, 276.0]\n",
      "Mean over last 500 episodes: 38.57\n",
      "Episode lengths, last 10: [104, 10, 11, 69, 43, 499, 366, 91, 273, 275]\n",
      "AEerror, mean over last 10: 0.529209181766\n",
      "======================================================================\n",
      "========= Episode 999 ================================================\n",
      "Total steps: 113459\n",
      "Episode rewards, last 10: [500.0, 500.0, 500.0, 500.0, 500.0, 500.0, 500.0, 221.0, 393.0, 78.0]\n",
      "Mean over last 500 episodes: 198.348\n",
      "Episode lengths, last 10: [499, 499, 499, 499, 499, 499, 499, 220, 392, 77]\n",
      "AEerror, mean over last 10: 0.184498021049\n",
      "======================================================================\n",
      "========= Episode 1499 ================================================\n",
      "Total steps: 254425\n",
      "Episode rewards, last 10: [122.0, 107.0, 141.0, 126.0, 42.0, 170.0, 123.0, 117.0, 132.0, 108.0]\n",
      "Mean over last 500 episodes: 281.932\n",
      "Episode lengths, last 10: [121, 106, 140, 125, 41, 169, 122, 116, 131, 107]\n",
      "AEerror, mean over last 10: 0.54535065678\n",
      "=======================================================================\n",
      "========= Episode 1999 ================================================\n",
      "Total steps: 373142\n",
      "Episode rewards, last 10: [500.0, 500.0, 500.0, 500.0, 500.0, 500.0, 500.0, 500.0, 500.0, 384.0]\n",
      "Mean over last 500 episodes: 237.434\n",
      "Episode lengths, last 10: [499, 499, 499, 499, 499, 499, 499, 499, 499, 383]\n",
      "AEerror, mean over last 10: 0.178726177495\n",
      "=======================================================================\n",
      "========= Episode 2499 ================================================\n",
      "Total steps: 483289\n",
      "Episode rewards, last 10: [141.0, 141.0, 82.0, 56.0, 174.0, 336.0, 315.0, 500.0, 397.0, 376.0]\n",
      "Mean over last 500 episodes: 220.294\n",
      "Episode lengths, last 10: [140, 140, 81, 55, 173, 335, 314, 499, 396, 375]\n",
      "AEerror, mean over last 10: 0.551503825556\n",
      "=======================================================================\n",
      "\n",
      "========= Episode 499 ================================================\n",
      "Total steps: 283\n",
      "Episode rewards, last 10: [15.0, 13.0, 11.0, 16.0, 14.0, 22.0, 12.0, 29.0, 16.0, 11.0]\n",
      "Mean over last 500 episodes: 10.566\n",
      "Episode lengths, last 10: [14, 12, 10, 15, 13, 21, 11, 28, 15, 10]\n",
      "AEerror, mean over last 10: 0.169844373821\n",
      "======================================================================\n",
      "========= Episode 999 ================================================\n",
      "Total steps: 73876\n",
      "Episode rewards, last 10: [500.0, 500.0, 500.0, 500.0, 108.0, 48.0, 24.0, 58.0, 17.0, 11.0]\n",
      "Mean over last 500 episodes: 147.186\n",
      "Episode lengths, last 10: [499, 499, 499, 499, 107, 47, 23, 57, 16, 10]\n",
      "AEerror, mean over last 10: 0.274794525391\n",
      "======================================================================\n",
      "========= Episode 1499 ================================================\n",
      "Total steps: 181282\n",
      "Episode rewards, last 10: [500.0, 500.0, 500.0, 470.0, 500.0, 13.0, 16.0, 11.0, 168.0, 147.0]\n",
      "Mean over last 500 episodes: 214.812\n",
      "Episode lengths, last 10: [499, 499, 499, 469, 499, 12, 15, 10, 167, 146]\n",
      "AEerror, mean over last 10: 0.212450090037\n",
      "=======================================================================\n",
      "========= Episode 1999 ================================================\n",
      "Total steps: 281795\n",
      "Episode rewards, last 10: [35.0, 20.0, 56.0, 76.0, 50.0, 105.0, 155.0, 88.0, 114.0, 18.0]\n",
      "Mean over last 500 episodes: 201.026\n",
      "Episode lengths, last 10: [34, 19, 55, 75, 49, 104, 154, 87, 113, 17]\n",
      "AEerror, mean over last 10: 0.516381354387\n",
      "=======================================================================\n",
      "========= Episode 2499 ================================================\n",
      "Total steps: 380997\n",
      "Episode rewards, last 10: [56.0, 47.0, 30.0, 55.0, 282.0, 336.0, 407.0, 317.0, 500.0, 500.0]\n",
      "Mean over last 500 episodes: 198.404\n",
      "Episode lengths, last 10: [55, 46, 29, 54, 281, 335, 406, 316, 499, 499]\n",
      "AEerror, mean over last 10: 0.235960505663\n",
      "=======================================================================\n",
      "\n",
      "========= Episode 499 ================================================\n",
      "Total steps: 0\n",
      "Episode rewards, last 10: [9.0, 10.0, 8.0, 10.0, 9.0, 10.0, 10.0, 9.0, 10.0, 10.0]\n",
      "Mean over last 500 episodes: 9.404\n",
      "Episode lengths, last 10: [8, 9, 7, 9, 8, 9, 9, 8, 9, 9]\n",
      "AEerror, mean over last 10: 0.754640500343\n",
      "======================================================================\n",
      "========= Episode 999 ================================================\n",
      "Total steps: 44435\n",
      "Episode rewards, last 10: [500.0, 500.0, 500.0, 500.0, 500.0, 500.0, 500.0, 160.0, 70.0, 29.0]\n",
      "Mean over last 500 episodes: 89.466\n",
      "Episode lengths, last 10: [499, 499, 499, 499, 499, 499, 499, 159, 69, 28]\n",
      "AEerror, mean over last 10: 0.184135512655\n",
      "======================================================================\n",
      "========= Episode 1499 ================================================\n",
      "Total steps: 157152\n",
      "Episode rewards, last 10: [124.0, 500.0, 131.0, 138.0, 115.0, 115.0, 19.0, 155.0, 110.0, 113.0]\n",
      "Mean over last 500 episodes: 225.434\n",
      "Episode lengths, last 10: [123, 499, 130, 137, 114, 114, 18, 154, 109, 112]\n",
      "AEerror, mean over last 10: 0.642618241345\n",
      "=======================================================================\n",
      "========= Episode 1999 ================================================\n",
      "Total steps: 262432\n",
      "Episode rewards, last 10: [500.0, 402.0, 334.0, 500.0, 207.0, 500.0, 403.0, 500.0, 500.0, 500.0]\n",
      "Mean over last 500 episodes: 210.56\n",
      "Episode lengths, last 10: [499, 401, 333, 499, 206, 499, 402, 499, 499, 499]\n",
      "AEerror, mean over last 10: 0.337406205343\n",
      "=======================================================================\n",
      "========= Episode 2499 ================================================\n",
      "Total steps: 372257\n",
      "Episode rewards, last 10: [500.0, 500.0, 500.0, 500.0, 500.0, 349.0, 39.0, 500.0, 500.0, 500.0]\n",
      "Mean over last 500 episodes: 219.65\n",
      "Episode lengths, last 10: [499, 499, 499, 499, 499, 348, 38, 499, 499, 499]\n",
      "AEerror, mean over last 10: 0.190074029148\n",
      "=======================================================================\n",
      "\n",
      "========= Episode 499 ================================================\n",
      "Total steps: 1472\n",
      "Episode rewards, last 10: [33.0, 12.0, 12.0, 15.0, 11.0, 27.0, 30.0, 85.0, 52.0, 24.0]\n",
      "Mean over last 500 episodes: 12.944\n",
      "Episode lengths, last 10: [32, 11, 11, 14, 10, 26, 29, 84, 51, 23]\n",
      "AEerror, mean over last 10: 0.18418216578\n",
      "======================================================================\n",
      "========= Episode 999 ================================================\n",
      "Total steps: 64578\n",
      "Episode rewards, last 10: [167.0, 120.0, 116.0, 122.0, 107.0, 89.0, 20.0, 16.0, 11.0, 84.0]\n",
      "Mean over last 500 episodes: 126.212\n",
      "Episode lengths, last 10: [166, 119, 115, 121, 106, 88, 19, 15, 10, 83]\n",
      "AEerror, mean over last 10: 0.547549435395\n",
      "======================================================================\n",
      "========= Episode 1499 ================================================\n",
      "Total steps: 169948\n",
      "Episode rewards, last 10: [500.0, 294.0, 215.0, 188.0, 99.0, 227.0, 126.0, 188.0, 13.0, 12.0]\n",
      "Mean over last 500 episodes: 210.74\n",
      "Episode lengths, last 10: [499, 293, 214, 187, 98, 226, 125, 187, 12, 11]\n",
      "AEerror, mean over last 10: 0.688757813365\n",
      "=======================================================================\n",
      "========= Episode 1999 ================================================\n",
      "Total steps: 264580\n",
      "Episode rewards, last 10: [11.0, 148.0, 147.0, 134.0, 131.0, 124.0, 140.0, 136.0, 122.0, 122.0]\n",
      "Mean over last 500 episodes: 189.264\n",
      "Episode lengths, last 10: [10, 147, 146, 133, 130, 123, 139, 135, 121, 121]\n",
      "AEerror, mean over last 10: 0.630116499334\n",
      "=======================================================================\n",
      "========= Episode 2499 ================================================\n",
      "Total steps: 357220\n",
      "Episode rewards, last 10: [140.0, 117.0, 158.0, 485.0, 401.0, 168.0, 136.0, 103.0, 103.0, 11.0]\n",
      "Mean over last 500 episodes: 185.28\n",
      "Episode lengths, last 10: [139, 116, 157, 484, 400, 167, 135, 102, 102, 10]\n",
      "AEerror, mean over last 10: 0.661634558992\n",
      "=======================================================================\n",
      "\n",
      "========= Episode 499 ================================================\n",
      "Total steps: 7196\n",
      "Episode rewards, last 10: [20.0, 11.0, 12.0, 9.0, 20.0, 72.0, 94.0, 16.0, 26.0, 31.0]\n",
      "Mean over last 500 episodes: 24.392\n",
      "Episode lengths, last 10: [19, 10, 11, 8, 19, 71, 93, 15, 25, 30]\n",
      "AEerror, mean over last 10: 0.431320249778\n",
      "======================================================================\n",
      "========= Episode 999 ================================================\n",
      "Total steps: 112758\n",
      "Episode rewards, last 10: [239.0, 500.0, 500.0, 18.0, 329.0, 81.0, 120.0, 347.0, 101.0, 106.0]\n",
      "Mean over last 500 episodes: 211.124\n",
      "Episode lengths, last 10: [238, 499, 499, 17, 328, 80, 119, 346, 100, 105]\n",
      "AEerror, mean over last 10: 0.533771451755\n",
      "======================================================================\n",
      "========= Episode 1499 ================================================\n",
      "Total steps: 205730\n",
      "Episode rewards, last 10: [12.0, 32.0, 10.0, 10.0, 11.0, 15.0, 15.0, 10.0, 100.0, 150.0]\n",
      "Mean over last 500 episodes: 185.944\n",
      "Episode lengths, last 10: [11, 31, 9, 9, 10, 14, 14, 9, 99, 149]\n",
      "AEerror, mean over last 10: 0.390174799659\n",
      "=======================================================================\n",
      "========= Episode 1999 ================================================\n",
      "Total steps: 309102\n",
      "Episode rewards, last 10: [22.0, 10.0, 29.0, 27.0, 30.0, 30.0, 18.0, 14.0, 19.0, 26.0]\n",
      "Mean over last 500 episodes: 206.744\n",
      "Episode lengths, last 10: [21, 9, 28, 26, 29, 29, 17, 13, 18, 25]\n",
      "AEerror, mean over last 10: 0.646423128208\n",
      "=======================================================================\n",
      "========= Episode 2499 ================================================\n",
      "Total steps: 379376\n",
      "Episode rewards, last 10: [90.0, 20.0, 32.0, 500.0, 500.0, 16.0, 500.0, 500.0, 500.0, 500.0]\n",
      "Mean over last 500 episodes: 140.548\n",
      "Episode lengths, last 10: [89, 19, 31, 499, 499, 15, 499, 499, 499, 499]\n",
      "AEerror, mean over last 10: 0.403604892819\n",
      "=======================================================================\n",
      "\n",
      "========= Episode 499 ================================================\n",
      "Total steps: 14264\n",
      "Episode rewards, last 10: [22.0, 157.0, 141.0, 256.0, 226.0, 500.0, 270.0, 500.0, 500.0, 500.0]\n",
      "Mean over last 500 episodes: 38.528\n",
      "Episode lengths, last 10: [21, 156, 140, 255, 225, 499, 269, 499, 499, 499]\n",
      "AEerror, mean over last 10: 0.298546659258\n",
      "======================================================================\n",
      "========= Episode 999 ================================================\n",
      "Total steps: 118854\n",
      "Episode rewards, last 10: [91.0, 85.0, 79.0, 105.0, 116.0, 96.0, 131.0, 500.0, 204.0, 56.0]\n",
      "Mean over last 500 episodes: 209.18\n",
      "Episode lengths, last 10: [90, 84, 78, 104, 115, 95, 130, 499, 203, 55]\n",
      "AEerror, mean over last 10: 0.420502748773\n",
      "======================================================================\n",
      "========= Episode 1499 ================================================\n",
      "Total steps: 216493\n",
      "Episode rewards, last 10: [57.0, 63.0, 68.0, 49.0, 57.0, 109.0, 198.0, 51.0, 24.0, 13.0]\n",
      "Mean over last 500 episodes: 195.278\n",
      "Episode lengths, last 10: [56, 62, 67, 48, 56, 108, 197, 50, 23, 12]\n",
      "AEerror, mean over last 10: 0.411133247033\n",
      "=======================================================================\n",
      "========= Episode 1999 ================================================\n",
      "Total steps: 315661\n",
      "Episode rewards, last 10: [500.0, 500.0, 500.0, 500.0, 500.0, 500.0, 500.0, 92.0, 11.0, 15.0]\n",
      "Mean over last 500 episodes: 198.336\n",
      "Episode lengths, last 10: [499, 499, 499, 499, 499, 499, 499, 91, 10, 14]\n",
      "AEerror, mean over last 10: 0.237626635853\n",
      "=======================================================================\n",
      "========= Episode 2499 ================================================\n",
      "Total steps: 434834\n",
      "Episode rewards, last 10: [15.0, 13.0, 20.0, 29.0, 32.0, 23.0, 104.0, 500.0, 500.0, 467.0]\n",
      "Mean over last 500 episodes: 238.346\n",
      "Episode lengths, last 10: [14, 12, 19, 28, 31, 22, 103, 499, 499, 466]\n",
      "AEerror, mean over last 10: 0.26914240007\n",
      "=======================================================================\n",
      "\n",
      "========= Episode 499 ================================================\n",
      "Total steps: 0\n",
      "Episode rewards, last 10: [12.0, 9.0, 10.0, 10.0, 10.0, 9.0, 10.0, 9.0, 12.0, 14.0]\n",
      "Mean over last 500 episodes: 9.99\n",
      "Episode lengths, last 10: [11, 8, 9, 9, 9, 8, 9, 8, 11, 13]\n",
      "AEerror, mean over last 10: 0.39967666221\n",
      "======================================================================\n",
      "========= Episode 999 ================================================\n",
      "Total steps: 4738\n",
      "Episode rewards, last 10: [10.0, 9.0, 9.0, 9.0, 8.0, 9.0, 8.0, 9.0, 10.0, 10.0]\n",
      "Mean over last 500 episodes: 9.486\n",
      "Episode lengths, last 10: [9, 8, 8, 8, 7, 8, 7, 8, 9, 9]\n",
      "AEerror, mean over last 10: 0.484312090058\n",
      "======================================================================\n",
      "========= Episode 1499 ================================================\n",
      "Total steps: 9564\n",
      "Episode rewards, last 10: [11.0, 10.0, 10.0, 10.0, 10.0, 10.0, 10.0, 9.0, 8.0, 9.0]\n",
      "Mean over last 500 episodes: 9.652\n",
      "Episode lengths, last 10: [10, 9, 9, 9, 9, 9, 9, 8, 7, 8]\n",
      "AEerror, mean over last 10: 0.551460232728\n",
      "=======================================================================\n",
      "========= Episode 1999 ================================================\n",
      "Total steps: 14238\n",
      "Episode rewards, last 10: [10.0, 10.0, 9.0, 8.0, 10.0, 10.0, 10.0, 9.0, 8.0, 10.0]\n",
      "Mean over last 500 episodes: 9.348\n",
      "Episode lengths, last 10: [9, 9, 8, 7, 9, 9, 9, 8, 7, 9]\n",
      "AEerror, mean over last 10: 0.5562910553\n",
      "=======================================================================\n",
      "========= Episode 2499 ================================================\n",
      "Total steps: 18923\n",
      "Episode rewards, last 10: [8.0, 10.0, 10.0, 8.0, 10.0, 9.0, 9.0, 9.0, 9.0, 10.0]\n",
      "Mean over last 500 episodes: 9.37\n",
      "Episode lengths, last 10: [7, 9, 9, 7, 9, 8, 8, 8, 8, 9]\n",
      "AEerror, mean over last 10: 0.533571805281\n",
      "=======================================================================\n",
      "\n",
      "========= Episode 499 ================================================\n",
      "Total steps: 9651\n",
      "Episode rewards, last 10: [38.0, 266.0, 356.0, 312.0, 165.0, 127.0, 148.0, 99.0, 13.0, 26.0]\n",
      "Mean over last 500 episodes: 29.302\n",
      "Episode lengths, last 10: [37, 265, 355, 311, 164, 126, 147, 98, 12, 25]\n",
      "AEerror, mean over last 10: 0.489147268971\n",
      "======================================================================\n",
      "========= Episode 999 ================================================\n",
      "Total steps: 101613\n",
      "Episode rewards, last 10: [369.0, 500.0, 500.0, 500.0, 500.0, 500.0, 500.0, 500.0, 500.0, 500.0]\n",
      "Mean over last 500 episodes: 183.924\n",
      "Episode lengths, last 10: [368, 499, 499, 499, 499, 499, 499, 499, 499, 499]\n",
      "AEerror, mean over last 10: 0.426646445588\n",
      "======================================================================\n",
      "========= Episode 1499 ================================================\n",
      "Total steps: 202968\n",
      "Episode rewards, last 10: [454.0, 500.0, 500.0, 500.0, 500.0, 500.0, 500.0, 500.0, 371.0, 20.0]\n",
      "Mean over last 500 episodes: 202.71\n",
      "Episode lengths, last 10: [453, 499, 499, 499, 499, 499, 499, 499, 370, 19]\n",
      "AEerror, mean over last 10: 0.273880096592\n",
      "=======================================================================\n",
      "========= Episode 1999 ================================================\n",
      "Total steps: 279798\n",
      "Episode rewards, last 10: [500.0, 500.0, 378.0, 49.0, 20.0, 500.0, 209.0, 500.0, 500.0, 500.0]\n",
      "Mean over last 500 episodes: 153.66\n",
      "Episode lengths, last 10: [499, 499, 377, 48, 19, 499, 208, 499, 499, 499]\n",
      "AEerror, mean over last 10: 0.115667615566\n",
      "=======================================================================\n",
      "========= Episode 2499 ================================================\n",
      "Total steps: 358872\n",
      "Episode rewards, last 10: [209.0, 195.0, 331.0, 500.0, 500.0, 500.0, 500.0, 413.0, 137.0, 15.0]\n",
      "Mean over last 500 episodes: 158.148\n",
      "Episode lengths, last 10: [208, 194, 330, 499, 499, 499, 499, 412, 136, 14]\n",
      "AEerror, mean over last 10: 0.210145521418\n",
      "=======================================================================\n",
      "\n",
      "========= Episode 499 ================================================\n",
      "Total steps: 0\n",
      "Episode rewards, last 10: [9.0, 10.0, 9.0, 10.0, 9.0, 9.0, 9.0, 10.0, 10.0, 10.0]\n",
      "Mean over last 500 episodes: 9.338\n",
      "Episode lengths, last 10: [8, 9, 8, 9, 8, 8, 8, 9, 9, 9]\n",
      "AEerror, mean over last 10: 0.658772896236\n",
      "======================================================================\n",
      "========= Episode 999 ================================================\n",
      "Total steps: 4382\n",
      "Episode rewards, last 10: [8.0, 9.0, 10.0, 9.0, 9.0, 9.0, 10.0, 8.0, 11.0, 10.0]\n",
      "Mean over last 500 episodes: 9.426\n",
      "Episode lengths, last 10: [7, 8, 9, 8, 8, 8, 9, 7, 10, 9]\n",
      "AEerror, mean over last 10: 0.563587543931\n",
      "======================================================================\n",
      "========= Episode 1499 ================================================\n",
      "Total steps: 9075\n",
      "Episode rewards, last 10: [9.0, 9.0, 10.0, 10.0, 10.0, 9.0, 10.0, 10.0, 9.0, 10.0]\n",
      "Mean over last 500 episodes: 9.386\n",
      "Episode lengths, last 10: [8, 8, 9, 9, 9, 8, 9, 9, 8, 9]\n",
      "AEerror, mean over last 10: 0.591148694921\n",
      "=======================================================================\n",
      "========= Episode 1999 ================================================\n",
      "Total steps: 13754\n",
      "Episode rewards, last 10: [10.0, 10.0, 9.0, 10.0, 11.0, 9.0, 8.0, 10.0, 10.0, 10.0]\n",
      "Mean over last 500 episodes: 9.358\n",
      "Episode lengths, last 10: [9, 9, 8, 9, 10, 8, 7, 9, 9, 9]\n",
      "AEerror, mean over last 10: 0.583688816716\n",
      "=======================================================================\n",
      "========= Episode 2499 ================================================\n",
      "Total steps: 18444\n",
      "Episode rewards, last 10: [9.0, 9.0, 9.0, 9.0, 11.0, 10.0, 9.0, 9.0, 8.0, 9.0]\n",
      "Mean over last 500 episodes: 9.38\n",
      "Episode lengths, last 10: [8, 8, 8, 8, 10, 9, 8, 8, 7, 8]\n",
      "AEerror, mean over last 10: 0.581624984869\n",
      "=======================================================================\n",
      "\n"
     ]
    }
   ],
   "source": [
    "res = produce_experiment(DDQL, ddql_combined_params, ddql_train_params, 10)"
   ]
  },
  {
   "cell_type": "code",
   "execution_count": null,
   "metadata": {
    "collapsed": true
   },
   "outputs": [],
   "source": []
  },
  {
   "cell_type": "code",
   "execution_count": 47,
   "metadata": {
    "collapsed": true
   },
   "outputs": [],
   "source": [
    "def plot_results(ddql_res, window = 100, std_coef = 0.2, results_over = 1000):\n",
    "    res_lists = [k.rList for k in ddql_res]\n",
    "    res_lists = np.array(res_lists)\n",
    "    pd.DataFrame(data = res_lists)\n",
    "    mean = res_lists.mean(axis = 0)\n",
    "    std = res_lists.std(axis = 0)\n",
    "    rol_mean = np.nan_to_num(pd.Series(mean).rolling(window = window).mean())\n",
    "    rol_std = np.nan_to_num(pd.Series(std).rolling(window = window).mean())\n",
    "    plt.figure()\n",
    "    index = np.arange(len(rol_mean))\n",
    "    plt.plot(index, rol_mean)\n",
    "    plt.fill_between(index, rol_mean-std_coef*rol_std, rol_mean+std_coef*rol_std, color='b', alpha=0.1)\n",
    "    return max(rol_mean[0:results_over]), rol_mean[0:results_over].mean(), pd.DataFrame(data = res_lists)"
   ]
  },
  {
   "cell_type": "code",
   "execution_count": 51,
   "metadata": {
    "collapsed": false
   },
   "outputs": [
    {
     "data": {
      "image/png": "[encoded data removed]",
      "text/plain": [
       "<matplotlib.figure.Figure at 0x13669b850>"
      ]
     },
     "metadata": {},
     "output_type": "display_data"
    }
   ],
   "source": [
    "comb_max, comb_auc, comb_df = plot_results(res, 100, 0.2)\n",
    "plt.savefig(\"comb_cp.png\")"
   ]
  },
  {
   "cell_type": "code",
   "execution_count": 49,
   "metadata": {
    "collapsed": false
   },
   "outputs": [
    {
     "name": "stdout",
     "output_type": "stream",
     "text": [
      "212.204 82.749782\n"
     ]
    }
   ],
   "source": [
    "print comb_max, comb_auc"
   ]
  },
  {
   "cell_type": "code",
   "execution_count": 50,
   "metadata": {
    "collapsed": true
   },
   "outputs": [],
   "source": [
    "comb_df.to_csv(\"comb.csv\")"
   ]
  },
  {
   "cell_type": "code",
   "execution_count": null,
   "metadata": {
    "collapsed": true
   },
   "outputs": [],
   "source": []
  }
 ],
 "metadata": {
  "anaconda-cloud": {},
  "kernelspec": {
   "display_name": "Python [conda root]",
   "language": "python",
   "name": "conda-root-py"
  },
  "language_info": {
   "codemirror_mode": {
    "name": "ipython",
    "version": 2
   },
   "file_extension": ".py",
   "mimetype": "text/x-python",
   "name": "python",
   "nbconvert_exporter": "python",
   "pygments_lexer": "ipython2",
   "version": "2.7.13"
  },
  "widgets": {
   "state": {
    "0bf54e92f7d74614b082327634968034": {
     "views": [
      {
       "cell_index": 31
      }
     ]
    },
    "24f2d6ee12a5475e97d8d4a97cb46ddd": {
     "views": [
      {
       "cell_index": 31
      }
     ]
    },
    "33c226670ede431e992c1021a507e39c": {
     "views": [
      {
       "cell_index": 31
      }
     ]
    },
    "428b3ab0fb7c4fdb98728c68072d4938": {
     "views": [
      {
       "cell_index": 31
      }
     ]
    },
    "569b005f440b4f9386040956ed1d67dd": {
     "views": [
      {
       "cell_index": 31
      }
     ]
    },
    "61544b63fdb14b21a224be922fc12230": {
     "views": [
      {
       "cell_index": 31
      }
     ]
    },
    "62a854fdff8548caa88af66e1503a407": {
     "views": [
      {
       "cell_index": 31
      }
     ]
    },
    "633ca4b07d5948f5b96562cf90e02ac1": {
     "views": [
      {
       "cell_index": 31
      }
     ]
    },
    "694af01b36ea42478fc9e5acb55e4296": {
     "views": [
      {
       "cell_index": 31
      }
     ]
    },
    "6dedc44158db44f382def77791698e7b": {
     "views": [
      {
       "cell_index": 31
      }
     ]
    },
    "8c56778e71c74fd5a2457a08fb405436": {
     "views": [
      {
       "cell_index": 31
      }
     ]
    },
    "aaf62282363e47a79905cebfa2d32b3c": {
     "views": [
      {
       "cell_index": 31
      }
     ]
    },
    "ae22b4e2b5d3456d8520aa1b305f62a7": {
     "views": [
      {
       "cell_index": 31
      }
     ]
    },
    "b366adf412fb4e3aa6f4db823167c3d2": {
     "views": [
      {
       "cell_index": 31
      }
     ]
    },
    "bf616c1d0c3047abac0b067a89c115d9": {
     "views": [
      {
       "cell_index": 31
      }
     ]
    },
    "c18f922b63304242871f81df87d63894": {
     "views": [
      {
       "cell_index": 31
      }
     ]
    },
    "c7b969932d9d43ddad9f976b6c3f4230": {
     "views": [
      {
       "cell_index": 31
      }
     ]
    },
    "cfb956b891a74578b6ee604db7eb12a8": {
     "views": [
      {
       "cell_index": 31
      }
     ]
    },
    "d5c62a97602a4bf8b0a78000a980cee3": {
     "views": [
      {
       "cell_index": 31
      }
     ]
    },
    "dd8885d3779c4827bfaa250276024e6b": {
     "views": [
      {
       "cell_index": 31
      }
     ]
    },
    "e9990c1927d845edbf74d1843bbd09c2": {
     "views": [
      {
       "cell_index": 31
      }
     ]
    },
    "fa0c58c904d04b7e9dacf20c27e6060b": {
     "views": [
      {
       "cell_index": 31
      }
     ]
    },
    "fcb7e9fbe447411a96af4fee8fd4db19": {
     "views": [
      {
       "cell_index": 31
      }
     ]
    }
   },
   "version": "1.2.0"
  }
 },
 "nbformat": 4,
 "nbformat_minor": 0
}
