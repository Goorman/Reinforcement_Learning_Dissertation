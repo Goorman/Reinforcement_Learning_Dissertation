{
 "cells": [
  {
   "cell_type": "code",
   "execution_count": 1,
   "metadata": {
    "collapsed": false
   },
   "outputs": [],
   "source": [
    "import scipy\n",
    "import scipy.misc\n",
    "import numpy as np\n",
    "import random\n",
    "import pandas as pd\n",
    "import gym\n",
    "from tqdm import tqdm\n",
    "from tqdm import tqdm_notebook\n",
    "import os\n",
    "import matplotlib.pyplot as plt\n",
    "%matplotlib inline"
   ]
  },
  {
   "cell_type": "code",
   "execution_count": 2,
   "metadata": {
    "collapsed": true
   },
   "outputs": [],
   "source": [
    "import lasagne\n",
    "import theano.tensor as T\n",
    "import theano"
   ]
  },
  {
   "cell_type": "code",
   "execution_count": 3,
   "metadata": {
    "collapsed": false
   },
   "outputs": [],
   "source": [
    "%load_ext autoreload\n",
    "%autoreload 2"
   ]
  },
  {
   "cell_type": "code",
   "execution_count": 4,
   "metadata": {
    "collapsed": false
   },
   "outputs": [],
   "source": [
    "class LunarLanding_wrapper():\n",
    "    def __init__(self):\n",
    "        self.state_size = (1, 8)\n",
    "        self.game_title = \"LunarLander-v2\"\n",
    "        self.actions = [\"DO_NOTHING\", \"FIRE_LEFT\", \"FIRE_MAIN\", \"FIRE_RIGHT\"]\n",
    "        self.n_actions = len(self.actions)\n",
    "        try:\n",
    "            self.env = gym.make(self.game_title)\n",
    "        except:\n",
    "            print (\"ERROR : Can't find \" + self.game_title + \" environment.\")\n",
    "            return None\n",
    "        self.env.reset()\n",
    "    \n",
    "    def processState(self, state):\n",
    "        return state.reshape(1, -1)\n",
    "    \n",
    "    def processAction(self, action):\n",
    "        return action\n",
    "    \n",
    "    def make_reset(self):\n",
    "        state = self.env.reset()\n",
    "    \n",
    "        return self.processState(state)\n",
    "    \n",
    "    def make_step(self, action, render = False):\n",
    "        action = self.processAction(action)\n",
    "    \n",
    "        state, ret1, ret2, ret3 = self.env.step(action)\n",
    "    \n",
    "        if render:\n",
    "            self.env.render()\n",
    "    \n",
    "        return self.processState(state), ret1, ret2, ret3"
   ]
  },
  {
   "cell_type": "code",
   "execution_count": 5,
   "metadata": {
    "collapsed": false
   },
   "outputs": [],
   "source": [
    "class CartPole_wrapper():\n",
    "    def __init__(self):\n",
    "        self.state_size = (1, 4)\n",
    "        self.game_title = \"CartPole-v0\"\n",
    "        self.actions = [\"LEFT\", \"RIGHT\"]\n",
    "        self.n_actions = len(self.actions)\n",
    "        try:\n",
    "            self.env = gym.make(self.game_title)\n",
    "        except:\n",
    "            print (\"ERROR : Can't find \" + self.game_title + \" environment.\")\n",
    "            return None\n",
    "        self.env.reset()\n",
    "    \n",
    "    def processState(self, state):\n",
    "        return state.reshape(1, -1)\n",
    "    \n",
    "    def processAction(self, action):\n",
    "        return action\n",
    "    \n",
    "    def make_reset(self):\n",
    "        state = self.env.reset()\n",
    "    \n",
    "        return self.processState(state)\n",
    "    \n",
    "    def make_step(self, action, render = False):\n",
    "        action = self.processAction(action)\n",
    "    \n",
    "        state, ret1, ret2, ret3 = self.env.step(action)\n",
    "    \n",
    "        if render:\n",
    "            self.env.render()\n",
    "    \n",
    "        return self.processState(state), ret1, ret2, ret3"
   ]
  },
  {
   "cell_type": "code",
   "execution_count": 6,
   "metadata": {
    "collapsed": false
   },
   "outputs": [],
   "source": [
    "class AVQ_nn():\n",
    "    def __init__(self, channels_number = 4, image_shape = (1, 8), n_actions = 4, grad_clipping = 10, lr = 0.0001):\n",
    "        self.input_var = T.tensor4('input')\n",
    "        \n",
    "        self.n_actions = n_actions\n",
    "        self.build_network(channels_number, image_shape)\n",
    "        self.build_AVQ(grad_clipping, lr)\n",
    "        self.compile_network()\n",
    "        \n",
    "    def build_network(self, channels_number, image_shape):\n",
    "        self.l1 = lasagne.layers.InputLayer(shape=(None, channels_number, image_shape[0], image_shape[1]), \n",
    "                                            input_var = self.input_var)\n",
    "        self.l2 = lasagne.layers.DenseLayer(self.l1, 40, nonlinearity=lasagne.nonlinearities.leaky_rectify)\n",
    "        self.l3 = lasagne.layers.DenseLayer(self.l2, 40, nonlinearity=lasagne.nonlinearities.leaky_rectify)\n",
    "        self.outlayer = lasagne.layers.DenseLayer(self.l3, 50, nonlinearity=lasagne.nonlinearities.leaky_rectify)\n",
    "    \n",
    "    def build_AVQ(self, grad_clipping, lr):\n",
    "        self.l_advantage = lasagne.layers.DenseLayer(self.outlayer, self.n_actions)\n",
    "        self.l_value = lasagne.layers.DenseLayer(self.outlayer, 1)\n",
    "        \n",
    "        self.advantage, self.value = lasagne.layers.get_output([self.l_advantage, self.l_value])\n",
    "\n",
    "        self.average_advantage = T.mean(self.advantage, keepdims = True, axis = 1)\n",
    "        \n",
    "#        self.Qout = self.advantage + self.value - self.average_advantage\n",
    "        self.Qout = self.advantage + self.value * 0\n",
    "        self.predict = T.argmax(self.Qout, axis = 1)\n",
    "        \n",
    "        self.targetQ = T.fvector('targetQ')\n",
    "        self.actions = T.ivector('actions')\n",
    "        self.actions_onehot = T.extra_ops.to_one_hot(self.actions, self.n_actions, dtype=np.float32)\n",
    "        \n",
    "        self.Q = T.sum(self.Qout * self.actions_onehot, axis = 1)\n",
    "        \n",
    "        self.td_error = T.sqr(self.targetQ - self.Q)\n",
    "        self.loss = T.mean(self.td_error)\n",
    "        \n",
    "        params = self.get_all_params()\n",
    "        self.all_grads = T.grad(self.loss, params)\n",
    "        self.scaled_grads = lasagne.updates.total_norm_constraint(self.all_grads, grad_clipping)\n",
    "        self.updates = lasagne.updates.adam(self.scaled_grads, params, learning_rate=lr)\n",
    "        \n",
    "    def compile_network(self):\n",
    "        self.Qout_fn = theano.function([self.input_var], self.Qout)\n",
    "        self.actionpred_fn = theano.function([self.input_var], self.predict)\n",
    "        self.train_fn = theano.function([self.input_var, self.targetQ, self.actions], self.loss, updates = self.updates)\n",
    "    \n",
    "    def get_all_params(self):\n",
    "        return lasagne.layers.get_all_params([self.l_advantage, self.l_value], trainable = True)\n",
    "    \n",
    "    def get_all_params_values(self):\n",
    "        return lasagne.layers.get_all_param_values([self.l_advantage, self.l_value], trainable = True)\n",
    "    \n",
    "    def set_all_params_values(self, values):\n",
    "        return lasagne.layers.set_all_param_values([self.l_advantage, self.l_value], values, trainable = True)"
   ]
  },
  {
   "cell_type": "code",
   "execution_count": 7,
   "metadata": {
    "collapsed": true
   },
   "outputs": [],
   "source": [
    "class experience_buffer():\n",
    "    def __init__(self, buffer_size = 10000):\n",
    "        self.buffer = []\n",
    "        self.buffer_size = buffer_size\n",
    "    \n",
    "    def add(self, experience):\n",
    "        if len(self.buffer) + len(experience) >= self.buffer_size:\n",
    "            self.buffer[0:(len(experience)+len(self.buffer))-self.buffer_size] = []\n",
    "        self.buffer.extend(experience)\n",
    "            \n",
    "    def sample(self, size):\n",
    "        return np.reshape(np.array(random.sample(self.buffer,size)),[size,5])"
   ]
  },
  {
   "cell_type": "code",
   "execution_count": null,
   "metadata": {
    "collapsed": true
   },
   "outputs": [],
   "source": []
  },
  {
   "cell_type": "code",
   "execution_count": 8,
   "metadata": {
    "collapsed": false
   },
   "outputs": [],
   "source": [
    "class window_aggregator():\n",
    "    def __init__(self, window_length, state_shape):\n",
    "        self.state_shape = state_shape\n",
    "        self.window_length = window_length\n",
    "        \n",
    "        assert len(self.state_shape) == 2\n",
    "        assert self.window_length >= 1\n",
    "        \n",
    "        self.start_aggregator_shape = (window_length, state_shape[0], state_shape[1])\n",
    "                                             \n",
    "        self.aggregator = np.zeros(self.start_aggregator_shape)\n",
    "        \n",
    "    def reset(self):\n",
    "        self.aggregator = np.zeros(self.start_aggregator_shape)\n",
    "                                       \n",
    "    def add_state(self, state):\n",
    "        state = np.expand_dims(state, 0)\n",
    "        self.aggregator = np.append(self.aggregator, state, axis = 0)\n",
    "    \n",
    "    def get_window(self):\n",
    "        return self.aggregator[-self.window_length:,:,:]                                                                           "
   ]
  },
  {
   "cell_type": "code",
   "execution_count": null,
   "metadata": {
    "collapsed": true
   },
   "outputs": [],
   "source": []
  },
  {
   "cell_type": "code",
   "execution_count": 9,
   "metadata": {
    "collapsed": true
   },
   "outputs": [],
   "source": [
    "class egreedy_agent():\n",
    "    def __init__(self, n_actions, actionpred_fn, startE = 1, endE = 0.1, anneling_steps = 50000):\n",
    "        self.startE = startE\n",
    "        self.endE = endE\n",
    "        self.anneling_steps = anneling_steps\n",
    "        self.stepE = (self.startE - self.endE) / self.anneling_steps\n",
    "        self.n_actions = n_actions\n",
    "        self.actionpred_fn = actionpred_fn\n",
    "    \n",
    "    def choose_action(self, state, current_step):\n",
    "        if current_step > self.anneling_steps:\n",
    "            epsilon = self.endE\n",
    "        else:\n",
    "            epsilon = self.startE - self.stepE * current_step\n",
    "        \n",
    "        if np.random.rand(1) < epsilon:\n",
    "            a = np.random.randint(0, self.n_actions)\n",
    "        else:\n",
    "            a = self.actionpred_fn(np.expand_dims(state, axis = 0))[0]\n",
    "            \n",
    "        return a"
   ]
  },
  {
   "cell_type": "code",
   "execution_count": 10,
   "metadata": {
    "collapsed": false
   },
   "outputs": [],
   "source": [
    "class boltzman_agent:\n",
    "    def __init__(self, n_actions, Qout_fn, startT = 1000, endT = 0.1, anneling_steps = 50000):\n",
    "        self.startT = startT\n",
    "        self.endT = endT\n",
    "        self.anneling_steps = anneling_steps\n",
    "        self.logstep = (np.log(startT) - np.log(endT)) / anneling_steps\n",
    "        self.n_actions = n_actions\n",
    "        self.Qout_fn = Qout_fn\n",
    "    \n",
    "    def choose_action(self, state, current_step):\n",
    "        scores = self.Qout_fn(np.expand_dims(state, axis = 0))[0]\n",
    "        if current_step > self.anneling_steps:\n",
    "            exponents = np.exp((scores - np.max(scores)) / self.endT)\n",
    "        else:\n",
    "            current_temp = self.startT / np.exp(self.logstep * current_step)\n",
    "            exponents = np.exp((scores - np.max(scores)) / current_temp)\n",
    "        probs = exponents / np.sum(exponents)\n",
    "        return np.random.choice(self.n_actions, p = probs)"
   ]
  },
  {
   "cell_type": "code",
   "execution_count": null,
   "metadata": {
    "collapsed": true
   },
   "outputs": [],
   "source": []
  },
  {
   "cell_type": "code",
   "execution_count": 11,
   "metadata": {
    "collapsed": false
   },
   "outputs": [],
   "source": [
    "class DDQL():\n",
    "    def __init__(self, lparams, env, agent = {\"agent\":\"egreedy\", \"params\":{}}):\n",
    "        self.grad_clip = lparams[\"grad_clipping\"]\n",
    "        self.lr = lparams[\"learning_rate\"]\n",
    "        self.window_size = lparams[\"window_size\"]\n",
    "        self.batch_size = lparams[\"batch_size\"]\n",
    "        self.gamma = lparams[\"gamma\"]\n",
    "        self.MQN_updatefreq = lparams[\"MQN_updatefreq\"]\n",
    "        self.TQN_updatefreq = lparams[\"TQN_updatefreq\"]\n",
    "        self.TQN_updaterate = lparams[\"TQN_updaterate\"]\n",
    "        self.print_freq = lparams[\"print_freq\"]\n",
    "        self.pretrain_steps = lparams[\"pretrain_steps\"]\n",
    "        self.buffer_size = lparams[\"buffer_size\"]\n",
    "        self.pretrain_over = False\n",
    "        \n",
    "        self.env = env\n",
    "        self.mainQN = AVQ_nn(self.window_size, self.env.state_size, self.env.n_actions, self.grad_clip, self.lr)\n",
    "        self.targetQN = AVQ_nn(self.window_size, self.env.state_size, self.env.n_actions, self.grad_clip, self.lr)\n",
    "\n",
    "        self.jList = []\n",
    "        self.rList = []\n",
    "        self.total_steps = 0\n",
    "        \n",
    "        self.window = window_aggregator(self.window_size, self.env.state_size)\n",
    "        self.experience_storage = experience_buffer(self.buffer_size)\n",
    "        self.agent = self.getAgent(agent[\"agent\"], agent[\"params\"])\n",
    "            \n",
    "    def getAgent(self, agent, agentparams):\n",
    "        if agent == \"egreedy\":\n",
    "            return egreedy_agent(self.env.n_actions, self.mainQN.actionpred_fn, **agentparams)\n",
    "        elif agent == \"boltzman\":\n",
    "            return boltzman_agent(self.env.n_actions, self.mainQN.Qout_fn, **agentparams)\n",
    "        else:\n",
    "            raise ValueError(\"Unknown agent\")\n",
    "            \n",
    "    def updateTarget(self):\n",
    "        self.targetQN.set_all_params_values(self.mainQN.get_all_params_values())\n",
    "    \n",
    "    def discount_rewards(self, r):\n",
    "        return r\n",
    "        \n",
    "        discounted_r = np.zeros_like(r)\n",
    "        running_add = 0\n",
    "        for t in reversed(xrange(0, r.size)):\n",
    "            running_add = running_add * self.gamma + r[t]\n",
    "            discounted_r[t] = running_add\n",
    "        return discounted_r\n",
    "\n",
    "    def train(self, num_episodes, frame_limit, render = True):\n",
    "        self.updateTarget()\n",
    "        self.window.reset()\n",
    "            \n",
    "        for episode_num in tqdm_notebook(range(num_episodes), desc = \"RL train\"):\n",
    "            episode_storage = experience_buffer()\n",
    "            state = self.env.make_reset()\n",
    "            self.window.add_state(state)\n",
    "            window_state = self.window.get_window()\n",
    "                \n",
    "            for iteration in xrange(0, frame_limit):\n",
    "                action = self.agent.choose_action(window_state, self.total_steps)\n",
    "                new_state, reward, gameover, _ = self.env.make_step(action, render)\n",
    "                self.window.add_state(new_state)\n",
    "                new_window_state = self.window.get_window()\n",
    "                episode_storage.add(np.reshape(np.array([window_state, action, reward, new_window_state, gameover]),[1,5]))\n",
    "                    \n",
    "                if self.pretrain_over:\n",
    "                    self.total_steps += 1\n",
    "                \n",
    "                    if self.total_steps % (self.TQN_updatefreq) == 0:\n",
    "                        self.updateTarget()\n",
    "                \n",
    "                    if self.total_steps % (self.MQN_updatefreq) == 0:\n",
    "                        train_batch = self.experience_storage.sample(self.batch_size)\n",
    "                        new_state_batch = np.stack(train_batch[:,3])\n",
    "                        old_state_batch = np.stack(train_batch[:,0])\n",
    "                        Q1 = self.mainQN.actionpred_fn(new_state_batch)   \n",
    "                        Q2 = self.targetQN.Qout_fn(new_state_batch)\n",
    "#                        Q2 = self.mainQN.Qout_fn(new_state_batch)\n",
    "                        end_multiplier = -(train_batch[:,4] - 1)\n",
    "                        doubleQ = Q2[range(self.batch_size),Q1]\n",
    "                        targetQ = (train_batch[:,2] + (self.gamma * doubleQ * end_multiplier)).astype(np.float32)\n",
    "                        action_vector = (train_batch[:,1]).astype(np.int32)\n",
    "                        _ = self.mainQN.train_fn(old_state_batch, targetQ, action_vector)\n",
    "                         \n",
    "                else:\n",
    "                    self.pretrain_steps -= 1;\n",
    "                    if self.pretrain_steps <= 0:\n",
    "                        self.pretrain_over = True\n",
    "                        \n",
    "                state = new_state\n",
    "                window_state = new_window_state\n",
    "            \n",
    "                if gameover:\n",
    "                    self.window.reset()\n",
    "                    break\n",
    "    \n",
    "            episode_rewards = np.array(episode_storage.buffer)[:,2]\n",
    "            total_reward = np.sum(episode_rewards)\n",
    "            discount_rewards = self.discount_rewards(episode_rewards)\n",
    "            buffer_array = np.array(episode_storage.buffer)\n",
    "            buffer_array[:,2] = discount_rewards\n",
    "            self.experience_storage.add(zip(buffer_array))\n",
    "            self.jList.append(iteration)\n",
    "            self.rList.append(total_reward)\n",
    "            if len(self.rList) % self.print_freq == 0:\n",
    "                tqdm.write(\" \".join([\"========= Episode\", str(episode_num), \"================================================\"]))\n",
    "                tqdm.write(\" \".join([\"Total steps:\", str(self.total_steps)]))\n",
    "                tqdm.write(\" \".join([\"Episode rewards, last 10:\", str(self.rList[-10:])]))\n",
    "                tqdm.write(\" \".join([\"Mean over last\", str(self.print_freq), \"episodes:\", str(np.mean(self.rList[-self.print_freq:]))]))\n",
    "                tqdm.write(\" \".join([\"Episode lengths, last 10:\", str(self.jList[-10:])]))\n",
    "                tqdm.write(\"===================================================================\" + \"=\" * len(str(episode_num)))"
   ]
  },
  {
   "cell_type": "code",
   "execution_count": 12,
   "metadata": {
    "collapsed": true
   },
   "outputs": [],
   "source": [
    "def plot_rewards(ddqlmodel, meanwindow = 250):\n",
    "    rlist = [ddqlmodel.rList[0]] * meanwindow + ddqlmodel.rList\n",
    "    x = [np.mean(rlist[k:k+meanwindow]) for k in range(len(rlist) - meanwindow)]\n",
    "    plt.plot(np.arange(len(x)), x)"
   ]
  },
  {
   "cell_type": "code",
   "execution_count": 13,
   "metadata": {
    "collapsed": false
   },
   "outputs": [
    {
     "name": "stderr",
     "output_type": "stream",
     "text": [
      "[2017-05-14 13:26:14,906] Making new env: CartPole-v0\n"
     ]
    }
   ],
   "source": [
    "#ll_env = LunarLanding_wrapper()\n",
    "cp_env = CartPole_wrapper()"
   ]
  },
  {
   "cell_type": "code",
   "execution_count": 14,
   "metadata": {
    "collapsed": true
   },
   "outputs": [],
   "source": [
    "lparams = {\"grad_clipping\" : 50,\n",
    "           \"learning_rate\" : 0.005,\n",
    "           \"window_size\" : 1,\n",
    "           \"batch_size\" : 8,\n",
    "           \"buffer_size\" : 128,\n",
    "           \"gamma\" : 0.98,\n",
    "           \"MQN_updatefreq\" : 1,\n",
    "           \"TQN_updatefreq\" : 16,\n",
    "           \"TQN_updaterate\" : 0.01,\n",
    "           \"print_freq\" : 500,\n",
    "           \"pretrain_steps\" : 5000,\n",
    "           \"render\" : False}"
   ]
  },
  {
   "cell_type": "code",
   "execution_count": 15,
   "metadata": {
    "collapsed": true
   },
   "outputs": [],
   "source": [
    "egreedyagentinfo = {\"agent\" : \"egreedy\",\n",
    "                    \"params\" : {\"startE\": 0.5,\n",
    "                                \"endE\" : 0.1,\n",
    "                                \"anneling_steps\":1000}}"
   ]
  },
  {
   "cell_type": "code",
   "execution_count": 16,
   "metadata": {
    "collapsed": true
   },
   "outputs": [],
   "source": [
    "boltzmanagentinfo = {\"agent\" : \"boltzman\",\n",
    "                     \"params\" : {\"startT\": 10,\n",
    "                                 \"endT\" : 1,\n",
    "                                 \"anneling_steps\":10000}}"
   ]
  },
  {
   "cell_type": "code",
   "execution_count": null,
   "metadata": {
    "collapsed": false
   },
   "outputs": [],
   "source": [
    "ddql = DDQL(lparams = lparams, env = cp_env, agent = boltzmanagentinfo)"
   ]
  },
  {
   "cell_type": "code",
   "execution_count": null,
   "metadata": {
    "collapsed": false,
    "scrolled": true
   },
   "outputs": [],
   "source": [
    "ddql.train(num_episodes = 5000, frame_limit = 500, render = False)"
   ]
  },
  {
   "cell_type": "code",
   "execution_count": null,
   "metadata": {
    "collapsed": false
   },
   "outputs": [],
   "source": [
    "plot_rewards(ddql)"
   ]
  },
  {
   "cell_type": "markdown",
   "metadata": {
    "collapsed": true
   },
   "source": [
    "Е-жадная стратегия."
   ]
  },
  {
   "cell_type": "code",
   "execution_count": null,
   "metadata": {
    "collapsed": true
   },
   "outputs": [],
   "source": [
    "ddql2 = DDQL(lparams = lparams, env = cp_env, agent = boltzmanagentinfo)"
   ]
  },
  {
   "cell_type": "code",
   "execution_count": null,
   "metadata": {
    "collapsed": false,
    "scrolled": true
   },
   "outputs": [],
   "source": [
    "ddql2.train(num_episodes = 5000, frame_limit = 500, render = False)"
   ]
  },
  {
   "cell_type": "code",
   "execution_count": null,
   "metadata": {
    "collapsed": false
   },
   "outputs": [],
   "source": [
    "plot_rewards(ddql2)"
   ]
  },
  {
   "cell_type": "markdown",
   "metadata": {
    "collapsed": true
   },
   "source": [
    "Е-жадная стратегия."
   ]
  },
  {
   "cell_type": "code",
   "execution_count": null,
   "metadata": {
    "collapsed": true
   },
   "outputs": [],
   "source": [
    "ddql4 = DDQL(lparams = lparams, env = cp_env, agent = boltzmanagentinfo)"
   ]
  },
  {
   "cell_type": "code",
   "execution_count": null,
   "metadata": {
    "collapsed": false,
    "scrolled": true
   },
   "outputs": [],
   "source": [
    "ddql4.train(num_episodes = 2500, frame_limit = 500, render = False)"
   ]
  },
  {
   "cell_type": "code",
   "execution_count": null,
   "metadata": {
    "collapsed": false
   },
   "outputs": [],
   "source": [
    "plot_rewards(ddql4)"
   ]
  },
  {
   "cell_type": "markdown",
   "metadata": {
    "collapsed": true
   },
   "source": [
    "Как видно из графиков(первые два - е-жадная стратегия, третий - стратегия с сглаживанием больцмана), процесс обучения нестабилен, т.е. алгоритм проводит неопределенное количество времени с маленькой наградой(зависит от начальной инициализации весов и последовательностью сгенерированных эпизодов окружения), только после чего он начинает обучаться."
   ]
  },
  {
   "cell_type": "markdown",
   "metadata": {},
   "source": [
    "Для построения наиболее иллюстративных графиков эффектов реализуемых алгоритмов необходимо запускать алгоритм несколько раз (желательно более десяти), и строить графики, показывающие средние значения и средние отклонения наград."
   ]
  },
  {
   "cell_type": "code",
   "execution_count": 17,
   "metadata": {
    "collapsed": true
   },
   "outputs": [],
   "source": [
    "def produce_experiment(ddql, ddql_init_params, ddql_train_params, experiment_num = 5):\n",
    "    ddql_list = [ddql(**ddql_init_params) for k in range(experiment_num)]\n",
    "    \n",
    "    for k in range(experiment_num):\n",
    "        ddql_list[k].train(**ddql_train_params)\n",
    "        \n",
    "    return ddql_list"
   ]
  },
  {
   "cell_type": "code",
   "execution_count": 18,
   "metadata": {
    "collapsed": false
   },
   "outputs": [],
   "source": [
    "ddql_egreedy_params = {\"lparams\":lparams, \"env\":cp_env, \"agent\":egreedyagentinfo}\n",
    "ddql_boltzman_params = {\"lparams\":lparams, \"env\":cp_env, \"agent\":boltzmanagentinfo}\n",
    "\n",
    "ddql_train_params = {\"num_episodes\":2500, \"frame_limit\":500, \"render\":False}"
   ]
  },
  {
   "cell_type": "code",
   "execution_count": 19,
   "metadata": {
    "collapsed": false,
    "scrolled": true
   },
   "outputs": [
    {
     "name": "stdout",
     "output_type": "stream",
     "text": [
      "========= Episode 499 ================================================\n",
      "Total steps: 1448\n",
      "Episode rewards, last 10: [10.0, 9.0, 9.0, 8.0, 12.0, 10.0, 9.0, 11.0, 9.0, 9.0]\n",
      "Mean over last 500 episodes: 12.896\n",
      "Episode lengths, last 10: [9, 8, 8, 7, 11, 9, 8, 10, 8, 8]\n",
      "======================================================================\n",
      "========= Episode 999 ================================================\n",
      "Total steps: 83980\n",
      "Episode rewards, last 10: [500.0, 500.0, 84.0, 103.0, 53.0, 183.0, 500.0, 52.0, 10.0, 22.0]\n",
      "Mean over last 500 episodes: 165.064\n",
      "Episode lengths, last 10: [499, 499, 83, 102, 52, 182, 499, 51, 9, 21]\n",
      "======================================================================\n",
      "========= Episode 1499 ================================================\n",
      "Total steps: 185461\n",
      "Episode rewards, last 10: [152.0, 380.0, 126.0, 500.0, 500.0, 500.0, 500.0, 500.0, 500.0, 500.0]\n",
      "Mean over last 500 episodes: 202.962\n",
      "Episode lengths, last 10: [151, 379, 125, 499, 499, 499, 499, 499, 499, 499]\n",
      "=======================================================================\n",
      "========= Episode 1999 ================================================\n",
      "Total steps: 294158\n",
      "Episode rewards, last 10: [125.0, 500.0, 35.0, 17.0, 15.0, 500.0, 80.0, 82.0, 215.0, 65.0]\n",
      "Mean over last 500 episodes: 217.394\n",
      "Episode lengths, last 10: [124, 499, 34, 16, 14, 499, 79, 81, 214, 64]\n",
      "=======================================================================\n",
      "========= Episode 2499 ================================================\n",
      "Total steps: 398970\n",
      "Episode rewards, last 10: [500.0, 500.0, 500.0, 500.0, 500.0, 500.0, 500.0, 500.0, 500.0, 500.0]\n",
      "Mean over last 500 episodes: 209.624\n",
      "Episode lengths, last 10: [499, 499, 499, 499, 499, 499, 499, 499, 499, 499]\n",
      "=======================================================================\n",
      "\n",
      "========= Episode 499 ================================================\n",
      "Total steps: 1509\n",
      "Episode rewards, last 10: [9.0, 11.0, 10.0, 10.0, 9.0, 10.0, 10.0, 13.0, 10.0, 9.0]\n",
      "Mean over last 500 episodes: 13.018\n",
      "Episode lengths, last 10: [8, 10, 9, 9, 8, 9, 9, 12, 9, 8]\n",
      "======================================================================\n",
      "========= Episode 999 ================================================\n",
      "Total steps: 6451\n",
      "Episode rewards, last 10: [8.0, 8.0, 10.0, 9.0, 12.0, 9.0, 10.0, 9.0, 10.0, 8.0]\n",
      "Mean over last 500 episodes: 9.884\n",
      "Episode lengths, last 10: [7, 7, 9, 8, 11, 8, 9, 8, 9, 7]\n",
      "======================================================================\n",
      "========= Episode 1499 ================================================\n",
      "Total steps: 11370\n",
      "Episode rewards, last 10: [10.0, 12.0, 9.0, 9.0, 8.0, 10.0, 10.0, 10.0, 11.0, 9.0]\n",
      "Mean over last 500 episodes: 9.838\n",
      "Episode lengths, last 10: [9, 11, 8, 8, 7, 9, 9, 9, 10, 8]\n",
      "=======================================================================\n",
      "========= Episode 1999 ================================================\n",
      "Total steps: 16298\n",
      "Episode rewards, last 10: [9.0, 10.0, 10.0, 10.0, 10.0, 10.0, 12.0, 10.0, 9.0, 10.0]\n",
      "Mean over last 500 episodes: 9.856\n",
      "Episode lengths, last 10: [8, 9, 9, 9, 9, 9, 11, 9, 8, 9]\n",
      "=======================================================================\n",
      "========= Episode 2499 ================================================\n",
      "Total steps: 21283\n",
      "Episode rewards, last 10: [10.0, 10.0, 9.0, 12.0, 10.0, 10.0, 10.0, 10.0, 9.0, 9.0]\n",
      "Mean over last 500 episodes: 9.97\n",
      "Episode lengths, last 10: [9, 9, 8, 11, 9, 9, 9, 9, 8, 8]\n",
      "=======================================================================\n",
      "\n",
      "========= Episode 499 ================================================\n",
      "Total steps: 15878\n",
      "Episode rewards, last 10: [51.0, 500.0, 238.0, 391.0, 105.0, 13.0, 14.0, 75.0, 166.0, 14.0]\n",
      "Mean over last 500 episodes: 41.756\n",
      "Episode lengths, last 10: [50, 499, 237, 390, 104, 12, 13, 74, 165, 13]\n",
      "======================================================================\n",
      "========= Episode 999 ================================================\n",
      "Total steps: 111539\n",
      "Episode rewards, last 10: [190.0, 106.0, 143.0, 121.0, 284.0, 228.0, 111.0, 209.0, 87.0, 104.0]\n",
      "Mean over last 500 episodes: 191.322\n",
      "Episode lengths, last 10: [189, 105, 142, 120, 283, 227, 110, 208, 86, 103]\n",
      "======================================================================\n",
      "========= Episode 1499 ================================================\n",
      "Total steps: 207000\n",
      "Episode rewards, last 10: [451.0, 107.0, 58.0, 500.0, 166.0, 338.0, 137.0, 500.0, 14.0, 470.0]\n",
      "Mean over last 500 episodes: 190.922\n",
      "Episode lengths, last 10: [450, 106, 57, 499, 165, 337, 136, 499, 13, 469]\n",
      "=======================================================================\n",
      "========= Episode 1999 ================================================\n",
      "Total steps: 304168\n",
      "Episode rewards, last 10: [185.0, 196.0, 500.0, 500.0, 500.0, 500.0, 219.0, 231.0, 202.0, 219.0]\n",
      "Mean over last 500 episodes: 194.336\n",
      "Episode lengths, last 10: [184, 195, 499, 499, 499, 499, 218, 230, 201, 218]\n",
      "=======================================================================\n",
      "========= Episode 2499 ================================================\n",
      "Total steps: 414862\n",
      "Episode rewards, last 10: [97.0, 128.0, 135.0, 123.0, 17.0, 22.0, 73.0, 39.0, 206.0, 68.0]\n",
      "Mean over last 500 episodes: 221.388\n",
      "Episode lengths, last 10: [96, 127, 134, 122, 16, 21, 72, 38, 205, 67]\n",
      "=======================================================================\n",
      "\n",
      "========= Episode 499 ================================================\n",
      "Total steps: 68244\n",
      "Episode rewards, last 10: [500.0, 453.0, 24.0, 122.0, 305.0, 257.0, 391.0, 385.0, 500.0, 64.0]\n",
      "Mean over last 500 episodes: 146.488\n",
      "Episode lengths, last 10: [499, 452, 23, 121, 304, 256, 390, 384, 499, 63]\n",
      "======================================================================\n",
      "========= Episode 999 ================================================\n",
      "Total steps: 173563\n",
      "Episode rewards, last 10: [500.0, 500.0, 46.0, 12.0, 97.0, 116.0, 500.0, 207.0, 289.0, 143.0]\n",
      "Mean over last 500 episodes: 210.638\n",
      "Episode lengths, last 10: [499, 499, 45, 11, 96, 115, 499, 206, 288, 142]\n",
      "======================================================================\n",
      "========= Episode 1499 ================================================\n",
      "Total steps: 308744\n",
      "Episode rewards, last 10: [422.0, 500.0, 500.0, 500.0, 500.0, 500.0, 500.0, 247.0, 129.0, 123.0]\n",
      "Mean over last 500 episodes: 270.362\n",
      "Episode lengths, last 10: [421, 499, 499, 499, 499, 499, 499, 246, 128, 122]\n",
      "=======================================================================\n",
      "========= Episode 1999 ================================================\n",
      "Total steps: 439706\n",
      "Episode rewards, last 10: [500.0, 500.0, 500.0, 328.0, 136.0, 79.0, 291.0, 12.0, 13.0, 127.0]\n",
      "Mean over last 500 episodes: 261.924\n",
      "Episode lengths, last 10: [499, 499, 499, 327, 135, 78, 290, 11, 12, 126]\n",
      "=======================================================================\n",
      "========= Episode 2499 ================================================\n",
      "Total steps: 570095\n",
      "Episode rewards, last 10: [114.0, 500.0, 171.0, 500.0, 500.0, 500.0, 500.0, 500.0, 500.0, 500.0]\n",
      "Mean over last 500 episodes: 260.778\n",
      "Episode lengths, last 10: [113, 499, 170, 499, 499, 499, 499, 499, 499, 499]\n",
      "=======================================================================\n",
      "\n",
      "========= Episode 499 ================================================\n",
      "Total steps: 14701\n",
      "Episode rewards, last 10: [77.0, 19.0, 247.0, 397.0, 107.0, 56.0, 335.0, 113.0, 170.0, 500.0]\n",
      "Mean over last 500 episodes: 39.402\n",
      "Episode lengths, last 10: [76, 18, 246, 396, 106, 55, 334, 112, 169, 499]\n",
      "======================================================================\n",
      "========= Episode 999 ================================================\n",
      "Total steps: 104506\n",
      "Episode rewards, last 10: [72.0, 59.0, 331.0, 235.0, 12.0, 145.0, 11.0, 14.0, 52.0, 63.0]\n",
      "Mean over last 500 episodes: 179.61\n",
      "Episode lengths, last 10: [71, 58, 330, 234, 11, 144, 10, 13, 51, 62]\n",
      "======================================================================\n",
      "========= Episode 1499 ================================================\n",
      "Total steps: 181129\n",
      "Episode rewards, last 10: [28.0, 27.0, 132.0, 39.0, 39.0, 59.0, 449.0, 60.0, 30.0, 36.0]\n",
      "Mean over last 500 episodes: 153.246\n",
      "Episode lengths, last 10: [27, 26, 131, 38, 38, 58, 448, 59, 29, 35]\n",
      "=======================================================================\n",
      "========= Episode 1999 ================================================\n",
      "Total steps: 287765\n",
      "Episode rewards, last 10: [500.0, 13.0, 51.0, 15.0, 132.0, 500.0, 500.0, 202.0, 500.0, 500.0]\n",
      "Mean over last 500 episodes: 213.272\n",
      "Episode lengths, last 10: [499, 12, 50, 14, 131, 499, 499, 201, 499, 499]\n",
      "=======================================================================\n",
      "========= Episode 2499 ================================================\n",
      "Total steps: 336694\n",
      "Episode rewards, last 10: [9.0, 10.0, 9.0, 10.0, 10.0, 10.0, 10.0, 9.0, 9.0, 9.0]\n",
      "Mean over last 500 episodes: 97.858\n",
      "Episode lengths, last 10: [8, 9, 8, 9, 9, 9, 9, 8, 8, 8]\n",
      "=======================================================================\n",
      "\n",
      "========= Episode 499 ================================================\n",
      "Total steps: 1599\n",
      "Episode rewards, last 10: [8.0, 10.0, 9.0, 9.0, 8.0, 12.0, 10.0, 9.0, 10.0, 12.0]\n",
      "Mean over last 500 episodes: 13.198\n",
      "Episode lengths, last 10: [7, 9, 8, 8, 7, 11, 9, 8, 9, 11]\n",
      "======================================================================\n",
      "========= Episode 999 ================================================\n",
      "Total steps: 6540\n",
      "Episode rewards, last 10: [14.0, 9.0, 9.0, 11.0, 11.0, 10.0, 10.0, 9.0, 11.0, 9.0]\n",
      "Mean over last 500 episodes: 9.882\n",
      "Episode lengths, last 10: [13, 8, 8, 10, 10, 9, 9, 8, 10, 8]\n",
      "======================================================================\n",
      "========= Episode 1499 ================================================\n",
      "Total steps: 11545\n",
      "Episode rewards, last 10: [9.0, 10.0, 10.0, 12.0, 9.0, 10.0, 15.0, 10.0, 12.0, 10.0]\n",
      "Mean over last 500 episodes: 10.01\n",
      "Episode lengths, last 10: [8, 9, 9, 11, 8, 9, 14, 9, 11, 9]\n",
      "=======================================================================\n",
      "========= Episode 1999 ================================================\n",
      "Total steps: 24863\n",
      "Episode rewards, last 10: [469.0, 315.0, 230.0, 317.0, 16.0, 160.0, 12.0, 24.0, 40.0, 45.0]\n",
      "Mean over last 500 episodes: 26.636\n",
      "Episode lengths, last 10: [468, 314, 229, 316, 15, 159, 11, 23, 39, 44]\n",
      "=======================================================================\n",
      "========= Episode 2499 ================================================\n",
      "Total steps: 121515\n",
      "Episode rewards, last 10: [391.0, 34.0, 500.0, 287.0, 500.0, 500.0, 337.0, 36.0, 159.0, 166.0]\n",
      "Mean over last 500 episodes: 193.304\n",
      "Episode lengths, last 10: [390, 33, 499, 286, 499, 499, 336, 35, 158, 165]\n",
      "=======================================================================\n",
      "\n",
      "========= Episode 499 ================================================\n",
      "Total steps: 29157\n",
      "Episode rewards, last 10: [171.0, 500.0, 500.0, 177.0, 500.0, 81.0, 13.0, 500.0, 500.0, 155.0]\n",
      "Mean over last 500 episodes: 68.314\n",
      "Episode lengths, last 10: [170, 499, 499, 176, 499, 80, 12, 499, 499, 154]\n",
      "======================================================================\n",
      "========= Episode 999 ================================================\n",
      "Total steps: 104185\n",
      "Episode rewards, last 10: [96.0, 143.0, 39.0, 390.0, 500.0, 500.0, 45.0, 280.0, 108.0, 500.0]\n",
      "Mean over last 500 episodes: 150.056\n",
      "Episode lengths, last 10: [95, 142, 38, 389, 499, 499, 44, 279, 107, 499]\n",
      "======================================================================\n",
      "========= Episode 1499 ================================================\n",
      "Total steps: 194707\n",
      "Episode rewards, last 10: [365.0, 500.0, 500.0, 500.0, 327.0, 24.0, 500.0, 226.0, 500.0, 59.0]\n",
      "Mean over last 500 episodes: 181.044\n",
      "Episode lengths, last 10: [364, 499, 499, 499, 326, 23, 499, 225, 499, 58]\n",
      "=======================================================================\n",
      "========= Episode 1999 ================================================\n",
      "Total steps: 297597\n",
      "Episode rewards, last 10: [15.0, 16.0, 41.0, 12.0, 12.0, 10.0, 8.0, 13.0, 500.0, 500.0]\n",
      "Mean over last 500 episodes: 205.78\n",
      "Episode lengths, last 10: [14, 15, 40, 11, 11, 9, 7, 12, 499, 499]\n",
      "=======================================================================\n",
      "========= Episode 2499 ================================================\n",
      "Total steps: 410249\n",
      "Episode rewards, last 10: [11.0, 40.0, 45.0, 162.0, 126.0, 86.0, 105.0, 21.0, 17.0, 500.0]\n",
      "Mean over last 500 episodes: 225.304\n",
      "Episode lengths, last 10: [10, 39, 44, 161, 125, 85, 104, 20, 16, 499]\n",
      "=======================================================================\n",
      "\n",
      "========= Episode 499 ================================================\n",
      "Total steps: 67544\n",
      "Episode rewards, last 10: [69.0, 273.0, 26.0, 17.0, 152.0, 34.0, 43.0, 96.0, 16.0, 500.0]\n",
      "Mean over last 500 episodes: 145.088\n",
      "Episode lengths, last 10: [68, 272, 25, 16, 151, 33, 42, 95, 15, 499]\n",
      "======================================================================\n",
      "========= Episode 999 ================================================\n",
      "Total steps: 181095\n",
      "Episode rewards, last 10: [500.0, 413.0, 500.0, 116.0, 183.0, 14.0, 110.0, 119.0, 123.0, 107.0]\n",
      "Mean over last 500 episodes: 227.102\n",
      "Episode lengths, last 10: [499, 412, 499, 115, 182, 13, 109, 118, 122, 106]\n",
      "======================================================================\n",
      "========= Episode 1499 ================================================\n",
      "Total steps: 305285\n",
      "Episode rewards, last 10: [103.0, 139.0, 147.0, 150.0, 500.0, 86.0, 206.0, 65.0, 500.0, 500.0]\n",
      "Mean over last 500 episodes: 248.38\n",
      "Episode lengths, last 10: [102, 138, 146, 149, 499, 85, 205, 64, 499, 499]\n",
      "=======================================================================\n",
      "========= Episode 1999 ================================================\n",
      "Total steps: 435281\n",
      "Episode rewards, last 10: [67.0, 34.0, 36.0, 28.0, 88.0, 37.0, 35.0, 33.0, 31.0, 57.0]\n",
      "Mean over last 500 episodes: 259.992\n",
      "Episode lengths, last 10: [66, 33, 35, 27, 87, 36, 34, 32, 30, 56]\n",
      "=======================================================================\n",
      "========= Episode 2499 ================================================\n",
      "Total steps: 565740\n",
      "Episode rewards, last 10: [14.0, 129.0, 148.0, 500.0, 13.0, 17.0, 14.0, 101.0, 47.0, 173.0]\n",
      "Mean over last 500 episodes: 260.918\n",
      "Episode lengths, last 10: [13, 128, 147, 499, 12, 16, 13, 100, 46, 172]\n",
      "=======================================================================\n",
      "\n",
      "========= Episode 499 ================================================\n",
      "Total steps: 69828\n",
      "Episode rewards, last 10: [10.0, 16.0, 12.0, 14.0, 79.0, 90.0, 80.0, 500.0, 13.0, 50.0]\n",
      "Mean over last 500 episodes: 149.656\n",
      "Episode lengths, last 10: [9, 15, 11, 13, 78, 89, 79, 499, 12, 49]\n",
      "======================================================================\n",
      "========= Episode 999 ================================================\n",
      "Total steps: 161921\n",
      "Episode rewards, last 10: [153.0, 217.0, 194.0, 37.0, 154.0, 443.0, 299.0, 136.0, 500.0, 80.0]\n",
      "Mean over last 500 episodes: 184.186\n",
      "Episode lengths, last 10: [152, 216, 193, 36, 153, 442, 298, 135, 499, 79]\n",
      "======================================================================\n",
      "========= Episode 1499 ================================================\n",
      "Total steps: 259505\n",
      "Episode rewards, last 10: [500.0, 500.0, 500.0, 500.0, 500.0, 30.0, 28.0, 500.0, 156.0, 500.0]\n",
      "Mean over last 500 episodes: 195.168\n",
      "Episode lengths, last 10: [499, 499, 499, 499, 499, 29, 27, 499, 155, 499]\n",
      "=======================================================================\n",
      "========= Episode 1999 ================================================\n",
      "Total steps: 383200\n",
      "Episode rewards, last 10: [100.0, 62.0, 500.0, 100.0, 25.0, 69.0, 461.0, 108.0, 500.0, 500.0]\n",
      "Mean over last 500 episodes: 247.39\n",
      "Episode lengths, last 10: [99, 61, 499, 99, 24, 68, 460, 107, 499, 499]\n",
      "=======================================================================\n",
      "========= Episode 2499 ================================================\n",
      "Total steps: 509272\n",
      "Episode rewards, last 10: [82.0, 78.0, 82.0, 141.0, 79.0, 296.0, 500.0, 61.0, 90.0, 89.0]\n",
      "Mean over last 500 episodes: 252.144\n",
      "Episode lengths, last 10: [81, 77, 81, 140, 78, 295, 499, 60, 89, 88]\n",
      "=======================================================================\n",
      "\n",
      "========= Episode 499 ================================================\n",
      "Total steps: 2133\n",
      "Episode rewards, last 10: [10.0, 8.0, 9.0, 11.0, 9.0, 9.0, 9.0, 10.0, 10.0, 8.0]\n",
      "Mean over last 500 episodes: 14.266\n",
      "Episode lengths, last 10: [9, 7, 8, 10, 8, 8, 8, 9, 9, 7]\n",
      "======================================================================\n",
      "========= Episode 999 ================================================\n",
      "Total steps: 7087\n",
      "Episode rewards, last 10: [10.0, 10.0, 10.0, 10.0, 9.0, 9.0, 10.0, 9.0, 10.0, 13.0]\n",
      "Mean over last 500 episodes: 9.908\n",
      "Episode lengths, last 10: [9, 9, 9, 9, 8, 8, 9, 8, 9, 12]\n",
      "======================================================================\n",
      "========= Episode 1499 ================================================\n",
      "Total steps: 12023\n",
      "Episode rewards, last 10: [10.0, 9.0, 10.0, 10.0, 11.0, 11.0, 9.0, 10.0, 9.0, 8.0]\n",
      "Mean over last 500 episodes: 9.872\n",
      "Episode lengths, last 10: [9, 8, 9, 9, 10, 10, 8, 9, 8, 7]\n",
      "=======================================================================\n",
      "========= Episode 1999 ================================================\n",
      "Total steps: 16946\n",
      "Episode rewards, last 10: [10.0, 10.0, 10.0, 9.0, 9.0, 8.0, 8.0, 10.0, 9.0, 10.0]\n",
      "Mean over last 500 episodes: 9.846\n",
      "Episode lengths, last 10: [9, 9, 9, 8, 8, 7, 7, 9, 8, 9]\n",
      "=======================================================================\n",
      "========= Episode 2499 ================================================\n",
      "Total steps: 21873\n",
      "Episode rewards, last 10: [9.0, 9.0, 12.0, 10.0, 10.0, 9.0, 10.0, 11.0, 10.0, 10.0]\n",
      "Mean over last 500 episodes: 9.854\n",
      "Episode lengths, last 10: [8, 8, 11, 9, 9, 8, 9, 10, 9, 9]\n",
      "=======================================================================\n",
      "\n"
     ]
    }
   ],
   "source": [
    "res = produce_experiment(DDQL, ddql_egreedy_params, ddql_train_params, 10)"
   ]
  },
  {
   "cell_type": "code",
   "execution_count": null,
   "metadata": {
    "collapsed": true
   },
   "outputs": [],
   "source": []
  },
  {
   "cell_type": "code",
   "execution_count": 21,
   "metadata": {
    "collapsed": false,
    "scrolled": true
   },
   "outputs": [
    {
     "name": "stdout",
     "output_type": "stream",
     "text": [
      "========= Episode 499 ================================================\n",
      "Total steps: 24039\n",
      "Episode rewards, last 10: [15.0, 131.0, 48.0, 102.0, 106.0, 125.0, 113.0, 29.0, 168.0, 120.0]\n",
      "Mean over last 500 episodes: 58.078\n",
      "Episode lengths, last 10: [14, 130, 47, 101, 105, 124, 112, 28, 167, 119]\n",
      "======================================================================\n",
      "========= Episode 999 ================================================\n",
      "Total steps: 94540\n",
      "Episode rewards, last 10: [165.0, 20.0, 166.0, 37.0, 366.0, 52.0, 282.0, 273.0, 26.0, 199.0]\n",
      "Mean over last 500 episodes: 141.002\n",
      "Episode lengths, last 10: [164, 19, 165, 36, 365, 51, 281, 272, 25, 198]\n",
      "======================================================================\n",
      "========= Episode 1499 ================================================\n",
      "Total steps: 169234\n",
      "Episode rewards, last 10: [143.0, 55.0, 107.0, 17.0, 48.0, 16.0, 91.0, 87.0, 151.0, 144.0]\n",
      "Mean over last 500 episodes: 149.388\n",
      "Episode lengths, last 10: [142, 54, 106, 16, 47, 15, 90, 86, 150, 143]\n",
      "=======================================================================\n",
      "========= Episode 1999 ================================================\n",
      "Total steps: 250590\n",
      "Episode rewards, last 10: [135.0, 69.0, 500.0, 109.0, 32.0, 75.0, 65.0, 129.0, 45.0, 25.0]\n",
      "Mean over last 500 episodes: 162.712\n",
      "Episode lengths, last 10: [134, 68, 499, 108, 31, 74, 64, 128, 44, 24]\n",
      "=======================================================================\n",
      "========= Episode 2499 ================================================\n",
      "Total steps: 337202\n",
      "Episode rewards, last 10: [500.0, 217.0, 138.0, 30.0, 228.0, 291.0, 20.0, 58.0, 355.0, 32.0]\n",
      "Mean over last 500 episodes: 173.224\n",
      "Episode lengths, last 10: [499, 216, 137, 29, 227, 290, 19, 57, 354, 31]\n",
      "=======================================================================\n",
      "\n",
      "========= Episode 499 ================================================\n",
      "Total steps: 23842\n",
      "Episode rewards, last 10: [132.0, 220.0, 322.0, 31.0, 26.0, 500.0, 297.0, 174.0, 490.0, 355.0]\n",
      "Mean over last 500 episodes: 57.684\n",
      "Episode lengths, last 10: [131, 219, 321, 30, 25, 499, 296, 173, 489, 354]\n",
      "======================================================================\n",
      "========= Episode 999 ================================================\n",
      "Total steps: 92094\n",
      "Episode rewards, last 10: [458.0, 65.0, 71.0, 85.0, 18.0, 87.0, 44.0, 11.0, 50.0, 124.0]\n",
      "Mean over last 500 episodes: 136.504\n",
      "Episode lengths, last 10: [457, 64, 70, 84, 17, 86, 43, 10, 49, 123]\n",
      "======================================================================\n",
      "========= Episode 1499 ================================================\n",
      "Total steps: 169413\n",
      "Episode rewards, last 10: [111.0, 181.0, 20.0, 21.0, 28.0, 287.0, 70.0, 250.0, 197.0, 164.0]\n",
      "Mean over last 500 episodes: 154.638\n",
      "Episode lengths, last 10: [110, 180, 19, 20, 27, 286, 69, 249, 196, 163]\n",
      "=======================================================================\n",
      "========= Episode 1999 ================================================\n",
      "Total steps: 243552\n",
      "Episode rewards, last 10: [304.0, 299.0, 224.0, 106.0, 225.0, 24.0, 15.0, 15.0, 17.0, 18.0]\n",
      "Mean over last 500 episodes: 148.278\n",
      "Episode lengths, last 10: [303, 298, 223, 105, 224, 23, 14, 14, 16, 17]\n",
      "=======================================================================\n",
      "========= Episode 2499 ================================================\n",
      "Total steps: 324512\n",
      "Episode rewards, last 10: [112.0, 274.0, 493.0, 490.0, 52.0, 54.0, 102.0, 257.0, 314.0, 21.0]\n",
      "Mean over last 500 episodes: 161.92\n",
      "Episode lengths, last 10: [111, 273, 492, 489, 51, 53, 101, 256, 313, 20]\n",
      "=======================================================================\n",
      "\n",
      "========= Episode 499 ================================================\n",
      "Total steps: 29860\n",
      "Episode rewards, last 10: [278.0, 48.0, 150.0, 102.0, 212.0, 303.0, 13.0, 190.0, 219.0, 65.0]\n",
      "Mean over last 500 episodes: 69.72\n",
      "Episode lengths, last 10: [277, 47, 149, 101, 211, 302, 12, 189, 218, 64]\n",
      "======================================================================\n",
      "========= Episode 999 ================================================\n",
      "Total steps: 103761\n",
      "Episode rewards, last 10: [73.0, 35.0, 122.0, 23.0, 200.0, 119.0, 233.0, 397.0, 104.0, 20.0]\n",
      "Mean over last 500 episodes: 147.802\n",
      "Episode lengths, last 10: [72, 34, 121, 22, 199, 118, 232, 396, 103, 19]\n",
      "======================================================================\n",
      "========= Episode 1499 ================================================\n",
      "Total steps: 171740\n",
      "Episode rewards, last 10: [205.0, 340.0, 192.0, 403.0, 306.0, 90.0, 113.0, 500.0, 366.0, 500.0]\n",
      "Mean over last 500 episodes: 135.958\n",
      "Episode lengths, last 10: [204, 339, 191, 402, 305, 89, 112, 499, 365, 499]\n",
      "=======================================================================\n",
      "========= Episode 1999 ================================================\n",
      "Total steps: 248101\n",
      "Episode rewards, last 10: [24.0, 63.0, 28.0, 59.0, 71.0, 18.0, 158.0, 160.0, 223.0, 173.0]\n",
      "Mean over last 500 episodes: 152.722\n",
      "Episode lengths, last 10: [23, 62, 27, 58, 70, 17, 157, 159, 222, 172]\n",
      "=======================================================================\n",
      "========= Episode 2499 ================================================\n",
      "Total steps: 337323\n",
      "Episode rewards, last 10: [209.0, 500.0, 294.0, 258.0, 85.0, 68.0, 188.0, 33.0, 17.0, 500.0]\n",
      "Mean over last 500 episodes: 178.444\n",
      "Episode lengths, last 10: [208, 499, 293, 257, 84, 67, 187, 32, 16, 499]\n",
      "=======================================================================\n",
      "\n",
      "========= Episode 499 ================================================\n",
      "Total steps: 26592\n",
      "Episode rewards, last 10: [35.0, 22.0, 32.0, 30.0, 75.0, 184.0, 190.0, 244.0, 500.0, 103.0]\n",
      "Mean over last 500 episodes: 63.184\n",
      "Episode lengths, last 10: [34, 21, 31, 29, 74, 183, 189, 243, 499, 102]\n",
      "======================================================================\n",
      "========= Episode 999 ================================================\n",
      "Total steps: 100381\n",
      "Episode rewards, last 10: [12.0, 500.0, 414.0, 47.0, 44.0, 500.0, 309.0, 20.0, 109.0, 78.0]\n",
      "Mean over last 500 episodes: 147.578\n",
      "Episode lengths, last 10: [11, 499, 413, 46, 43, 499, 308, 19, 108, 77]\n",
      "======================================================================\n",
      "========= Episode 1499 ================================================\n",
      "Total steps: 172626\n",
      "Episode rewards, last 10: [199.0, 60.0, 111.0, 147.0, 173.0, 119.0, 100.0, 20.0, 500.0, 16.0]\n",
      "Mean over last 500 episodes: 144.49\n",
      "Episode lengths, last 10: [198, 59, 110, 146, 172, 118, 99, 19, 499, 15]\n",
      "=======================================================================\n",
      "========= Episode 1999 ================================================\n",
      "Total steps: 251088\n",
      "Episode rewards, last 10: [84.0, 234.0, 34.0, 57.0, 115.0, 500.0, 62.0, 48.0, 500.0, 385.0]\n",
      "Mean over last 500 episodes: 156.924\n",
      "Episode lengths, last 10: [83, 233, 33, 56, 114, 499, 61, 47, 499, 384]\n",
      "=======================================================================\n",
      "========= Episode 2499 ================================================\n",
      "Total steps: 330868\n",
      "Episode rewards, last 10: [19.0, 14.0, 105.0, 25.0, 84.0, 199.0, 30.0, 85.0, 95.0, 258.0]\n",
      "Mean over last 500 episodes: 159.56\n",
      "Episode lengths, last 10: [18, 13, 104, 24, 83, 198, 29, 84, 94, 257]\n",
      "=======================================================================\n",
      "\n",
      "========= Episode 499 ================================================\n",
      "Total steps: 29224\n",
      "Episode rewards, last 10: [500.0, 14.0, 99.0, 500.0, 45.0, 188.0, 200.0, 292.0, 148.0, 112.0]\n",
      "Mean over last 500 episodes: 68.448\n",
      "Episode lengths, last 10: [499, 13, 98, 499, 44, 187, 199, 291, 147, 111]\n",
      "======================================================================\n",
      "========= Episode 999 ================================================\n",
      "Total steps: 101749\n",
      "Episode rewards, last 10: [70.0, 174.0, 155.0, 116.0, 86.0, 48.0, 117.0, 236.0, 99.0, 60.0]\n",
      "Mean over last 500 episodes: 145.05\n",
      "Episode lengths, last 10: [69, 173, 154, 115, 85, 47, 116, 235, 98, 59]\n",
      "======================================================================\n",
      "========= Episode 1499 ================================================\n",
      "Total steps: 173646\n",
      "Episode rewards, last 10: [161.0, 60.0, 112.0, 261.0, 17.0, 391.0, 335.0, 26.0, 16.0, 235.0]\n",
      "Mean over last 500 episodes: 143.794\n",
      "Episode lengths, last 10: [160, 59, 111, 260, 16, 390, 334, 25, 15, 234]\n",
      "=======================================================================\n",
      "========= Episode 1999 ================================================\n",
      "Total steps: 256250\n",
      "Episode rewards, last 10: [297.0, 28.0, 21.0, 15.0, 135.0, 176.0, 160.0, 76.0, 16.0, 40.0]\n",
      "Mean over last 500 episodes: 165.208\n",
      "Episode lengths, last 10: [296, 27, 20, 14, 134, 175, 159, 75, 15, 39]\n",
      "=======================================================================\n",
      "========= Episode 2499 ================================================\n",
      "Total steps: 338203\n",
      "Episode rewards, last 10: [80.0, 89.0, 90.0, 78.0, 70.0, 52.0, 26.0, 107.0, 136.0, 166.0]\n",
      "Mean over last 500 episodes: 163.906\n",
      "Episode lengths, last 10: [79, 88, 89, 77, 69, 51, 25, 106, 135, 165]\n",
      "=======================================================================\n",
      "\n",
      "========= Episode 499 ================================================\n",
      "Total steps: 28662\n",
      "Episode rewards, last 10: [35.0, 107.0, 49.0, 203.0, 187.0, 145.0, 178.0, 187.0, 290.0, 19.0]\n",
      "Mean over last 500 episodes: 67.324\n",
      "Episode lengths, last 10: [34, 106, 48, 202, 186, 144, 177, 186, 289, 18]\n",
      "======================================================================\n",
      "========= Episode 999 ================================================\n",
      "Total steps: 104010\n",
      "Episode rewards, last 10: [13.0, 258.0, 53.0, 28.0, 17.0, 64.0, 94.0, 144.0, 23.0, 111.0]\n",
      "Mean over last 500 episodes: 150.696\n",
      "Episode lengths, last 10: [12, 257, 52, 27, 16, 63, 93, 143, 22, 110]\n",
      "======================================================================\n",
      "========= Episode 1499 ================================================\n",
      "Total steps: 177567\n",
      "Episode rewards, last 10: [500.0, 325.0, 18.0, 248.0, 500.0, 14.0, 11.0, 17.0, 16.0, 18.0]\n",
      "Mean over last 500 episodes: 147.114\n",
      "Episode lengths, last 10: [499, 324, 17, 247, 499, 13, 10, 16, 15, 17]\n",
      "=======================================================================\n",
      "========= Episode 1999 ================================================\n",
      "Total steps: 258366\n",
      "Episode rewards, last 10: [11.0, 9.0, 188.0, 67.0, 97.0, 79.0, 83.0, 86.0, 76.0, 100.0]\n",
      "Mean over last 500 episodes: 161.598\n",
      "Episode lengths, last 10: [10, 8, 187, 66, 96, 78, 82, 85, 75, 99]\n",
      "=======================================================================\n",
      "========= Episode 2499 ================================================\n",
      "Total steps: 345681\n",
      "Episode rewards, last 10: [212.0, 500.0, 500.0, 111.0, 48.0, 167.0, 120.0, 25.0, 12.0, 15.0]\n",
      "Mean over last 500 episodes: 174.63\n",
      "Episode lengths, last 10: [211, 499, 499, 110, 47, 166, 119, 24, 11, 14]\n",
      "=======================================================================\n",
      "\n",
      "========= Episode 499 ================================================\n",
      "Total steps: 24197\n",
      "Episode rewards, last 10: [17.0, 38.0, 17.0, 23.0, 37.0, 133.0, 265.0, 268.0, 155.0, 170.0]\n",
      "Mean over last 500 episodes: 58.394\n",
      "Episode lengths, last 10: [16, 37, 16, 22, 36, 132, 264, 267, 154, 169]\n",
      "======================================================================\n",
      "========= Episode 999 ================================================\n",
      "Total steps: 97989\n",
      "Episode rewards, last 10: [83.0, 500.0, 75.0, 366.0, 29.0, 16.0, 42.0, 500.0, 495.0, 303.0]\n",
      "Mean over last 500 episodes: 147.584\n",
      "Episode lengths, last 10: [82, 499, 74, 365, 28, 15, 41, 499, 494, 302]\n",
      "======================================================================\n",
      "========= Episode 1499 ================================================\n",
      "Total steps: 171147\n",
      "Episode rewards, last 10: [23.0, 12.0, 500.0, 500.0, 62.0, 490.0, 51.0, 54.0, 72.0, 147.0]\n",
      "Mean over last 500 episodes: 146.316\n",
      "Episode lengths, last 10: [22, 11, 499, 499, 61, 489, 50, 53, 71, 146]\n",
      "=======================================================================\n",
      "========= Episode 1999 ================================================\n",
      "Total steps: 251089\n",
      "Episode rewards, last 10: [322.0, 73.0, 22.0, 84.0, 362.0, 180.0, 218.0, 500.0, 500.0, 83.0]\n",
      "Mean over last 500 episodes: 159.884\n",
      "Episode lengths, last 10: [321, 72, 21, 83, 361, 179, 217, 499, 499, 82]\n",
      "=======================================================================\n",
      "========= Episode 2499 ================================================\n",
      "Total steps: 336557\n",
      "Episode rewards, last 10: [134.0, 500.0, 84.0, 293.0, 111.0, 159.0, 59.0, 21.0, 42.0, 115.0]\n",
      "Mean over last 500 episodes: 170.936\n",
      "Episode lengths, last 10: [133, 499, 83, 292, 110, 158, 58, 20, 41, 114]\n",
      "=======================================================================\n",
      "\n",
      "========= Episode 499 ================================================\n",
      "Total steps: 29947\n",
      "Episode rewards, last 10: [133.0, 143.0, 71.0, 44.0, 135.0, 117.0, 65.0, 29.0, 129.0, 500.0]\n",
      "Mean over last 500 episodes: 69.894\n",
      "Episode lengths, last 10: [132, 142, 70, 43, 134, 116, 64, 28, 128, 499]\n",
      "======================================================================\n",
      "========= Episode 999 ================================================\n",
      "Total steps: 102379\n",
      "Episode rewards, last 10: [82.0, 71.0, 80.0, 172.0, 114.0, 71.0, 77.0, 131.0, 500.0, 178.0]\n",
      "Mean over last 500 episodes: 144.864\n",
      "Episode lengths, last 10: [81, 70, 79, 171, 113, 70, 76, 130, 499, 177]\n",
      "======================================================================\n",
      "========= Episode 1499 ================================================\n",
      "Total steps: 185826\n",
      "Episode rewards, last 10: [68.0, 34.0, 97.0, 15.0, 500.0, 71.0, 104.0, 21.0, 63.0, 500.0]\n",
      "Mean over last 500 episodes: 166.894\n",
      "Episode lengths, last 10: [67, 33, 96, 14, 499, 70, 103, 20, 62, 499]\n",
      "=======================================================================\n",
      "========= Episode 1999 ================================================\n",
      "Total steps: 266059\n",
      "Episode rewards, last 10: [167.0, 39.0, 500.0, 347.0, 14.0, 17.0, 11.0, 500.0, 256.0, 500.0]\n",
      "Mean over last 500 episodes: 160.466\n",
      "Episode lengths, last 10: [166, 38, 499, 346, 13, 16, 10, 499, 255, 499]\n",
      "=======================================================================\n",
      "========= Episode 2499 ================================================\n",
      "Total steps: 349787\n",
      "Episode rewards, last 10: [500.0, 500.0, 71.0, 338.0, 83.0, 313.0, 66.0, 65.0, 270.0, 63.0]\n",
      "Mean over last 500 episodes: 167.456\n",
      "Episode lengths, last 10: [499, 499, 70, 337, 82, 312, 65, 64, 269, 62]\n",
      "=======================================================================\n",
      "\n",
      "========= Episode 499 ================================================\n",
      "Total steps: 25497\n",
      "Episode rewards, last 10: [37.0, 500.0, 143.0, 500.0, 251.0, 330.0, 113.0, 136.0, 11.0, 45.0]\n",
      "Mean over last 500 episodes: 60.994\n",
      "Episode lengths, last 10: [36, 499, 142, 499, 250, 329, 112, 135, 10, 44]\n",
      "======================================================================\n",
      "========= Episode 999 ================================================\n",
      "Total steps: 90305\n",
      "Episode rewards, last 10: [394.0, 291.0, 82.0, 184.0, 340.0, 227.0, 264.0, 157.0, 16.0, 19.0]\n",
      "Mean over last 500 episodes: 129.616\n",
      "Episode lengths, last 10: [393, 290, 81, 183, 339, 226, 263, 156, 15, 18]\n",
      "======================================================================\n",
      "========= Episode 1499 ================================================\n",
      "Total steps: 160913\n",
      "Episode rewards, last 10: [67.0, 41.0, 75.0, 53.0, 192.0, 16.0, 63.0, 61.0, 171.0, 168.0]\n",
      "Mean over last 500 episodes: 141.216\n",
      "Episode lengths, last 10: [66, 40, 74, 52, 191, 15, 62, 60, 170, 167]\n",
      "=======================================================================\n",
      "========= Episode 1999 ================================================\n",
      "Total steps: 230003\n",
      "Episode rewards, last 10: [129.0, 133.0, 17.0, 105.0, 497.0, 65.0, 91.0, 57.0, 39.0, 500.0]\n",
      "Mean over last 500 episodes: 138.18\n",
      "Episode lengths, last 10: [128, 132, 16, 104, 496, 64, 90, 56, 38, 499]\n",
      "=======================================================================\n",
      "========= Episode 2499 ================================================\n",
      "Total steps: 315097\n",
      "Episode rewards, last 10: [123.0, 333.0, 115.0, 41.0, 17.0, 500.0, 180.0, 261.0, 212.0, 127.0]\n",
      "Mean over last 500 episodes: 170.188\n",
      "Episode lengths, last 10: [122, 332, 114, 40, 16, 499, 179, 260, 211, 126]\n",
      "=======================================================================\n",
      "\n",
      "========= Episode 499 ================================================\n",
      "Total steps: 27482\n",
      "Episode rewards, last 10: [57.0, 46.0, 121.0, 176.0, 113.0, 186.0, 500.0, 471.0, 73.0, 50.0]\n",
      "Mean over last 500 episodes: 64.964\n",
      "Episode lengths, last 10: [56, 45, 120, 175, 112, 185, 499, 470, 72, 49]\n",
      "======================================================================\n",
      "========= Episode 999 ================================================\n",
      "Total steps: 103509\n",
      "Episode rewards, last 10: [35.0, 12.0, 88.0, 9.0, 11.0, 44.0, 500.0, 75.0, 191.0, 383.0]\n",
      "Mean over last 500 episodes: 152.054\n",
      "Episode lengths, last 10: [34, 11, 87, 8, 10, 43, 499, 74, 190, 382]\n",
      "======================================================================\n",
      "========= Episode 1499 ================================================\n",
      "Total steps: 184092\n",
      "Episode rewards, last 10: [61.0, 198.0, 15.0, 67.0, 83.0, 332.0, 291.0, 276.0, 235.0, 55.0]\n",
      "Mean over last 500 episodes: 161.166\n",
      "Episode lengths, last 10: [60, 197, 14, 66, 82, 331, 290, 275, 234, 54]\n",
      "=======================================================================\n",
      "========= Episode 1999 ================================================\n",
      "Total steps: 269516\n",
      "Episode rewards, last 10: [12.0, 27.0, 52.0, 102.0, 77.0, 63.0, 86.0, 71.0, 49.0, 59.0]\n",
      "Mean over last 500 episodes: 170.848\n",
      "Episode lengths, last 10: [11, 26, 51, 101, 76, 62, 85, 70, 48, 58]\n",
      "=======================================================================\n",
      "========= Episode 2499 ================================================\n",
      "Total steps: 357072\n",
      "Episode rewards, last 10: [141.0, 107.0, 191.0, 94.0, 266.0, 93.0, 163.0, 47.0, 19.0, 55.0]\n",
      "Mean over last 500 episodes: 175.112\n",
      "Episode lengths, last 10: [140, 106, 190, 93, 265, 92, 162, 46, 18, 54]\n",
      "=======================================================================\n",
      "\n"
     ]
    }
   ],
   "source": [
    "res_b = produce_experiment(DDQL, ddql_boltzman_params, ddql_train_params, 10)"
   ]
  },
  {
   "cell_type": "code",
   "execution_count": 114,
   "metadata": {
    "collapsed": false
   },
   "outputs": [],
   "source": [
    "def plot_results(ddql_res, window = 100, std_coef = 0.2, results_over = 1000, save = False):\n",
    "    res_lists = [k.rList for k in ddql_res]\n",
    "    res_lists = np.array(res_lists)\n",
    "    pd.DataFrame(data = res_lists)\n",
    "    mean = res_lists.mean(axis = 0)\n",
    "    std = res_lists.std(axis = 0)\n",
    "    rol_mean = np.nan_to_num(pd.Series(mean).rolling(window = window).mean())\n",
    "    rol_std = np.nan_to_num(pd.Series(std).rolling(window = window).mean())\n",
    "    plt.figure()\n",
    "    index = np.arange(len(rol_mean))\n",
    "    plt.plot(index, rol_mean)\n",
    "    plt.fill_between(index, rol_mean-std_coef*rol_std, rol_mean+std_coef*rol_std, color='b', alpha=0.1)\n",
    "    return max(rol_mean[0:results_over]), rol_mean[0:results_over].mean(), pd.DataFrame(data = res_lists)"
   ]
  },
  {
   "cell_type": "code",
   "execution_count": 115,
   "metadata": {
    "collapsed": false
   },
   "outputs": [
    {
     "data": {
      "image/png": "[encoded data removed]",
      "text/plain": [
       "<matplotlib.figure.Figure at 0x1432c35d0>"
      ]
     },
     "metadata": {},
     "output_type": "display_data"
    }
   ],
   "source": [
    "greedy_max, greedy_auc, greedy_df = plot_results(res, 100, 0.2)\n",
    "plt.savefig(\"egreedy_cp.png\")"
   ]
  },
  {
   "cell_type": "code",
   "execution_count": 116,
   "metadata": {
    "collapsed": false
   },
   "outputs": [
    {
     "data": {
      "image/png": "[encoded data removed]",
      "text/plain": [
       "<matplotlib.figure.Figure at 0x1383094d0>"
      ]
     },
     "metadata": {},
     "output_type": "display_data"
    }
   ],
   "source": [
    "boltzman_max, boltzman_auc, boltzman_df = plot_results(res_b, 100, 0.2)\n",
    "plt.savefig(\"boltzman_cp.png\")"
   ]
  },
  {
   "cell_type": "code",
   "execution_count": 102,
   "metadata": {
    "collapsed": false
   },
   "outputs": [
    {
     "name": "stdout",
     "output_type": "stream",
     "text": [
      "147.305 90.360614\n",
      "150.301 95.513982\n"
     ]
    }
   ],
   "source": [
    "print egreedy_max, greedy_auc\n",
    "print boltzman_max, boltzman_auc"
   ]
  },
  {
   "cell_type": "code",
   "execution_count": 105,
   "metadata": {
    "collapsed": true
   },
   "outputs": [],
   "source": [
    "greedy_df.to_csv(\"greedy.csv\")"
   ]
  },
  {
   "cell_type": "code",
   "execution_count": 106,
   "metadata": {
    "collapsed": true
   },
   "outputs": [],
   "source": [
    "boltzman_df.to_csv(\"boltzman.csv\")"
   ]
  },
  {
   "cell_type": "code",
   "execution_count": null,
   "metadata": {
    "collapsed": true
   },
   "outputs": [],
   "source": []
  }
 ],
 "metadata": {
  "anaconda-cloud": {},
  "kernelspec": {
   "display_name": "Python [conda root]",
   "language": "python",
   "name": "conda-root-py"
  },
  "language_info": {
   "codemirror_mode": {
    "name": "ipython",
    "version": 2
   },
   "file_extension": ".py",
   "mimetype": "text/x-python",
   "name": "python",
   "nbconvert_exporter": "python",
   "pygments_lexer": "ipython2",
   "version": "2.7.13"
  },
  "widgets": {
   "state": {
    "0a2a7d9eee1c4c81b18348320fc40679": {
     "views": [
      {
       "cell_index": 34
      }
     ]
    },
    "20978296fa864c668bb03daa719edc9e": {
     "views": [
      {
       "cell_index": 34
      }
     ]
    },
    "36503b7a329c4a9aa79291d23a53e3df": {
     "views": [
      {
       "cell_index": 36
      }
     ]
    },
    "36a3bb7a701b40599fd97fcd22fc178c": {
     "views": [
      {
       "cell_index": 34
      }
     ]
    },
    "3b28b538180a4839b1b2859a2c1d5cfb": {
     "views": [
      {
       "cell_index": 36
      }
     ]
    },
    "3ce36271c4014d54a75d0a35b7bbb348": {
     "views": [
      {
       "cell_index": 34
      }
     ]
    },
    "4f8a2da01ee94cc2905d18377b43d154": {
     "views": [
      {
       "cell_index": 34
      }
     ]
    },
    "5e9c7af3626e4d549e61ec15f83d4724": {
     "views": [
      {
       "cell_index": 36
      }
     ]
    },
    "68e599c90db34f7186e79e22dbaa858c": {
     "views": [
      {
       "cell_index": 34
      }
     ]
    },
    "7093d295b95e476a858fd3751b20d32c": {
     "views": [
      {
       "cell_index": 34
      }
     ]
    },
    "759f13f964a6475aa3ceb503825b0dc9": {
     "views": [
      {
       "cell_index": 36
      }
     ]
    },
    "76d7ef3d0dc546889f79be3e6e8011d5": {
     "views": [
      {
       "cell_index": 34
      }
     ]
    },
    "7ca1422dbb034c20ba684d9d18b9f41a": {
     "views": [
      {
       "cell_index": 36
      }
     ]
    },
    "8651f952b2cc4a12b97ca6640deead9b": {
     "views": [
      {
       "cell_index": 36
      }
     ]
    },
    "8e00bd53e82840c49250eaae0d193695": {
     "views": [
      {
       "cell_index": 36
      }
     ]
    },
    "96d06379531e49059938d5fdc8b44bf6": {
     "views": [
      {
       "cell_index": 34
      }
     ]
    },
    "9a3ed82163d7449db7bed50a0b995a92": {
     "views": [
      {
       "cell_index": 36
      }
     ]
    },
    "ae2c29fe73a242cd9a506614025a1fa9": {
     "views": [
      {
       "cell_index": 34
      }
     ]
    },
    "b56443463bb64abda09f1ca285688ec3": {
     "views": [
      {
       "cell_index": 34
      }
     ]
    },
    "bb44b24139d2412290902ee461c64d84": {
     "views": [
      {
       "cell_index": 36
      }
     ]
    },
    "c5fca96b0bb04d7cb37ee05acacb8385": {
     "views": [
      {
       "cell_index": 36
      }
     ]
    },
    "ceee4fac4a6640e2b5d36ed33556b66c": {
     "views": [
      {
       "cell_index": 36
      }
     ]
    },
    "cf5f6c2df1634d1b808a552fe88c4563": {
     "views": [
      {
       "cell_index": 34
      }
     ]
    },
    "e3d8249fa89846f5b34a6eade2db50a6": {
     "views": [
      {
       "cell_index": 36
      }
     ]
    }
   },
   "version": "1.2.0"
  }
 },
 "nbformat": 4,
 "nbformat_minor": 0
}
