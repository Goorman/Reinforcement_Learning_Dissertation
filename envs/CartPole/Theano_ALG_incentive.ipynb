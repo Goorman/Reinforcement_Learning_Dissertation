{
 "cells": [
  {
   "cell_type": "code",
   "execution_count": 1,
   "metadata": {
    "collapsed": false
   },
   "outputs": [],
   "source": [
    "import scipy\n",
    "import scipy.misc\n",
    "import numpy as np\n",
    "import random\n",
    "import pandas as pd\n",
    "import gym\n",
    "from tqdm import tqdm\n",
    "from tqdm import tqdm_notebook\n",
    "import os\n",
    "import matplotlib.pyplot as plt\n",
    "%matplotlib inline"
   ]
  },
  {
   "cell_type": "code",
   "execution_count": 2,
   "metadata": {
    "collapsed": true
   },
   "outputs": [],
   "source": [
    "import lasagne\n",
    "import theano.tensor as T\n",
    "import theano"
   ]
  },
  {
   "cell_type": "code",
   "execution_count": 3,
   "metadata": {
    "collapsed": false
   },
   "outputs": [],
   "source": [
    "%load_ext autoreload\n",
    "%autoreload 2"
   ]
  },
  {
   "cell_type": "code",
   "execution_count": null,
   "metadata": {
    "collapsed": false
   },
   "outputs": [],
   "source": []
  },
  {
   "cell_type": "code",
   "execution_count": 4,
   "metadata": {
    "collapsed": false
   },
   "outputs": [],
   "source": [
    "class ATARI_wrapper():\n",
    "    def __init__(self, gamename = \"Enduro-v0\"):\n",
    "        self.state_size = (105, 80)\n",
    "        self.game_title = gamename\n",
    "        self.actions = [\"0\", \"1\", \"2\", \"3\", \"4\", \"5\", \"6\", \"7\", \"8\"]\n",
    "        self.n_actions = len(self.actions)\n",
    "        try:\n",
    "            self.env = gym.make(self.game_title)\n",
    "        except:\n",
    "            print (\"ERROR : Can't find \" + self.game_title + \" environment.\")\n",
    "            return None\n",
    "        self.env.reset()\n",
    "    \n",
    "    def processState(self, state):\n",
    "        grayimage = np.mean(state, axis = 2)\n",
    "        downscale = self.downscale2x(grayimage)\n",
    "        norm = (downscale - 128.0) / 128.0\n",
    "        return norm\n",
    "    \n",
    "    def processAction(self, action):\n",
    "        return action\n",
    "    \n",
    "    def make_reset(self):\n",
    "        state = self.env.reset()\n",
    "    \n",
    "        return self.processState(state)\n",
    "    \n",
    "    def make_step(self, action, render = False):\n",
    "        action = self.processAction(action)\n",
    "    \n",
    "        state, ret1, ret2, ret3 = self.env.step(action)\n",
    "    \n",
    "        if render:\n",
    "            self.env.render()\n",
    "    \n",
    "        return self.processState(state), ret1, ret2, ret3\n",
    "    \n",
    "    def downscale2x(self, image):\n",
    "        image00 = image[0::2, 0::2]\n",
    "        image01 = image[0::2, 1::2]\n",
    "        image10 = image[1::2, 0::2]\n",
    "        image11 = image[1::2, 1::2]\n",
    "        return (image00 + image01 + image10 + image11) / 4"
   ]
  },
  {
   "cell_type": "code",
   "execution_count": 5,
   "metadata": {
    "collapsed": false
   },
   "outputs": [],
   "source": [
    "class LunarLanding_wrapper():\n",
    "    def __init__(self):\n",
    "        self.state_size = (1, 8)\n",
    "        self.game_title = \"LunarLander-v2\"\n",
    "        self.actions = [\"DO_NOTHING\", \"FIRE_LEFT\", \"FIRE_MAIN\", \"FIRE_RIGHT\"]\n",
    "        self.n_actions = len(self.actions)\n",
    "        try:\n",
    "            self.env = gym.make(self.game_title)\n",
    "        except:\n",
    "            print (\"ERROR : Can't find \" + self.game_title + \" environment.\")\n",
    "            return None\n",
    "        self.env.reset()\n",
    "    \n",
    "    def processState(self, state):\n",
    "        return state.reshape(1, -1)\n",
    "    \n",
    "    def processAction(self, action):\n",
    "        return action\n",
    "    \n",
    "    def make_reset(self):\n",
    "        state = self.env.reset()\n",
    "    \n",
    "        return self.processState(state)\n",
    "    \n",
    "    def make_step(self, action, render = False):\n",
    "        action = self.processAction(action)\n",
    "    \n",
    "        state, ret1, ret2, ret3 = self.env.step(action)\n",
    "    \n",
    "        if render:\n",
    "            self.env.render()\n",
    "    \n",
    "        return self.processState(state), ret1, ret2, ret3"
   ]
  },
  {
   "cell_type": "code",
   "execution_count": 6,
   "metadata": {
    "collapsed": false
   },
   "outputs": [],
   "source": [
    "class CartPole_wrapper():\n",
    "    def __init__(self):\n",
    "        self.state_size = (1, 4)\n",
    "        self.game_title = \"CartPole-v0\"\n",
    "        self.actions = [\"LEFT\", \"RIGHT\"]\n",
    "        self.n_actions = len(self.actions)\n",
    "        try:\n",
    "            self.env = gym.make(self.game_title)\n",
    "        except:\n",
    "            print (\"ERROR : Can't find \" + self.game_title + \" environment.\")\n",
    "            return None\n",
    "        self.env.reset()\n",
    "    \n",
    "    def processState(self, state):\n",
    "        return state.reshape(1, -1)\n",
    "    \n",
    "    def processAction(self, action):\n",
    "        return action\n",
    "    \n",
    "    def make_reset(self):\n",
    "        state = self.env.reset()\n",
    "    \n",
    "        return self.processState(state)\n",
    "    \n",
    "    def make_step(self, action, render = False):\n",
    "        action = self.processAction(action)\n",
    "    \n",
    "        state, ret1, ret2, ret3 = self.env.step(action)\n",
    "    \n",
    "        if render:\n",
    "            self.env.render()\n",
    "    \n",
    "        return self.processState(state), ret1, ret2, ret3"
   ]
  },
  {
   "cell_type": "code",
   "execution_count": 7,
   "metadata": {
    "collapsed": false
   },
   "outputs": [],
   "source": [
    "class AVQ_nn():\n",
    "    def __init__(self, channels_number = 4, image_shape = (1, 8), n_actions = 4, grad_clipping = 10, lr = 0.0001, aelosscoef = 0.1):\n",
    "        self.input_var = T.tensor4('statebatch')\n",
    "        self.targetQ = T.fvector('targetQ')\n",
    "        self.actions = T.ivector('actions')\n",
    "        self.newstates = T.tensor4(\"newstatebatch\")\n",
    "        self.actions_onehot = T.extra_ops.to_one_hot(self.actions, n_actions, dtype=np.float32)\n",
    "        \n",
    "        self.aelosscoef = aelosscoef\n",
    "        self.n_actions = n_actions\n",
    "        self.build_network(channels_number, image_shape)\n",
    "        self.build_AVQ(grad_clipping, lr)\n",
    "        self.compile_network()\n",
    "        \n",
    "    def build_network(self, channels_number, image_shape):\n",
    "        self.l1 = lasagne.layers.InputLayer(shape=(None, channels_number, image_shape[0], image_shape[1]), \n",
    "                                            input_var = self.input_var)\n",
    "        self.l2 = lasagne.layers.DenseLayer(self.l1, 60, nonlinearity=lasagne.nonlinearities.leaky_rectify)\n",
    "        self.l3 = lasagne.layers.DenseLayer(self.l2, 40, nonlinearity=lasagne.nonlinearities.leaky_rectify)\n",
    "        self.outlayer = lasagne.layers.DenseLayer(self.l3, 20, nonlinearity=lasagne.nonlinearities.leaky_rectify)\n",
    "        self.encode = lasagne.layers.DenseLayer(self.outlayer, 4, nonlinearity=lasagne.nonlinearities.leaky_rectify)\n",
    "        self.le3 = lasagne.layers.DenseLayer(self.encode, 20, nonlinearity=lasagne.nonlinearities.leaky_rectify)\n",
    "        self.le2 = lasagne.layers.DenseLayer(self.le3, 40, nonlinearity=lasagne.nonlinearities.leaky_rectify)\n",
    "        self.le1 = lasagne.layers.DenseLayer(self.le2, 60, nonlinearity=lasagne.nonlinearities.leaky_rectify)\n",
    "        self.le0 = lasagne.layers.DenseLayer(self.le1, channels_number * image_shape[0] * image_shape[1])\n",
    "        self.l_aeout = lasagne.layers.ReshapeLayer(self.le0, shape=(-1, channels_number, image_shape[0], image_shape[1]))\n",
    "    \n",
    "        self.actionlayer = lasagne.layers.InputLayer(shape=(None, self.n_actions), input_var = self.actions_onehot)\n",
    "        self.prins = lasagne.layers.ConcatLayer([self.encode, self.actionlayer], axis = 1)\n",
    "        self.pr1 = lasagne.layers.DenseLayer(self.prins, 40, nonlinearity=lasagne.nonlinearities.leaky_rectify)\n",
    "        self.prencode = lasagne.layers.DenseLayer(self.pr1, 4)\n",
    "    \n",
    "    def build_AVQ(self, grad_clipping, lr):\n",
    "        self.l_advantage = lasagne.layers.DenseLayer(self.outlayer, self.n_actions)\n",
    "        self.l_value = lasagne.layers.DenseLayer(self.outlayer, 1)\n",
    "        \n",
    "        self.advantage, self.value, self.ae_out, self.enc, self.prenc = lasagne.layers.get_output([self.l_advantage, self.l_value, self.l_aeout, self.encode, self.prencode])\n",
    "        self.targetenc = lasagne.layers.get_output(self.encode, inputs = self.newstates)\n",
    "        \n",
    "        self.average_advantage = T.mean(self.advantage, keepdims = True, axis = 1)\n",
    "        \n",
    "#        self.Qout = self.advantage + self.value - self.average_advantage\n",
    "        self.Qout = self.advantage\n",
    "        self.predict = T.argmax(self.Qout, axis = 1)\n",
    "        \n",
    "        self.Q = T.sum(self.Qout * self.actions_onehot, axis = 1)\n",
    "        \n",
    "        self.ae_error = T.mean(T.sqr(self.ae_out - self.input_var))\n",
    "        self.td_error = T.mean(T.sqr(self.targetQ - self.Q))\n",
    "        \n",
    "        self.loss = self.ae_error * self.aelosscoef + self.td_error\n",
    "        params = self.get_all_params()\n",
    "        self.all_grads = T.grad(self.loss, params)\n",
    "        self.scaled_grads = lasagne.updates.total_norm_constraint(self.all_grads, grad_clipping)\n",
    "        self.updates = lasagne.updates.adam(self.scaled_grads, params, learning_rate=lr)\n",
    "        \n",
    "        self.pr_loss_batch = T.mean(T.sqr(self.targetenc - self.prenc), axis = 1)\n",
    "        self.pr_loss = T.mean(self.pr_loss_batch)\n",
    "        pr_params = [self.pr1.W, self.pr1.b, self.prencode.W, self.prencode.b]\n",
    "        self.pr_grads = T.grad(self.pr_loss, pr_params)\n",
    "        self.pr_scaled_grads = lasagne.updates.total_norm_constraint(self.pr_grads, grad_clipping)\n",
    "        self.pr_updates = lasagne.updates.adam(self.pr_scaled_grads, pr_params, learning_rate=lr)\n",
    "        \n",
    "        enc_layers = [self.l2, self.l3, self.outlayer, self.encode, self.le3, self.le2, self.le1, self.le0]\n",
    "        enc_params = [l.W for l in enc_layers] + [l.b for l in enc_layers]\n",
    "        self.enc_grads = T.grad(self.ae_error, enc_params)\n",
    "        self.enc_scaled_grads = lasagne.updates.total_norm_constraint(self.enc_grads, grad_clipping)\n",
    "        self.enc_updates = lasagne.updates.adam(self.enc_scaled_grads, enc_params, learning_rate=lr)\n",
    "        \n",
    "    def compile_network(self):\n",
    "        self.Qout_fn = theano.function([self.input_var], self.Qout)\n",
    "        self.actionpred_fn = theano.function([self.input_var], self.predict)\n",
    "        self.train_fn = theano.function([self.input_var, self.targetQ, self.actions], [self.ae_error, self.td_error], updates = self.updates)\n",
    "        self.train_predfn = theano.function([self.input_var, self.actions, self.newstates], self.pr_loss_batch, updates = self.pr_updates)\n",
    "        self.train_encoder = theano.function([self.input_var], self.ae_error, updates = self.enc_updates)\n",
    "        \n",
    "    def get_all_params(self):\n",
    "#        return lasagne.layers.get_all_params([self.l_advantage, self.l_value], trainable = True)\n",
    "        return lasagne.layers.get_all_params(self.l_advantage, trainable = True)\n",
    "    \n",
    "    def get_all_params_values(self):\n",
    "#        return lasagne.layers.get_all_param_values([self.l_advantage, self.l_value], trainable = True)\n",
    "        return lasagne.layers.get_all_param_values(self.l_advantage, trainable = True)\n",
    "    \n",
    "    def set_all_params_values(self, values):\n",
    "#        return lasagne.layers.set_all_param_values([self.l_advantage, self.l_value], values, trainable = True)\n",
    "        return lasagne.layers.set_all_param_values(self.l_advantage, values, trainable = True)"
   ]
  },
  {
   "cell_type": "code",
   "execution_count": 8,
   "metadata": {
    "collapsed": true
   },
   "outputs": [],
   "source": [
    "class experience_buffer():\n",
    "    def __init__(self, buffer_size = 10000):\n",
    "        self.buffer = []\n",
    "        self.buffer_size = buffer_size\n",
    "    \n",
    "    def add(self, experience):\n",
    "        if len(self.buffer) + len(experience) >= self.buffer_size:\n",
    "            self.buffer[0:(len(experience)+len(self.buffer))-self.buffer_size] = []\n",
    "        self.buffer.extend(experience)\n",
    "            \n",
    "    def sample(self, size):\n",
    "        size = min(size, len(self.buffer))\n",
    "        return np.reshape(np.array(random.sample(self.buffer, size)),[size,5])"
   ]
  },
  {
   "cell_type": "code",
   "execution_count": 9,
   "metadata": {
    "collapsed": false
   },
   "outputs": [],
   "source": [
    "class window_aggregator():\n",
    "    def __init__(self, window_length, state_shape):\n",
    "        self.state_shape = state_shape\n",
    "        self.window_length = window_length\n",
    "        \n",
    "        assert len(self.state_shape) == 2\n",
    "        assert self.window_length >= 1\n",
    "        \n",
    "        self.start_aggregator_shape = (window_length, state_shape[0], state_shape[1])\n",
    "                                             \n",
    "        self.aggregator = np.zeros(self.start_aggregator_shape)\n",
    "        \n",
    "    def reset(self):\n",
    "        self.aggregator = np.zeros(self.start_aggregator_shape)\n",
    "                                       \n",
    "    def add_state(self, state):\n",
    "        state = np.expand_dims(state, 0)\n",
    "        self.aggregator = np.append(self.aggregator, state, axis = 0)\n",
    "    \n",
    "    def get_window(self):\n",
    "        return self.aggregator[-self.window_length:,:,:]                                                                           "
   ]
  },
  {
   "cell_type": "code",
   "execution_count": 10,
   "metadata": {
    "collapsed": true
   },
   "outputs": [],
   "source": [
    "class egreedy_agent():\n",
    "    def __init__(self, n_actions, actionpred_fn, startE = 1, endE = 0.1, anneling_steps = 50000):\n",
    "        self.startE = startE\n",
    "        self.endE = endE\n",
    "        self.anneling_steps = anneling_steps\n",
    "        self.stepE = (self.startE - self.endE) / self.anneling_steps\n",
    "        self.n_actions = n_actions\n",
    "        self.actionpred_fn = actionpred_fn\n",
    "    \n",
    "    def choose_action(self, state, current_step):\n",
    "        if current_step > self.anneling_steps:\n",
    "            epsilon = self.endE\n",
    "        else:\n",
    "            epsilon = self.startE - self.stepE * current_step\n",
    "        \n",
    "        if np.random.rand(1) < epsilon:\n",
    "            a = np.random.randint(0, self.n_actions)\n",
    "        else:\n",
    "            a = self.actionpred_fn(np.expand_dims(state, axis = 0))[0]\n",
    "            \n",
    "        return a"
   ]
  },
  {
   "cell_type": "code",
   "execution_count": 11,
   "metadata": {
    "collapsed": false
   },
   "outputs": [],
   "source": [
    "class boltzman_agent:\n",
    "    def __init__(self, n_actions, Qout_fn, startT = 1000, endT = 0.1, anneling_steps = 50000):\n",
    "        self.startT = startT\n",
    "        self.endT = endT\n",
    "        self.anneling_steps = anneling_steps\n",
    "        self.logstep = (np.log(startT) - np.log(endT)) / anneling_steps\n",
    "        self.n_actions = n_actions\n",
    "        self.Qout_fn = Qout_fn\n",
    "    \n",
    "    def choose_action(self, state, current_step):\n",
    "        scores = self.Qout_fn(np.expand_dims(state, axis = 0))[0]\n",
    "        if current_step > self.anneling_steps:\n",
    "            exponents = np.exp((scores - np.max(scores)) / self.endT)\n",
    "        else:\n",
    "            current_temp = self.startT / np.exp(self.logstep * current_step)\n",
    "            exponents = np.exp((scores - np.max(scores)) / current_temp)\n",
    "        probs = exponents / np.sum(exponents)\n",
    "        return np.random.choice(self.n_actions, p = probs)"
   ]
  },
  {
   "cell_type": "code",
   "execution_count": null,
   "metadata": {
    "collapsed": true
   },
   "outputs": [],
   "source": []
  },
  {
   "cell_type": "code",
   "execution_count": 12,
   "metadata": {
    "collapsed": false
   },
   "outputs": [],
   "source": [
    "class DDQL():\n",
    "    def __init__(self, lparams, env, agent = {\"agent\":\"egreedy\", \"params\":{}}):\n",
    "        self.grad_clip = lparams[\"grad_clipping\"]\n",
    "        self.lr = lparams[\"learning_rate\"]\n",
    "        self.window_size = lparams[\"window_size\"]\n",
    "        self.batch_size = lparams[\"batch_size\"]\n",
    "        self.gamma = lparams[\"gamma\"]\n",
    "        self.MQN_updatefreq = lparams[\"MQN_updatefreq\"]\n",
    "        self.TQN_updatefreq = lparams[\"TQN_updatefreq\"]\n",
    "        self.TQN_updaterate = lparams[\"TQN_updaterate\"]\n",
    "        self.print_freq = lparams[\"print_freq\"]\n",
    "        self.pretrain_steps = lparams[\"pretrain_steps\"]\n",
    "        self.buffer_size = lparams[\"buffer_size\"]\n",
    "        self.pretrain_over = False\n",
    "        self.maxprerror = None\n",
    "        \n",
    "        self.env = env\n",
    "        self.mainQN = AVQ_nn(self.window_size, self.env.state_size, self.env.n_actions, self.grad_clip, self.lr)\n",
    "        self.targetQN = AVQ_nn(self.window_size, self.env.state_size, self.env.n_actions, self.grad_clip, self.lr)\n",
    "\n",
    "        self.lList = []\n",
    "        self.rList = []\n",
    "        self.aeList = []\n",
    "        self.total_steps = 0\n",
    "        \n",
    "        self.window = window_aggregator(self.window_size, self.env.state_size)\n",
    "        self.experience_storage = experience_buffer(self.buffer_size)\n",
    "        self.agent = self.getAgent(agent[\"agent\"], agent[\"params\"])\n",
    "            \n",
    "    def getAgent(self, agent, agentparams):\n",
    "        if agent == \"egreedy\":\n",
    "            agent = egreedy_agent(self.env.n_actions, self.mainQN.actionpred_fn, **agentparams)\n",
    "        elif agent == \"boltzman\":\n",
    "            agent = boltzman_agent(self.env.n_actions, self.mainQN.Qout_fn, **agentparams)\n",
    "        else:\n",
    "            raise ValueError(\"Unknown agent\")\n",
    "            \n",
    "        return agent\n",
    "            \n",
    "    def updateTarget(self, completeupdate = False):\n",
    "        if completeupdate:\n",
    "            self.targetQN.set_all_params_values(self.mainQN.get_all_params_values())\n",
    "        else:\n",
    "            targetparams = self.targetQN.get_all_params_values()\n",
    "            mainparams = self.mainQN.get_all_params_values()\n",
    "            ur = self.TQN_updaterate\n",
    "        \n",
    "            assert len(targetparams) == len(mainparams)\n",
    "            for k in range(0, len(targetparams)):\n",
    "                targetparams[k] = targetparams[k] * (1.0 - ur) + mainparams[k] * ur\n",
    "        \n",
    "            self.targetQN.set_all_params_values(targetparams)\n",
    "            \n",
    "    def train(self, num_episodes, frame_limit, render = True):\n",
    "        self.updateTarget(True)\n",
    "        self.window.reset()\n",
    "        \n",
    "        for episode_num in tqdm_notebook(range(num_episodes), desc = \"RL train\"):\n",
    "            state = self.env.make_reset()\n",
    "            self.window.add_state(state)\n",
    "            window_state = self.window.get_window()\n",
    "            episode_rewards = np.zeros(frame_limit)\n",
    "            episode_aeerrors = np.array([])\n",
    "            \n",
    "            for iteration in xrange(0, frame_limit):\n",
    "                action = self.agent.choose_action(window_state, self.total_steps)\n",
    "                new_state, reward, gameover, _ = self.env.make_step(action, render)\n",
    "                self.window.add_state(new_state)\n",
    "                new_window_state = self.window.get_window()\n",
    "                experience = np.reshape(np.array([window_state, action, reward, new_window_state, gameover]),[1,5])\n",
    "                self.experience_storage.add(experience)\n",
    "                episode_rewards[iteration] = reward\n",
    "                \n",
    "                if self.pretrain_over:\n",
    "                    self.total_steps += 1\n",
    "                \n",
    "                    if self.total_steps % (self.TQN_updatefreq) == 0:\n",
    "                        self.updateTarget()\n",
    "                \n",
    "                    if self.total_steps % (self.MQN_updatefreq) == 0:\n",
    "                        train_batch = self.experience_storage.sample(self.batch_size)\n",
    "                        old_state_batch = np.stack(train_batch[:,0])\n",
    "                        new_state_batch = np.stack(train_batch[:,3])\n",
    "                        action_vector = (train_batch[:,1]).astype(np.int32)\n",
    "                        end_multiplier = -(train_batch[:,4] - 1)\n",
    "                        rewards_vector = train_batch[:,2]\n",
    "                        errors_vector = self.mainQN.train_predfn(old_state_batch, action_vector, new_state_batch)\n",
    "                        if self.maxprerror == None:\n",
    "                            self.maxprerror = np.max(errors_vector)\n",
    "                        else:\n",
    "                            self.maxprerror = max(self.maxprerror, np.max(errors_vector))\n",
    "                        rewards_vector = rewards_vector + errors_vector * 50.0 / (self.maxprerror * self.total_steps)\n",
    "                        Q1 = self.mainQN.actionpred_fn(new_state_batch)\n",
    "                        Q2 = self.targetQN.Qout_fn(new_state_batch)\n",
    "                        \n",
    "                        doubleQ = Q2[range(self.batch_size),Q1]\n",
    "                        targetQ = (rewards_vector + (self.gamma * doubleQ * end_multiplier)).astype(np.float32)\n",
    "                        \n",
    "                        aeerror, tderror = self.mainQN.train_fn(old_state_batch, targetQ, action_vector)\n",
    "                        episode_aeerrors = np.append(episode_aeerrors, aeerror)\n",
    "                else:\n",
    "                    train_batch = self.experience_storage.sample(self.batch_size)\n",
    "                    old_state_batch = np.stack(train_batch[:,0])\n",
    "                    new_state_batch = np.stack(train_batch[:,3])\n",
    "                    action_vector = (train_batch[:,1]).astype(np.int32)\n",
    "                    aeerror1 = self.mainQN.train_encoder(old_state_batch)\n",
    "                    aeerror2 = self.mainQN.train_encoder(new_state_batch)\n",
    "                    episode_aeerrors = np.append(episode_aeerrors, (aeerror1 + aeerror2)/2)\n",
    "                    errors_vector = self.mainQN.train_predfn(old_state_batch, action_vector, new_state_batch)\n",
    "                    \n",
    "                    if self.maxprerror == None:\n",
    "                        self.maxprerror = np.max(errors_vector)\n",
    "                    else:\n",
    "                        self.maxprerror = max(self.maxprerror, np.max(errors_vector))\n",
    "                    \n",
    "                    self.pretrain_steps -= 1;\n",
    "                    if self.pretrain_steps <= 0:\n",
    "                        self.pretrain_over = True\n",
    "                        \n",
    "                state = new_state\n",
    "                window_state = new_window_state\n",
    "            \n",
    "                if gameover:\n",
    "                    self.window.reset()\n",
    "                    break\n",
    "    \n",
    "            total_reward = np.sum(episode_rewards)\n",
    "            total_aeerror = np.mean(episode_aeerrors)\n",
    "            self.lList.append(iteration)\n",
    "            self.rList.append(total_reward)\n",
    "            self.aeList.append(total_aeerror)\n",
    "            if len(self.rList) % self.print_freq == 0:\n",
    "                tqdm.write(\" \".join([\"========= Episode\", str(episode_num), \"================================================\"]))\n",
    "                tqdm.write(\" \".join([\"Total steps:\", str(self.total_steps)]))\n",
    "                tqdm.write(\" \".join([\"Episode rewards, last 10:\", str(self.rList[-10:])]))\n",
    "                tqdm.write(\" \".join([\"Mean over last\", str(self.print_freq), \"episodes:\", str(np.mean(self.rList[-self.print_freq:]))]))\n",
    "                tqdm.write(\" \".join([\"Episode lengths, last 10:\", str(self.lList[-10:])]))\n",
    "                tqdm.write(\" \".join([\"AEerror, mean over last 10:\", str(np.mean(self.aeList[-10:]))]))\n",
    "                tqdm.write(\"===================================================================\" + \"=\" * len(str(episode_num)))"
   ]
  },
  {
   "cell_type": "code",
   "execution_count": 13,
   "metadata": {
    "collapsed": true
   },
   "outputs": [],
   "source": [
    "def plot_rewards(ddqlmodel, meanwindow = 250):\n",
    "    rlist = [ddqlmodel.rList[0]] * meanwindow + ddqlmodel.rList\n",
    "    x = np.cumsum(ddqlmodel.lList)\n",
    "    y = [np.mean(rlist[k:k+meanwindow]) for k in range(len(rlist) - meanwindow)]\n",
    "    plt.plot(x, y)"
   ]
  },
  {
   "cell_type": "code",
   "execution_count": 14,
   "metadata": {
    "collapsed": false
   },
   "outputs": [
    {
     "name": "stderr",
     "output_type": "stream",
     "text": [
      "[2017-05-14 15:30:41,561] Making new env: CartPole-v0\n"
     ]
    }
   ],
   "source": [
    "#llenv = LunarLanding_wrapper()\n",
    "cp_env = CartPole_wrapper()"
   ]
  },
  {
   "cell_type": "code",
   "execution_count": 15,
   "metadata": {
    "collapsed": true
   },
   "outputs": [],
   "source": [
    "lparams = {\"grad_clipping\" : 50,\n",
    "           \"learning_rate\" : 0.005,\n",
    "           \"window_size\" : 1,\n",
    "           \"batch_size\" : 8,\n",
    "           \"buffer_size\" : 128,\n",
    "           \"gamma\" : 0.98,\n",
    "           \"MQN_updatefreq\" : 1,\n",
    "           \"TQN_updatefreq\" : 4,\n",
    "           \"TQN_updaterate\" : 0.2,\n",
    "           \"print_freq\" : 500,\n",
    "           \"pretrain_steps\" : 5000,\n",
    "           \"render\" : False}"
   ]
  },
  {
   "cell_type": "code",
   "execution_count": 16,
   "metadata": {
    "collapsed": true
   },
   "outputs": [],
   "source": [
    "egreedyagentinfo = {\"agent\" : \"egreedy\",\n",
    "                    \"params\" : {\"startE\": 0.5,\n",
    "                                \"endE\" : 0.1,\n",
    "                                \"anneling_steps\":1000}}"
   ]
  },
  {
   "cell_type": "code",
   "execution_count": 17,
   "metadata": {
    "collapsed": true
   },
   "outputs": [],
   "source": [
    "boltzmanagentinfo = {\"agent\" : \"boltzman\",\n",
    "                     \"params\" : {\"startT\": 10,\n",
    "                                 \"endT\" : 1,\n",
    "                                 \"anneling_steps\":10000}}"
   ]
  },
  {
   "cell_type": "code",
   "execution_count": null,
   "metadata": {
    "collapsed": false
   },
   "outputs": [],
   "source": [
    "ddql = DDQL(lparams, cpenv, egreedyagentinfo)"
   ]
  },
  {
   "cell_type": "code",
   "execution_count": null,
   "metadata": {
    "collapsed": false,
    "scrolled": true
   },
   "outputs": [],
   "source": [
    "ddql.train(num_episodes = 15000, frame_limit = 500, render = False)"
   ]
  },
  {
   "cell_type": "code",
   "execution_count": null,
   "metadata": {
    "collapsed": false
   },
   "outputs": [],
   "source": [
    "plot_rewards(ddql, 500)"
   ]
  },
  {
   "cell_type": "markdown",
   "metadata": {
    "collapsed": true
   },
   "source": [
    "График наград у стратегии исследования с поощрением исследования. Так как эта стратегия влияет на работу агента модифицируя награды у наборов (s_t, a_t, r_t, s_t+1), то с этим алгоритмом применимы предыдущие стратегии исследования(е-жадная и больцман). "
   ]
  },
  {
   "cell_type": "code",
   "execution_count": null,
   "metadata": {
    "collapsed": true
   },
   "outputs": [],
   "source": []
  },
  {
   "cell_type": "code",
   "execution_count": 26,
   "metadata": {
    "collapsed": true
   },
   "outputs": [],
   "source": [
    "def produce_experiment(ddql, ddql_init_params, ddql_train_params, experiment_num = 5):\n",
    "    ddql_list = [ddql(**ddql_init_params) for k in range(experiment_num)]\n",
    "    \n",
    "    for k in range(experiment_num):\n",
    "        ddql_list[k].train(**ddql_train_params)\n",
    "        \n",
    "    return ddql_list"
   ]
  },
  {
   "cell_type": "code",
   "execution_count": 27,
   "metadata": {
    "collapsed": true
   },
   "outputs": [],
   "source": [
    "ddql_egreedy_params = {\"lparams\":lparams, \"env\":cp_env, \"agent\":egreedyagentinfo}\n",
    "\n",
    "ddql_train_params = {\"num_episodes\":2500, \"frame_limit\":500, \"render\":False}"
   ]
  },
  {
   "cell_type": "code",
   "execution_count": 28,
   "metadata": {
    "collapsed": false
   },
   "outputs": [
    {
     "name": "stdout",
     "output_type": "stream",
     "text": [
      "========= Episode 499 ================================================\n",
      "Total steps: 23228\n",
      "Episode rewards, last 10: [249.0, 500.0, 63.0, 50.0, 355.0, 500.0, 500.0, 500.0, 500.0, 257.0]\n",
      "Mean over last 500 episodes: 56.456\n",
      "Episode lengths, last 10: [248, 499, 62, 49, 354, 499, 499, 499, 499, 256]\n",
      "AEerror, mean over last 10: 0.200180227662\n",
      "======================================================================\n",
      "========= Episode 999 ================================================\n",
      "Total steps: 117438\n",
      "Episode rewards, last 10: [131.0, 69.0, 19.0, 13.0, 26.0, 54.0, 245.0, 88.0, 199.0, 150.0]\n",
      "Mean over last 500 episodes: 188.42\n",
      "Episode lengths, last 10: [130, 68, 18, 12, 25, 53, 244, 87, 198, 149]\n",
      "AEerror, mean over last 10: 0.577955947951\n",
      "======================================================================\n",
      "========= Episode 1499 ================================================\n",
      "Total steps: 207329\n",
      "Episode rewards, last 10: [13.0, 120.0, 203.0, 98.0, 96.0, 311.0, 265.0, 80.0, 273.0, 283.0]\n",
      "Mean over last 500 episodes: 179.782\n",
      "Episode lengths, last 10: [12, 119, 202, 97, 95, 310, 264, 79, 272, 282]\n",
      "AEerror, mean over last 10: 0.508435854814\n",
      "=======================================================================\n",
      "========= Episode 1999 ================================================\n",
      "Total steps: 289132\n",
      "Episode rewards, last 10: [55.0, 182.0, 13.0, 16.0, 21.0, 13.0, 11.0, 19.0, 14.0, 27.0]\n",
      "Mean over last 500 episodes: 163.606\n",
      "Episode lengths, last 10: [54, 181, 12, 15, 20, 12, 10, 18, 13, 26]\n",
      "AEerror, mean over last 10: 0.641377862363\n",
      "=======================================================================\n",
      "========= Episode 2499 ================================================\n",
      "Total steps: 378681\n",
      "Episode rewards, last 10: [10.0, 15.0, 87.0, 203.0, 193.0, 59.0, 12.0, 500.0, 136.0, 500.0]\n",
      "Mean over last 500 episodes: 179.098\n",
      "Episode lengths, last 10: [9, 14, 86, 202, 192, 58, 11, 499, 135, 499]\n",
      "AEerror, mean over last 10: 0.592230008518\n",
      "=======================================================================\n",
      "\n",
      "========= Episode 499 ================================================\n",
      "Total steps: 40130\n",
      "Episode rewards, last 10: [262.0, 226.0, 162.0, 135.0, 69.0, 36.0, 158.0, 119.0, 95.0, 22.0]\n",
      "Mean over last 500 episodes: 90.26\n",
      "Episode lengths, last 10: [261, 225, 161, 134, 68, 35, 157, 118, 94, 21]\n",
      "AEerror, mean over last 10: 0.637985760468\n",
      "======================================================================\n",
      "========= Episode 999 ================================================\n",
      "Total steps: 153691\n",
      "Episode rewards, last 10: [178.0, 50.0, 131.0, 500.0, 103.0, 119.0, 23.0, 16.0, 19.0, 13.0]\n",
      "Mean over last 500 episodes: 227.122\n",
      "Episode lengths, last 10: [177, 49, 130, 499, 102, 118, 22, 15, 18, 12]\n",
      "AEerror, mean over last 10: 0.578644143022\n",
      "======================================================================\n",
      "========= Episode 1499 ================================================\n",
      "Total steps: 267157\n",
      "Episode rewards, last 10: [133.0, 135.0, 336.0, 234.0, 229.0, 203.0, 23.0, 282.0, 102.0, 42.0]\n",
      "Mean over last 500 episodes: 226.932\n",
      "Episode lengths, last 10: [132, 134, 335, 233, 228, 202, 22, 281, 101, 41]\n",
      "AEerror, mean over last 10: 0.668943825571\n",
      "=======================================================================\n",
      "========= Episode 1999 ================================================\n",
      "Total steps: 358803\n",
      "Episode rewards, last 10: [123.0, 159.0, 295.0, 108.0, 63.0, 84.0, 244.0, 118.0, 22.0, 18.0]\n",
      "Mean over last 500 episodes: 183.292\n",
      "Episode lengths, last 10: [122, 158, 294, 107, 62, 83, 243, 117, 21, 17]\n",
      "AEerror, mean over last 10: 0.7237237183\n",
      "=======================================================================\n",
      "========= Episode 2499 ================================================\n",
      "Total steps: 462621\n",
      "Episode rewards, last 10: [500.0, 500.0, 500.0, 500.0, 500.0, 177.0, 500.0, 19.0, 40.0, 30.0]\n",
      "Mean over last 500 episodes: 207.636\n",
      "Episode lengths, last 10: [499, 499, 499, 499, 499, 176, 499, 18, 39, 29]\n",
      "AEerror, mean over last 10: 0.472976756687\n",
      "=======================================================================\n",
      "\n",
      "========= Episode 499 ================================================\n",
      "Total steps: 1582\n",
      "Episode rewards, last 10: [9.0, 10.0, 9.0, 10.0, 8.0, 10.0, 9.0, 10.0, 10.0, 10.0]\n",
      "Mean over last 500 episodes: 13.164\n",
      "Episode lengths, last 10: [8, 9, 8, 9, 7, 9, 8, 9, 9, 9]\n",
      "AEerror, mean over last 10: 0.26175589773\n",
      "======================================================================\n",
      "========= Episode 999 ================================================\n",
      "Total steps: 6498\n",
      "Episode rewards, last 10: [9.0, 11.0, 9.0, 10.0, 10.0, 12.0, 10.0, 9.0, 11.0, 10.0]\n",
      "Mean over last 500 episodes: 9.832\n",
      "Episode lengths, last 10: [8, 10, 8, 9, 9, 11, 9, 8, 10, 9]\n",
      "AEerror, mean over last 10: 0.253108603036\n",
      "======================================================================\n",
      "========= Episode 1499 ================================================\n",
      "Total steps: 11509\n",
      "Episode rewards, last 10: [10.0, 9.0, 12.0, 11.0, 9.0, 10.0, 14.0, 10.0, 11.0, 11.0]\n",
      "Mean over last 500 episodes: 10.022\n",
      "Episode lengths, last 10: [9, 8, 11, 10, 8, 9, 13, 9, 10, 10]\n",
      "AEerror, mean over last 10: 0.234910307718\n",
      "=======================================================================\n",
      "========= Episode 1999 ================================================\n",
      "Total steps: 16479\n",
      "Episode rewards, last 10: [11.0, 10.0, 10.0, 10.0, 10.0, 12.0, 9.0, 9.0, 10.0, 10.0]\n",
      "Mean over last 500 episodes: 9.94\n",
      "Episode lengths, last 10: [10, 9, 9, 9, 9, 11, 8, 8, 9, 9]\n",
      "AEerror, mean over last 10: 0.220013613291\n",
      "=======================================================================\n",
      "========= Episode 2499 ================================================\n",
      "Total steps: 21465\n",
      "Episode rewards, last 10: [9.0, 10.0, 11.0, 11.0, 10.0, 9.0, 13.0, 8.0, 9.0, 9.0]\n",
      "Mean over last 500 episodes: 9.972\n",
      "Episode lengths, last 10: [8, 9, 10, 10, 9, 8, 12, 7, 8, 8]\n",
      "AEerror, mean over last 10: 0.223861141565\n",
      "=======================================================================\n",
      "\n",
      "========= Episode 499 ================================================\n",
      "Total steps: 29205\n",
      "Episode rewards, last 10: [500.0, 500.0, 500.0, 500.0, 216.0, 90.0, 15.0, 25.0, 68.0, 11.0]\n",
      "Mean over last 500 episodes: 68.41\n",
      "Episode lengths, last 10: [499, 499, 499, 499, 215, 89, 14, 24, 67, 10]\n",
      "AEerror, mean over last 10: 0.409661565888\n",
      "======================================================================\n",
      "========= Episode 999 ================================================\n",
      "Total steps: 132479\n",
      "Episode rewards, last 10: [154.0, 16.0, 430.0, 500.0, 500.0, 500.0, 500.0, 13.0, 12.0, 47.0]\n",
      "Mean over last 500 episodes: 206.548\n",
      "Episode lengths, last 10: [153, 15, 429, 499, 499, 499, 499, 12, 11, 46]\n",
      "AEerror, mean over last 10: 0.413899183028\n",
      "======================================================================\n",
      "========= Episode 1499 ================================================\n",
      "Total steps: 212805\n",
      "Episode rewards, last 10: [84.0, 500.0, 362.0, 11.0, 10.0, 57.0, 500.0, 500.0, 500.0, 500.0]\n",
      "Mean over last 500 episodes: 160.652\n",
      "Episode lengths, last 10: [83, 499, 361, 10, 9, 56, 499, 499, 499, 499]\n",
      "AEerror, mean over last 10: 0.580384344211\n",
      "=======================================================================\n",
      "========= Episode 1999 ================================================\n",
      "Total steps: 313898\n",
      "Episode rewards, last 10: [158.0, 42.0, 40.0, 54.0, 500.0, 292.0, 500.0, 500.0, 500.0, 500.0]\n",
      "Mean over last 500 episodes: 202.186\n",
      "Episode lengths, last 10: [157, 41, 39, 53, 499, 291, 499, 499, 499, 499]\n",
      "AEerror, mean over last 10: 0.374166291704\n",
      "=======================================================================\n",
      "========= Episode 2499 ================================================\n",
      "Total steps: 415909\n",
      "Episode rewards, last 10: [500.0, 451.0, 500.0, 16.0, 15.0, 33.0, 16.0, 26.0, 74.0, 47.0]\n",
      "Mean over last 500 episodes: 204.022\n",
      "Episode lengths, last 10: [499, 450, 499, 15, 14, 32, 15, 25, 73, 46]\n",
      "AEerror, mean over last 10: 0.536002882634\n",
      "=======================================================================\n",
      "\n",
      "========= Episode 499 ================================================\n",
      "Total steps: 11942\n",
      "Episode rewards, last 10: [22.0, 24.0, 37.0, 500.0, 227.0, 67.0, 242.0, 500.0, 500.0, 291.0]\n",
      "Mean over last 500 episodes: 33.884\n",
      "Episode lengths, last 10: [21, 23, 36, 499, 226, 66, 241, 499, 499, 290]\n",
      "AEerror, mean over last 10: 0.338179912777\n",
      "======================================================================\n",
      "========= Episode 999 ================================================\n",
      "Total steps: 115666\n",
      "Episode rewards, last 10: [127.0, 11.0, 500.0, 500.0, 500.0, 419.0, 88.0, 12.0, 32.0, 29.0]\n",
      "Mean over last 500 episodes: 207.448\n",
      "Episode lengths, last 10: [126, 10, 499, 499, 499, 418, 87, 11, 31, 28]\n",
      "AEerror, mean over last 10: 0.622976139907\n",
      "======================================================================\n",
      "========= Episode 1499 ================================================\n",
      "Total steps: 214752\n",
      "Episode rewards, last 10: [125.0, 12.0, 150.0, 24.0, 27.0, 303.0, 205.0, 215.0, 132.0, 112.0]\n",
      "Mean over last 500 episodes: 198.172\n",
      "Episode lengths, last 10: [124, 11, 149, 23, 26, 302, 204, 214, 131, 111]\n",
      "AEerror, mean over last 10: 0.634863793311\n",
      "=======================================================================\n",
      "========= Episode 1999 ================================================\n",
      "Total steps: 286365\n",
      "Episode rewards, last 10: [14.0, 69.0, 11.0, 17.0, 23.0, 27.0, 19.0, 32.0, 15.0, 92.0]\n",
      "Mean over last 500 episodes: 143.226\n",
      "Episode lengths, last 10: [13, 68, 10, 16, 22, 26, 18, 31, 14, 91]\n",
      "AEerror, mean over last 10: 0.478538226656\n",
      "=======================================================================\n",
      "========= Episode 2499 ================================================\n",
      "Total steps: 375763\n",
      "Episode rewards, last 10: [93.0, 23.0, 500.0, 11.0, 500.0, 500.0, 204.0, 229.0, 13.0, 20.0]\n",
      "Mean over last 500 episodes: 178.796\n",
      "Episode lengths, last 10: [92, 22, 499, 10, 499, 499, 203, 228, 12, 19]\n",
      "AEerror, mean over last 10: 0.483182307194\n",
      "=======================================================================\n",
      "\n",
      "========= Episode 499 ================================================\n",
      "Total steps: 1495\n",
      "Episode rewards, last 10: [10.0, 9.0, 11.0, 11.0, 9.0, 10.0, 10.0, 9.0, 9.0, 9.0]\n",
      "Mean over last 500 episodes: 12.99\n",
      "Episode lengths, last 10: [9, 8, 10, 10, 8, 9, 9, 8, 8, 8]\n",
      "AEerror, mean over last 10: 0.759777570414\n",
      "======================================================================\n",
      "========= Episode 999 ================================================\n",
      "Total steps: 6419\n",
      "Episode rewards, last 10: [9.0, 10.0, 9.0, 13.0, 11.0, 12.0, 11.0, 10.0, 11.0, 10.0]\n",
      "Mean over last 500 episodes: 9.848\n",
      "Episode lengths, last 10: [8, 9, 8, 12, 10, 11, 10, 9, 10, 9]\n",
      "AEerror, mean over last 10: 0.662805932511\n",
      "======================================================================\n",
      "========= Episode 1499 ================================================\n",
      "Total steps: 11367\n",
      "Episode rewards, last 10: [8.0, 9.0, 11.0, 10.0, 8.0, 10.0, 12.0, 10.0, 10.0, 9.0]\n",
      "Mean over last 500 episodes: 9.896\n",
      "Episode lengths, last 10: [7, 8, 10, 9, 7, 9, 11, 9, 9, 8]\n",
      "AEerror, mean over last 10: 0.769023555496\n",
      "=======================================================================\n",
      "========= Episode 1999 ================================================\n",
      "Total steps: 16307\n",
      "Episode rewards, last 10: [10.0, 9.0, 9.0, 10.0, 11.0, 9.0, 10.0, 10.0, 10.0, 10.0]\n",
      "Mean over last 500 episodes: 9.88\n",
      "Episode lengths, last 10: [9, 8, 8, 9, 10, 8, 9, 9, 9, 9]\n",
      "AEerror, mean over last 10: 0.758731151081\n",
      "=======================================================================\n",
      "========= Episode 2499 ================================================\n",
      "Total steps: 21215\n",
      "Episode rewards, last 10: [10.0, 10.0, 9.0, 8.0, 9.0, 13.0, 10.0, 9.0, 8.0, 8.0]\n",
      "Mean over last 500 episodes: 9.816\n",
      "Episode lengths, last 10: [9, 9, 8, 7, 8, 12, 9, 8, 7, 7]\n",
      "AEerror, mean over last 10: 0.700863272253\n",
      "=======================================================================\n",
      "\n",
      "========= Episode 499 ================================================\n",
      "Total steps: 9588\n",
      "Episode rewards, last 10: [500.0, 500.0, 500.0, 451.0, 33.0, 500.0, 500.0, 454.0, 90.0, 77.0]\n",
      "Mean over last 500 episodes: 29.176\n",
      "Episode lengths, last 10: [499, 499, 499, 450, 32, 499, 499, 453, 89, 76]\n",
      "AEerror, mean over last 10: 0.305300792031\n",
      "======================================================================\n",
      "========= Episode 999 ================================================\n",
      "Total steps: 114838\n",
      "Episode rewards, last 10: [500.0, 500.0, 500.0, 249.0, 306.0, 21.0, 70.0, 500.0, 500.0, 500.0]\n",
      "Mean over last 500 episodes: 210.5\n",
      "Episode lengths, last 10: [499, 499, 499, 248, 305, 20, 69, 499, 499, 499]\n",
      "AEerror, mean over last 10: 0.235052324576\n",
      "======================================================================\n",
      "========= Episode 1499 ================================================\n",
      "Total steps: 222933\n",
      "Episode rewards, last 10: [215.0, 228.0, 368.0, 167.0, 500.0, 261.0, 500.0, 500.0, 500.0, 154.0]\n",
      "Mean over last 500 episodes: 216.19\n",
      "Episode lengths, last 10: [214, 227, 367, 166, 499, 260, 499, 499, 499, 153]\n",
      "AEerror, mean over last 10: 0.308567863115\n",
      "=======================================================================\n",
      "========= Episode 1999 ================================================\n",
      "Total steps: 318123\n",
      "Episode rewards, last 10: [500.0, 171.0, 18.0, 36.0, 10.0, 500.0, 500.0, 500.0, 500.0, 13.0]\n",
      "Mean over last 500 episodes: 190.38\n",
      "Episode lengths, last 10: [499, 170, 17, 35, 9, 499, 499, 499, 499, 12]\n",
      "AEerror, mean over last 10: 0.212366307813\n",
      "=======================================================================\n",
      "========= Episode 2499 ================================================\n",
      "Total steps: 417513\n",
      "Episode rewards, last 10: [500.0, 500.0, 500.0, 500.0, 15.0, 13.0, 43.0, 500.0, 339.0, 14.0]\n",
      "Mean over last 500 episodes: 198.78\n",
      "Episode lengths, last 10: [499, 499, 499, 499, 14, 12, 42, 499, 338, 13]\n",
      "AEerror, mean over last 10: 0.603412340372\n",
      "=======================================================================\n",
      "\n",
      "========= Episode 499 ================================================\n",
      "Total steps: 6098\n",
      "Episode rewards, last 10: [190.0, 206.0, 191.0, 210.0, 230.0, 308.0, 176.0, 43.0, 33.0, 17.0]\n",
      "Mean over last 500 episodes: 22.196\n",
      "Episode lengths, last 10: [189, 205, 190, 209, 229, 307, 175, 42, 32, 16]\n",
      "AEerror, mean over last 10: 0.359073143467\n",
      "======================================================================\n",
      "========= Episode 999 ================================================\n",
      "Total steps: 115061\n",
      "Episode rewards, last 10: [338.0, 500.0, 448.0, 89.0, 150.0, 122.0, 54.0, 11.0, 101.0, 148.0]\n",
      "Mean over last 500 episodes: 217.926\n",
      "Episode lengths, last 10: [337, 499, 447, 88, 149, 121, 53, 10, 100, 147]\n",
      "AEerror, mean over last 10: 0.618279056026\n",
      "======================================================================\n",
      "========= Episode 1499 ================================================\n",
      "Total steps: 197000\n",
      "Episode rewards, last 10: [26.0, 11.0, 98.0, 116.0, 110.0, 22.0, 31.0, 132.0, 500.0, 500.0]\n",
      "Mean over last 500 episodes: 163.878\n",
      "Episode lengths, last 10: [25, 10, 97, 115, 109, 21, 30, 131, 499, 499]\n",
      "AEerror, mean over last 10: 0.448157847773\n",
      "=======================================================================\n",
      "========= Episode 1999 ================================================\n",
      "Total steps: 282402\n",
      "Episode rewards, last 10: [42.0, 84.0, 13.0, 25.0, 12.0, 71.0, 30.0, 242.0, 286.0, 169.0]\n",
      "Mean over last 500 episodes: 170.804\n",
      "Episode lengths, last 10: [41, 83, 12, 24, 11, 70, 29, 241, 285, 168]\n",
      "AEerror, mean over last 10: 0.368937624423\n",
      "=======================================================================\n",
      "========= Episode 2499 ================================================\n",
      "Total steps: 371064\n",
      "Episode rewards, last 10: [63.0, 72.0, 49.0, 68.0, 26.0, 55.0, 60.0, 14.0, 56.0, 88.0]\n",
      "Mean over last 500 episodes: 177.324\n",
      "Episode lengths, last 10: [62, 71, 48, 67, 25, 54, 59, 13, 55, 87]\n",
      "AEerror, mean over last 10: 0.318508808521\n",
      "=======================================================================\n",
      "\n",
      "========= Episode 499 ================================================\n",
      "Total steps: 1497\n",
      "Episode rewards, last 10: [9.0, 11.0, 8.0, 12.0, 8.0, 10.0, 12.0, 9.0, 8.0, 10.0]\n",
      "Mean over last 500 episodes: 12.994\n",
      "Episode lengths, last 10: [8, 10, 7, 11, 7, 9, 11, 8, 7, 9]\n",
      "AEerror, mean over last 10: 0.229283467025\n",
      "======================================================================\n",
      "========= Episode 999 ================================================\n",
      "Total steps: 6373\n",
      "Episode rewards, last 10: [10.0, 10.0, 10.0, 10.0, 10.0, 9.0, 10.0, 11.0, 9.0, 10.0]\n",
      "Mean over last 500 episodes: 9.752\n",
      "Episode lengths, last 10: [9, 9, 9, 9, 9, 8, 9, 10, 8, 9]\n",
      "AEerror, mean over last 10: 0.206939575602\n",
      "======================================================================\n",
      "========= Episode 1499 ================================================\n",
      "Total steps: 11347\n",
      "Episode rewards, last 10: [9.0, 9.0, 11.0, 10.0, 12.0, 10.0, 9.0, 9.0, 14.0, 12.0]\n",
      "Mean over last 500 episodes: 9.948\n",
      "Episode lengths, last 10: [8, 8, 10, 9, 11, 9, 8, 8, 13, 11]\n",
      "AEerror, mean over last 10: 0.224835513761\n",
      "=======================================================================\n",
      "========= Episode 1999 ================================================\n",
      "Total steps: 16240\n",
      "Episode rewards, last 10: [10.0, 10.0, 9.0, 10.0, 9.0, 11.0, 10.0, 10.0, 11.0, 10.0]\n",
      "Mean over last 500 episodes: 9.786\n",
      "Episode lengths, last 10: [9, 9, 8, 9, 8, 10, 9, 9, 10, 9]\n",
      "AEerror, mean over last 10: 0.234659503335\n",
      "=======================================================================\n",
      "========= Episode 2499 ================================================\n",
      "Total steps: 21176\n",
      "Episode rewards, last 10: [9.0, 9.0, 10.0, 9.0, 11.0, 10.0, 10.0, 10.0, 8.0, 17.0]\n",
      "Mean over last 500 episodes: 9.872\n",
      "Episode lengths, last 10: [8, 8, 9, 8, 10, 9, 9, 9, 7, 16]\n",
      "AEerror, mean over last 10: 0.212087970469\n",
      "=======================================================================\n",
      "\n",
      "========= Episode 499 ================================================\n",
      "Total steps: 1561\n",
      "Episode rewards, last 10: [11.0, 10.0, 10.0, 9.0, 9.0, 10.0, 9.0, 10.0, 10.0, 9.0]\n",
      "Mean over last 500 episodes: 13.122\n",
      "Episode lengths, last 10: [10, 9, 9, 8, 8, 9, 8, 9, 9, 8]\n",
      "AEerror, mean over last 10: 0.798893468346\n",
      "======================================================================\n",
      "========= Episode 999 ================================================\n",
      "Total steps: 6493\n",
      "Episode rewards, last 10: [15.0, 8.0, 10.0, 8.0, 9.0, 9.0, 9.0, 12.0, 9.0, 8.0]\n",
      "Mean over last 500 episodes: 9.864\n",
      "Episode lengths, last 10: [14, 7, 9, 7, 8, 8, 8, 11, 8, 7]\n",
      "AEerror, mean over last 10: 0.735387327485\n",
      "======================================================================\n",
      "========= Episode 1499 ================================================\n",
      "Total steps: 11403\n",
      "Episode rewards, last 10: [8.0, 10.0, 10.0, 10.0, 8.0, 9.0, 8.0, 9.0, 9.0, 10.0]\n",
      "Mean over last 500 episodes: 9.82\n",
      "Episode lengths, last 10: [7, 9, 9, 9, 7, 8, 7, 8, 8, 9]\n",
      "AEerror, mean over last 10: 0.743999173882\n",
      "=======================================================================\n",
      "========= Episode 1999 ================================================\n",
      "Total steps: 16391\n",
      "Episode rewards, last 10: [10.0, 11.0, 9.0, 9.0, 11.0, 10.0, 10.0, 10.0, 13.0, 9.0]\n",
      "Mean over last 500 episodes: 9.976\n",
      "Episode lengths, last 10: [9, 10, 8, 8, 10, 9, 9, 9, 12, 8]\n",
      "AEerror, mean over last 10: 0.796388807217\n",
      "=======================================================================\n",
      "========= Episode 2499 ================================================\n",
      "Total steps: 21306\n",
      "Episode rewards, last 10: [10.0, 11.0, 10.0, 9.0, 10.0, 8.0, 9.0, 9.0, 12.0, 10.0]\n",
      "Mean over last 500 episodes: 9.83\n",
      "Episode lengths, last 10: [9, 10, 9, 8, 9, 7, 8, 8, 11, 9]\n",
      "AEerror, mean over last 10: 0.853385124102\n",
      "=======================================================================\n",
      "\n"
     ]
    }
   ],
   "source": [
    "res = produce_experiment(DDQL, ddql_egreedy_params, ddql_train_params, 10)"
   ]
  },
  {
   "cell_type": "code",
   "execution_count": null,
   "metadata": {
    "collapsed": true
   },
   "outputs": [],
   "source": []
  },
  {
   "cell_type": "code",
   "execution_count": 32,
   "metadata": {
    "collapsed": true
   },
   "outputs": [],
   "source": [
    "def plot_results(ddql_res, window = 100, std_coef = 0.2, results_over = 1000):\n",
    "    res_lists = [k.rList for k in ddql_res]\n",
    "    res_lists = np.array(res_lists)\n",
    "    pd.DataFrame(data = res_lists)\n",
    "    mean = res_lists.mean(axis = 0)\n",
    "    std = res_lists.std(axis = 0)\n",
    "    rol_mean = np.nan_to_num(pd.Series(mean).rolling(window = window).mean())\n",
    "    rol_std = np.nan_to_num(pd.Series(std).rolling(window = window).mean())\n",
    "    plt.figure()\n",
    "    index = np.arange(len(rol_mean))\n",
    "    plt.plot(index, rol_mean)\n",
    "    plt.fill_between(index, rol_mean-std_coef*rol_std, rol_mean+std_coef*rol_std, color='b', alpha=0.1)\n",
    "    return max(rol_mean[0:results_over]), rol_mean[0:results_over].mean(), pd.DataFrame(data = res_lists)"
   ]
  },
  {
   "cell_type": "code",
   "execution_count": 36,
   "metadata": {
    "collapsed": false
   },
   "outputs": [
    {
     "data": {
      "image/png": "[encoded data removed]",
      "text/plain": [
       "<matplotlib.figure.Figure at 0x116612c50>"
      ]
     },
     "metadata": {},
     "output_type": "display_data"
    }
   ],
   "source": [
    "inc_max, inc_auc, inc_df = plot_results(res, 100, 0.2)\n",
    "plt.savefig(\"inc_cp.png\")"
   ]
  },
  {
   "cell_type": "code",
   "execution_count": 34,
   "metadata": {
    "collapsed": false
   },
   "outputs": [
    {
     "name": "stdout",
     "output_type": "stream",
     "text": [
      "147.567 75.383885\n"
     ]
    }
   ],
   "source": [
    "print inc_max, inc_auc"
   ]
  },
  {
   "cell_type": "code",
   "execution_count": 35,
   "metadata": {
    "collapsed": true
   },
   "outputs": [],
   "source": [
    "inc_df.to_csv(\"inc.csv\")"
   ]
  },
  {
   "cell_type": "code",
   "execution_count": null,
   "metadata": {
    "collapsed": true
   },
   "outputs": [],
   "source": []
  }
 ],
 "metadata": {
  "anaconda-cloud": {},
  "kernelspec": {
   "display_name": "Python [conda root]",
   "language": "python",
   "name": "conda-root-py"
  },
  "language_info": {
   "codemirror_mode": {
    "name": "ipython",
    "version": 2
   },
   "file_extension": ".py",
   "mimetype": "text/x-python",
   "name": "python",
   "nbconvert_exporter": "python",
   "pygments_lexer": "ipython2",
   "version": "2.7.13"
  },
  "widgets": {
   "state": {
    "10ff868b77e745fdb2ff913c000e37e1": {
     "views": [
      {
       "cell_index": 26
      }
     ]
    },
    "3a71886fb71d4964ba06ea0b90f0d2ec": {
     "views": [
      {
       "cell_index": 26
      }
     ]
    },
    "5e60f72ef143478686a9890a6c748a93": {
     "views": [
      {
       "cell_index": 26
      }
     ]
    },
    "672ef21c890c4f1d958d0a9d4547a13f": {
     "views": [
      {
       "cell_index": 26
      }
     ]
    },
    "7045d7e86dad4801b1cef44818b60361": {
     "views": [
      {
       "cell_index": 26
      }
     ]
    },
    "859bc363a87641cba114ff9845c58274": {
     "views": [
      {
       "cell_index": 26
      }
     ]
    },
    "878b8117d2fd4a50ba1abf2271ffaef1": {
     "views": [
      {
       "cell_index": 26
      }
     ]
    },
    "8cdc574945a542ad88e7d418e09f6729": {
     "views": [
      {
       "cell_index": 26
      }
     ]
    },
    "9484ee9c96974cdf940cb1fd06b56bc0": {
     "views": [
      {
       "cell_index": 26
      }
     ]
    },
    "ad4281ff204640a98844cb0c13dce786": {
     "views": [
      {
       "cell_index": 26
      }
     ]
    },
    "c1a95eda7e7d441788f8458d41e4040f": {
     "views": [
      {
       "cell_index": 26
      }
     ]
    },
    "c4f63b99dbae4b4ab8296bf61016da2b": {
     "views": [
      {
       "cell_index": 26
      }
     ]
    },
    "e29672c32b144b3ba8bd13c4a2c1e889": {
     "views": [
      {
       "cell_index": 26
      }
     ]
    },
    "e6dfbad2ad264f0187bb0fcc501fb5d3": {
     "views": [
      {
       "cell_index": 26
      }
     ]
    },
    "ed4c7c3609b44a59a42f1d83fe0b7e54": {
     "views": [
      {
       "cell_index": 26
      }
     ]
    }
   },
   "version": "1.2.0"
  }
 },
 "nbformat": 4,
 "nbformat_minor": 0
}
