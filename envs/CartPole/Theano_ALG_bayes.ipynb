{
 "cells": [
  {
   "cell_type": "code",
   "execution_count": 2,
   "metadata": {
    "collapsed": false
   },
   "outputs": [],
   "source": [
    "import scipy\n",
    "import scipy.misc\n",
    "import numpy as np\n",
    "import random\n",
    "import pandas as pd\n",
    "import gym\n",
    "from tqdm import tqdm\n",
    "from tqdm import tqdm_notebook\n",
    "import os\n",
    "import matplotlib.pyplot as plt\n",
    "%matplotlib inline"
   ]
  },
  {
   "cell_type": "code",
   "execution_count": 3,
   "metadata": {
    "collapsed": true
   },
   "outputs": [],
   "source": [
    "import lasagne\n",
    "import theano.tensor as T\n",
    "import theano"
   ]
  },
  {
   "cell_type": "code",
   "execution_count": 4,
   "metadata": {
    "collapsed": false
   },
   "outputs": [],
   "source": [
    "%load_ext autoreload\n",
    "%autoreload 2"
   ]
  },
  {
   "cell_type": "code",
   "execution_count": 5,
   "metadata": {
    "collapsed": false
   },
   "outputs": [],
   "source": [
    "class LunarLanding_wrapper():\n",
    "    def __init__(self):\n",
    "        self.state_size = (1, 8)\n",
    "        self.game_title = \"LunarLander-v2\"\n",
    "        self.actions = [\"DO_NOTHING\", \"FIRE_LEFT\", \"FIRE_MAIN\", \"FIRE_RIGHT\"]\n",
    "        self.n_actions = len(self.actions)\n",
    "        try:\n",
    "            self.env = gym.make(self.game_title)\n",
    "        except:\n",
    "            print (\"ERROR : Can't find \" + self.game_title + \" environment.\")\n",
    "            return None\n",
    "        self.env.reset()\n",
    "    \n",
    "    def processState(self, state):\n",
    "        return state.reshape(1, -1)\n",
    "    \n",
    "    def processAction(self, action):\n",
    "        return action\n",
    "    \n",
    "    def make_reset(self):\n",
    "        state = self.env.reset()\n",
    "    \n",
    "        return self.processState(state)\n",
    "    \n",
    "    def make_step(self, action, render = False):\n",
    "        action = self.processAction(action)\n",
    "    \n",
    "        state, ret1, ret2, ret3 = self.env.step(action)\n",
    "    \n",
    "        if render:\n",
    "            self.env.render()\n",
    "    \n",
    "        return self.processState(state), ret1, ret2, ret3"
   ]
  },
  {
   "cell_type": "code",
   "execution_count": 6,
   "metadata": {
    "collapsed": false
   },
   "outputs": [],
   "source": [
    "class CartPole_wrapper():\n",
    "    def __init__(self):\n",
    "        self.state_size = (1, 4)\n",
    "        self.game_title = \"CartPole-v0\"\n",
    "        self.actions = [\"LEFT\", \"RIGHT\"]\n",
    "        self.n_actions = len(self.actions)\n",
    "        try:\n",
    "            self.env = gym.make(self.game_title)\n",
    "        except:\n",
    "            print (\"ERROR : Can't find \" + self.game_title + \" environment.\")\n",
    "            return None\n",
    "        self.env.reset()\n",
    "    \n",
    "    def processState(self, state):\n",
    "        return state.reshape(1, -1)\n",
    "    \n",
    "    def processAction(self, action):\n",
    "        return action\n",
    "    \n",
    "    def make_reset(self):\n",
    "        state = self.env.reset()\n",
    "    \n",
    "        return self.processState(state)\n",
    "    \n",
    "    def make_step(self, action, render = False):\n",
    "        action = self.processAction(action)\n",
    "    \n",
    "        state, ret1, ret2, ret3 = self.env.step(action)\n",
    "    \n",
    "        if render:\n",
    "            self.env.render()\n",
    "    \n",
    "        return self.processState(state), ret1, ret2, ret3"
   ]
  },
  {
   "cell_type": "code",
   "execution_count": 7,
   "metadata": {
    "collapsed": false
   },
   "outputs": [],
   "source": [
    "class AVQ_nn():\n",
    "    def __init__(self, channels_number = 4, image_shape = (1, 8), n_actions = 4, grad_clipping = 10, lr = 0.0001, h = 50, alpha = 25):\n",
    "        self.input_var = T.tensor4('input')\n",
    "        \n",
    "        self.n_actions = n_actions\n",
    "        self.build_network(channels_number, image_shape)\n",
    "        self.build_AVQ(grad_clipping, lr, h, alpha)\n",
    "        self.compile_network()\n",
    "        \n",
    "    def build_network(self, channels_number, image_shape):\n",
    "        self.l1 = lasagne.layers.InputLayer(shape=(None, channels_number, image_shape[0], image_shape[1]), \n",
    "                                            input_var = self.input_var)\n",
    "        self.l2 = lasagne.layers.DenseLayer(self.l1, 40, nonlinearity=lasagne.nonlinearities.leaky_rectify)\n",
    "        self.l3 = lasagne.layers.DenseLayer(self.l2, 40, nonlinearity=lasagne.nonlinearities.leaky_rectify)\n",
    "        self.outlayer = lasagne.layers.DenseLayer(self.l3, 50, nonlinearity=lasagne.nonlinearities.leaky_rectify)\n",
    "    \n",
    "    def build_AVQ(self, grad_clipping, lr, h, alpha):\n",
    "        self.l_advantage = lasagne.layers.DenseLayer(self.outlayer, self.n_actions)\n",
    "        self.l_value = lasagne.layers.DenseLayer(self.outlayer, 1)\n",
    "        self.l_varq = lasagne.layers.DenseLayer(self.outlayer, self.n_actions, nonlinearity=lasagne.nonlinearities.softplus)\n",
    "        \n",
    "        self.advantage, self.value, self.varq = lasagne.layers.get_output([self.l_advantage, self.l_value, self.l_varq])\n",
    "\n",
    "        self.average_advantage = T.mean(self.advantage, keepdims = True, axis = 1)\n",
    "        \n",
    "#        self.Q = self.advantage + self.value - self.average_advantage\n",
    "        self.Q = self.advantage\n",
    "        self.predict = T.argmax(self.Q, axis = 1)\n",
    "        \n",
    "        self.targetQ = T.fvector('targetQ')\n",
    "        self.actions = T.ivector('actions')\n",
    "        self.actions_onehot = T.extra_ops.to_one_hot(self.actions, self.n_actions, dtype=np.float32)\n",
    "        \n",
    "        self.Q0 = T.sum(self.Q * self.actions_onehot, axis = 1)\n",
    "        self.varQ0 = T.sum(self.varq * self.actions_onehot, axis = 1)\n",
    "        \n",
    "        self.Q1 = self.Q0 + (self.targetQ - self.Q0) / (h + 1)\n",
    "        self.varQ1 = (h * (alpha - 1)) / ((h + 1) * (alpha - 0.5)) * \\\n",
    "                     (self.varQ0 + T.sqr(self.targetQ - self.Q0) / (2 * (h+1) * (alpha - 1)))\n",
    "        \n",
    "        self.td_error = T.mean(T.sqr(self.Q1 - self.Q0))\n",
    "        self.var_error = T.mean(T.sqr(self.varQ1 - self.varQ0))\n",
    "        self.loss = self.td_error + self.var_error\n",
    "        \n",
    "        params = self.get_all_params()\n",
    "        self.all_grads = T.grad(self.loss, params)\n",
    "        self.scaled_grads = lasagne.updates.total_norm_constraint(self.all_grads, grad_clipping)\n",
    "        self.updates = lasagne.updates.adam(self.scaled_grads, params, learning_rate=lr)\n",
    "        \n",
    "    def compile_network(self):\n",
    "        self.Qout_fn = theano.function([self.input_var], self.Q)\n",
    "        self.actionpred_fn = theano.function([self.input_var], self.predict)\n",
    "        self.train_fn = theano.function([self.input_var, self.targetQ, self.actions], [self.loss, self.Q1, self.varQ1], updates = self.updates)\n",
    "        self.var_fn = theano.function([self.input_var], self.varq)\n",
    "    \n",
    "    def get_all_params(self):\n",
    "#        return lasagne.layers.get_all_params([self.l_advantage, self.l_value], trainable = True)\n",
    "        return lasagne.layers.get_all_params([self.l_advantage, self.l_varq], trainable = True)\n",
    "    \n",
    "    def get_all_params_values(self):\n",
    "#        return lasagne.layers.get_all_param_values([self.l_advantage, self.l_value], trainable = True)\n",
    "        return lasagne.layers.get_all_param_values([self.l_advantage, self.l_varq], trainable = True)\n",
    "    \n",
    "    def set_all_params_values(self, values):\n",
    "#        return lasagne.layers.set_all_param_values([self.l_advantage, self.l_value], values, trainable = True)\n",
    "        return lasagne.layers.set_all_param_values([self.l_advantage, self.l_varq], values, trainable = True)"
   ]
  },
  {
   "cell_type": "code",
   "execution_count": 8,
   "metadata": {
    "collapsed": true
   },
   "outputs": [],
   "source": [
    "class experience_buffer():\n",
    "    def __init__(self, buffer_size = 10000):\n",
    "        self.buffer = []\n",
    "        self.buffer_size = buffer_size\n",
    "    \n",
    "    def add(self, experience):\n",
    "        if len(self.buffer) + len(experience) >= self.buffer_size:\n",
    "            self.buffer[0:(len(experience)+len(self.buffer))-self.buffer_size] = []\n",
    "        self.buffer.extend(experience)\n",
    "            \n",
    "    def sample(self, size):\n",
    "        return np.reshape(np.array(random.sample(self.buffer,size)),[size,5])"
   ]
  },
  {
   "cell_type": "code",
   "execution_count": null,
   "metadata": {
    "collapsed": true
   },
   "outputs": [],
   "source": []
  },
  {
   "cell_type": "code",
   "execution_count": 9,
   "metadata": {
    "collapsed": false
   },
   "outputs": [],
   "source": [
    "class window_aggregator():\n",
    "    def __init__(self, window_length, state_shape):\n",
    "        self.state_shape = state_shape\n",
    "        self.window_length = window_length\n",
    "        \n",
    "        assert len(self.state_shape) == 2\n",
    "        assert self.window_length >= 1\n",
    "        \n",
    "        self.start_aggregator_shape = (window_length, state_shape[0], state_shape[1])\n",
    "                                             \n",
    "        self.aggregator = np.zeros(self.start_aggregator_shape)\n",
    "        \n",
    "    def reset(self):\n",
    "        self.aggregator = np.zeros(self.start_aggregator_shape)\n",
    "                                       \n",
    "    def add_state(self, state):\n",
    "        state = np.expand_dims(state, 0)\n",
    "        self.aggregator = np.append(self.aggregator, state, axis = 0)\n",
    "    \n",
    "    def get_window(self):\n",
    "        return self.aggregator[-self.window_length:,:,:]                                                                           "
   ]
  },
  {
   "cell_type": "code",
   "execution_count": null,
   "metadata": {
    "collapsed": true
   },
   "outputs": [],
   "source": []
  },
  {
   "cell_type": "code",
   "execution_count": 10,
   "metadata": {
    "collapsed": true
   },
   "outputs": [],
   "source": [
    "class egreedy_agent():\n",
    "    def __init__(self, n_actions, actionpred_fn, startE = 1, endE = 0.1, anneling_steps = 50000):\n",
    "        self.startE = startE\n",
    "        self.endE = endE\n",
    "        self.anneling_steps = anneling_steps\n",
    "        self.stepE = (self.startE - self.endE) / self.anneling_steps\n",
    "        self.n_actions = n_actions\n",
    "        self.actionpred_fn = actionpred_fn\n",
    "    \n",
    "    def choose_action(self, state, current_step):\n",
    "        if current_step > self.anneling_steps:\n",
    "            epsilon = self.endE\n",
    "        else:\n",
    "            epsilon = self.startE - self.stepE * current_step\n",
    "        \n",
    "        if np.random.rand(1) < epsilon:\n",
    "            a = np.random.randint(0, self.n_actions)\n",
    "        else:\n",
    "            a = self.actionpred_fn(np.expand_dims(state, axis = 0))[0]\n",
    "            \n",
    "        return a"
   ]
  },
  {
   "cell_type": "code",
   "execution_count": 11,
   "metadata": {
    "collapsed": false
   },
   "outputs": [],
   "source": [
    "class boltzman_agent:\n",
    "    def __init__(self, n_actions, Qout_fn, startT = 1000, endT = 0.1, anneling_steps = 50000):\n",
    "        self.startT = startT\n",
    "        self.endT = endT\n",
    "        self.anneling_steps = anneling_steps\n",
    "        self.logstep = (np.log(startT) - np.log(endT)) / anneling_steps\n",
    "        self.n_actions = n_actions\n",
    "        self.Qout_fn = Qout_fn\n",
    "    \n",
    "    def choose_action(self, state, current_step):\n",
    "        scores = self.Qout_fn(np.expand_dims(state, axis = 0))[0]\n",
    "        if current_step > self.anneling_steps:\n",
    "            exponents = np.exp((scores - np.max(scores)) / self.endT)\n",
    "        else:\n",
    "            current_temp = self.startT / np.exp(self.logstep * current_step)\n",
    "            exponents = np.exp((scores - np.max(scores)) / current_temp)\n",
    "        probs = exponents / np.sum(exponents)\n",
    "        return np.random.choice(self.n_actions, p = probs)"
   ]
  },
  {
   "cell_type": "code",
   "execution_count": 12,
   "metadata": {
    "collapsed": true
   },
   "outputs": [],
   "source": [
    "class bayes_agent():\n",
    "    def __init__(self, n_actions, actionpred_fn, var_fn, startE = 1, endE = 0.1, anneling_steps = 50000):\n",
    "        self.startE = startE\n",
    "        self.endE = endE\n",
    "        self.anneling_steps = anneling_steps\n",
    "        self.stepE = (self.startE - self.endE) / self.anneling_steps\n",
    "        self.n_actions = n_actions\n",
    "        self.actionpred_fn = actionpred_fn\n",
    "        self.var_fn = var_fn\n",
    "    \n",
    "    def choose_action(self, state, current_step):\n",
    "        if current_step > self.anneling_steps:\n",
    "            epsilon = self.endE\n",
    "        else:\n",
    "            epsilon = self.startE - self.stepE * current_step\n",
    "        \n",
    "        if np.random.rand(1) < epsilon:\n",
    "            scores = self.var_fn(np.expand_dims(state, axis = 0))\n",
    "            a = np.argmax(scores)\n",
    "        else:\n",
    "            a = self.actionpred_fn(np.expand_dims(state, axis = 0))[0]\n",
    "            \n",
    "        return a"
   ]
  },
  {
   "cell_type": "code",
   "execution_count": null,
   "metadata": {
    "collapsed": true
   },
   "outputs": [],
   "source": []
  },
  {
   "cell_type": "code",
   "execution_count": 13,
   "metadata": {
    "collapsed": false
   },
   "outputs": [],
   "source": [
    "class DDQL():\n",
    "    def __init__(self, lparams, env, agent = {\"agent\":\"egreedy\", \"params\":{}}):\n",
    "        self.grad_clip = lparams[\"grad_clipping\"]\n",
    "        self.lr = lparams[\"learning_rate\"]\n",
    "        self.window_size = lparams[\"window_size\"]\n",
    "        self.batch_size = lparams[\"batch_size\"]\n",
    "        self.gamma = lparams[\"gamma\"]\n",
    "        self.h = lparams[\"lambda\"]\n",
    "        self.alpha = lparams[\"alpha\"]\n",
    "        self.MQN_updatefreq = lparams[\"MQN_updatefreq\"]\n",
    "        self.TQN_updatefreq = lparams[\"TQN_updatefreq\"]\n",
    "        self.TQN_updaterate = lparams[\"TQN_updaterate\"]\n",
    "        self.print_freq = lparams[\"print_freq\"]\n",
    "        self.pretrain_steps = lparams[\"pretrain_steps\"]\n",
    "        self.buffer_size = lparams[\"buffer_size\"]\n",
    "        self.pretrain_over = False\n",
    "        \n",
    "        self.env = env\n",
    "        AVQ_params = [self.window_size, self.env.state_size, self.env.n_actions, \n",
    "                      self.grad_clip, self.lr, self.h, self.alpha]\n",
    "        self.mainQN = AVQ_nn(*AVQ_params)\n",
    "        self.targetQN = AVQ_nn(*AVQ_params)\n",
    "\n",
    "        self.jList = []\n",
    "        self.rList = []\n",
    "        self.total_steps = 0\n",
    "        \n",
    "        self.window = window_aggregator(self.window_size, self.env.state_size)\n",
    "        self.experience_storage = experience_buffer(self.buffer_size)\n",
    "        self.agent = self.getAgent(agent[\"agent\"], agent[\"params\"])\n",
    "            \n",
    "    def getAgent(self, agent, agentparams):\n",
    "        if agent == \"egreedy\":\n",
    "            return egreedy_agent(self.env.n_actions, self.mainQN.actionpred_fn, **agentparams)\n",
    "        elif agent == \"boltzman\":\n",
    "            return boltzman_agent(self.env.n_actions, self.mainQN.Qout_fn, **agentparams)\n",
    "        elif agent == \"bayes\":\n",
    "            return bayes_agent(self.env.n_actions, self.mainQN.actionpred_fn, self.mainQN.var_fn, **agentparams)\n",
    "        else:\n",
    "            raise ValueError(\"Unknown agent\")\n",
    "            \n",
    "    def updateTarget(self, completeupdate = False):\n",
    "        if completeupdate:\n",
    "            self.targetQN.set_all_params_values(self.mainQN.get_all_params_values())\n",
    "        else:\n",
    "            targetparams = self.targetQN.get_all_params_values()\n",
    "            mainparams = self.mainQN.get_all_params_values()\n",
    "            ur = self.TQN_updaterate\n",
    "        \n",
    "            assert len(targetparams) == len(mainparams)\n",
    "            for k in range(0, len(targetparams)):\n",
    "                targetparams[k] = targetparams[k] * (1.0 - ur) + mainparams[k] * ur\n",
    "        \n",
    "            self.targetQN.set_all_params_values(targetparams)\n",
    "\n",
    "    def train(self, num_episodes, frame_limit, render = True):\n",
    "        self.updateTarget(True)\n",
    "        self.window.reset()\n",
    "            \n",
    "        for episode_num in tqdm_notebook(range(num_episodes), desc = \"RL train\"):\n",
    "            state = self.env.make_reset()\n",
    "            self.window.add_state(state)\n",
    "            window_state = self.window.get_window()\n",
    "            episode_rewards = np.zeros(frame_limit)\n",
    "                \n",
    "            for iteration in xrange(0, frame_limit):\n",
    "                action = self.agent.choose_action(window_state, self.total_steps)\n",
    "                new_state, reward, gameover, _ = self.env.make_step(action, render)\n",
    "                self.window.add_state(new_state)\n",
    "                new_window_state = self.window.get_window()\n",
    "                self.experience_storage.add(np.reshape(np.array([window_state, action, reward, new_window_state, gameover]),[1,5]))\n",
    "                episode_rewards[iteration] = reward\n",
    "                \n",
    "                if self.pretrain_over:\n",
    "                    self.total_steps += 1\n",
    "                \n",
    "                    if self.total_steps % (self.TQN_updatefreq) == 0:\n",
    "                        self.updateTarget()\n",
    "                \n",
    "                    if self.total_steps % (self.MQN_updatefreq) == 0:\n",
    "                        train_batch = self.experience_storage.sample(self.batch_size)\n",
    "                        old_state_batch = np.stack(train_batch[:,0])\n",
    "                        new_state_batch = np.stack(train_batch[:,3])\n",
    "                        action_vector = (train_batch[:,1]).astype(np.int32)\n",
    "                        end_multiplier = -(train_batch[:,4] - 1)\n",
    "                        rewards_vector = train_batch[:,2]\n",
    "                        \n",
    "                        Q1 = self.mainQN.actionpred_fn(new_state_batch)   \n",
    "                        Q2 = self.targetQN.Qout_fn(new_state_batch)\n",
    "                        \n",
    "                        \n",
    "                        doubleQ = Q2[range(self.batch_size),Q1]\n",
    "                        targetQ = (rewards_vector + (self.gamma * doubleQ * end_multiplier)).astype(np.float32)\n",
    "                        loss, Qval, Qvar = self.mainQN.train_fn(old_state_batch, targetQ, action_vector)\n",
    "                         \n",
    "                else:\n",
    "                    self.pretrain_steps -= 1;\n",
    "                    if self.pretrain_steps <= 0:\n",
    "                        self.pretrain_over = True\n",
    "                        \n",
    "                state = new_state\n",
    "                window_state = new_window_state\n",
    "            \n",
    "                if gameover:\n",
    "                    self.window.reset()\n",
    "                    break\n",
    "    \n",
    "            total_reward = np.sum(episode_rewards)\n",
    "            self.jList.append(iteration)\n",
    "            self.rList.append(total_reward)\n",
    "            if len(self.rList) % self.print_freq == 0:\n",
    "                tqdm.write(\" \".join([\"========= Episode\", str(episode_num), \"================================================\"]))\n",
    "                tqdm.write(\" \".join([\"Total steps:\", str(self.total_steps)]))\n",
    "                tqdm.write(\" \".join([\"Episode rewards, last 10:\", str(self.rList[-10:])]))\n",
    "                tqdm.write(\" \".join([\"Mean over last\", str(self.print_freq), \"episodes:\", str(np.mean(self.rList[-self.print_freq:]))]))\n",
    "                tqdm.write(\" \".join([\"Episode lengths, last 10:\", str(self.jList[-10:])]))\n",
    "                tqdm.write(\"===================================================================\" + \"=\" * len(str(episode_num)))"
   ]
  },
  {
   "cell_type": "code",
   "execution_count": 14,
   "metadata": {
    "collapsed": true
   },
   "outputs": [],
   "source": [
    "def plot_rewards(ddqlmodel, meanwindow = 250):\n",
    "    rlist = [ddqlmodel.rList[0]] * meanwindow + ddqlmodel.rList\n",
    "    x = np.cumsum(ddqlmodel.jList)\n",
    "    y = [np.mean(rlist[k:k+meanwindow]) for k in range(len(rlist) - meanwindow)]\n",
    "    plt.plot(x, y)"
   ]
  },
  {
   "cell_type": "code",
   "execution_count": 15,
   "metadata": {
    "collapsed": false
   },
   "outputs": [
    {
     "name": "stderr",
     "output_type": "stream",
     "text": [
      "[2017-05-15 18:41:51,322] Making new env: CartPole-v0\n"
     ]
    }
   ],
   "source": [
    "#llenv = LunarLanding_wrapper()\n",
    "cp_env = CartPole_wrapper()"
   ]
  },
  {
   "cell_type": "code",
   "execution_count": 16,
   "metadata": {
    "collapsed": true
   },
   "outputs": [],
   "source": [
    "lparams = {\"grad_clipping\" : 50,\n",
    "           \"learning_rate\" : 0.005,\n",
    "           \"window_size\" : 1,\n",
    "           \"batch_size\" : 8,\n",
    "           \"buffer_size\" : 128,\n",
    "           \"gamma\" : 0.98,\n",
    "           \"lambda\": 4,\n",
    "           \"alpha\": 2,\n",
    "           \"MQN_updatefreq\" : 1,\n",
    "           \"TQN_updatefreq\" : 4,\n",
    "           \"TQN_updaterate\" : 0.2,\n",
    "           \"print_freq\" : 500,\n",
    "           \"pretrain_steps\" : 5000,\n",
    "           \"render\" : False}"
   ]
  },
  {
   "cell_type": "code",
   "execution_count": 17,
   "metadata": {
    "collapsed": true
   },
   "outputs": [],
   "source": [
    "egreedyagentinfo = {\"agent\" : \"egreedy\",\n",
    "                    \"params\" : {\"startE\": 0.5,\n",
    "                                \"endE\" : 0.1,\n",
    "                                \"anneling_steps\":1000}}"
   ]
  },
  {
   "cell_type": "code",
   "execution_count": 18,
   "metadata": {
    "collapsed": true
   },
   "outputs": [],
   "source": [
    "boltzmanagentinfo = {\"agent\" : \"boltzman\",\n",
    "                     \"params\" : {\"startT\": 10,\n",
    "                                 \"endT\" : 1,\n",
    "                                 \"anneling_steps\":10000}}"
   ]
  },
  {
   "cell_type": "code",
   "execution_count": 19,
   "metadata": {
    "collapsed": true
   },
   "outputs": [],
   "source": [
    "bayesagentinfo = {\"agent\" : \"bayes\",\n",
    "                    \"params\" : {\"startE\": 0.5,\n",
    "                                \"endE\" : 0.1,\n",
    "                                \"anneling_steps\":1000}}"
   ]
  },
  {
   "cell_type": "code",
   "execution_count": null,
   "metadata": {
    "collapsed": true
   },
   "outputs": [],
   "source": []
  },
  {
   "cell_type": "code",
   "execution_count": 20,
   "metadata": {
    "collapsed": true
   },
   "outputs": [],
   "source": [
    "def produce_experiment(ddql, ddql_init_params, ddql_train_params, experiment_num = 5):\n",
    "    ddql_list = [ddql(**ddql_init_params) for k in range(experiment_num)]\n",
    "    \n",
    "    for k in range(experiment_num):\n",
    "        ddql_list[k].train(**ddql_train_params)\n",
    "        \n",
    "    return ddql_list"
   ]
  },
  {
   "cell_type": "code",
   "execution_count": 21,
   "metadata": {
    "collapsed": true
   },
   "outputs": [],
   "source": [
    "ddql_bayes_params = {\"lparams\":lparams, \"env\":cp_env, \"agent\":bayesagentinfo}\n",
    "\n",
    "ddql_train_params = {\"num_episodes\":2500, \"frame_limit\":500, \"render\":False}"
   ]
  },
  {
   "cell_type": "code",
   "execution_count": 22,
   "metadata": {
    "collapsed": false
   },
   "outputs": [
    {
     "name": "stderr",
     "output_type": "stream",
     "text": [
      "Widget Javascript not detected.  It may not be installed properly. Did you enable the widgetsnbextension? If not, then run \"jupyter nbextension enable --py --sys-prefix widgetsnbextension\"\n"
     ]
    },
    {
     "name": "stdout",
     "output_type": "stream",
     "text": [
      "========= Episode 499 ================================================\n",
      "Total steps: 0\n",
      "Episode rewards, last 10: [10.0, 9.0, 10.0, 9.0, 9.0, 9.0, 10.0, 10.0, 9.0, 10.0]\n",
      "Mean over last 500 episodes: 9.746\n",
      "Episode lengths, last 10: [9, 8, 9, 8, 8, 8, 9, 9, 8, 9]\n",
      "======================================================================\n",
      "========= Episode 999 ================================================\n",
      "Total steps: 87959\n",
      "Episode rewards, last 10: [197.0, 207.0, 233.0, 500.0, 500.0, 500.0, 500.0, 500.0, 500.0, 500.0]\n",
      "Mean over last 500 episodes: 176.172\n",
      "Episode lengths, last 10: [196, 206, 232, 499, 499, 499, 499, 499, 499, 499]\n",
      "======================================================================\n",
      "========= Episode 1499 ================================================\n",
      "Total steps: 200131\n",
      "Episode rewards, last 10: [500.0, 500.0, 500.0, 500.0, 500.0, 17.0, 14.0, 49.0, 14.0, 127.0]\n",
      "Mean over last 500 episodes: 224.344\n",
      "Episode lengths, last 10: [499, 499, 499, 499, 499, 16, 13, 48, 13, 126]\n",
      "=======================================================================\n",
      "========= Episode 1999 ================================================\n",
      "Total steps: 300938\n",
      "Episode rewards, last 10: [500.0, 500.0, 500.0, 330.0, 55.0, 500.0, 500.0, 500.0, 500.0, 500.0]\n",
      "Mean over last 500 episodes: 201.614\n",
      "Episode lengths, last 10: [499, 499, 499, 329, 54, 499, 499, 499, 499, 499]\n",
      "=======================================================================\n",
      "========= Episode 2499 ================================================\n",
      "Total steps: 397864\n",
      "Episode rewards, last 10: [500.0, 500.0, 500.0, 500.0, 500.0, 500.0, 500.0, 197.0, 51.0, 35.0]\n",
      "Mean over last 500 episodes: 193.852\n",
      "Episode lengths, last 10: [499, 499, 499, 499, 499, 499, 499, 196, 50, 34]\n",
      "=======================================================================\n",
      "\n"
     ]
    },
    {
     "name": "stderr",
     "output_type": "stream",
     "text": [
      "Widget Javascript not detected.  It may not be installed properly. Did you enable the widgetsnbextension? If not, then run \"jupyter nbextension enable --py --sys-prefix widgetsnbextension\"\n"
     ]
    },
    {
     "name": "stdout",
     "output_type": "stream",
     "text": [
      "========= Episode 499 ================================================\n",
      "Total steps: 3272\n",
      "Episode rewards, last 10: [9.0, 11.0, 9.0, 16.0, 11.0, 12.0, 11.0, 9.0, 10.0, 12.0]\n",
      "Mean over last 500 episodes: 16.544\n",
      "Episode lengths, last 10: [8, 10, 8, 15, 10, 11, 10, 8, 9, 11]\n",
      "======================================================================\n",
      "========= Episode 999 ================================================\n",
      "Total steps: 46110\n",
      "Episode rewards, last 10: [150.0, 158.0, 138.0, 147.0, 272.0, 500.0, 246.0, 82.0, 191.0, 156.0]\n",
      "Mean over last 500 episodes: 85.676\n",
      "Episode lengths, last 10: [149, 157, 137, 146, 271, 499, 245, 81, 190, 155]\n",
      "======================================================================\n",
      "========= Episode 1499 ================================================\n",
      "Total steps: 158692\n",
      "Episode rewards, last 10: [114.0, 17.0, 26.0, 26.0, 11.0, 81.0, 100.0, 380.0, 500.0, 500.0]\n",
      "Mean over last 500 episodes: 225.164\n",
      "Episode lengths, last 10: [113, 16, 25, 25, 10, 80, 99, 379, 499, 499]\n",
      "=======================================================================\n",
      "========= Episode 1999 ================================================\n",
      "Total steps: 249613\n",
      "Episode rewards, last 10: [275.0, 125.0, 13.0, 11.0, 12.0, 11.0, 28.0, 13.0, 72.0, 500.0]\n",
      "Mean over last 500 episodes: 181.842\n",
      "Episode lengths, last 10: [274, 124, 12, 10, 11, 10, 27, 12, 71, 499]\n",
      "=======================================================================\n",
      "========= Episode 2499 ================================================\n",
      "Total steps: 338631\n",
      "Episode rewards, last 10: [500.0, 500.0, 500.0, 500.0, 400.0, 51.0, 24.0, 363.0, 16.0, 227.0]\n",
      "Mean over last 500 episodes: 178.036\n",
      "Episode lengths, last 10: [499, 499, 499, 499, 399, 50, 23, 362, 15, 226]\n",
      "=======================================================================\n",
      "\n"
     ]
    },
    {
     "name": "stderr",
     "output_type": "stream",
     "text": [
      "Widget Javascript not detected.  It may not be installed properly. Did you enable the widgetsnbextension? If not, then run \"jupyter nbextension enable --py --sys-prefix widgetsnbextension\"\n"
     ]
    },
    {
     "name": "stdout",
     "output_type": "stream",
     "text": [
      "========= Episode 499 ================================================\n",
      "Total steps: 40989\n",
      "Episode rewards, last 10: [165.0, 180.0, 281.0, 468.0, 65.0, 264.0, 121.0, 111.0, 13.0, 143.0]\n",
      "Mean over last 500 episodes: 91.978\n",
      "Episode lengths, last 10: [164, 179, 280, 467, 64, 263, 120, 110, 12, 142]\n",
      "======================================================================\n",
      "========= Episode 999 ================================================\n",
      "Total steps: 146846\n",
      "Episode rewards, last 10: [500.0, 500.0, 500.0, 500.0, 500.0, 500.0, 379.0, 71.0, 48.0, 13.0]\n",
      "Mean over last 500 episodes: 211.714\n",
      "Episode lengths, last 10: [499, 499, 499, 499, 499, 499, 378, 70, 47, 12]\n",
      "======================================================================\n",
      "========= Episode 1499 ================================================\n",
      "Total steps: 249578\n",
      "Episode rewards, last 10: [72.0, 15.0, 71.0, 56.0, 500.0, 500.0, 500.0, 258.0, 500.0, 216.0]\n",
      "Mean over last 500 episodes: 205.464\n",
      "Episode lengths, last 10: [71, 14, 70, 55, 499, 499, 499, 257, 499, 215]\n",
      "=======================================================================\n",
      "========= Episode 1999 ================================================\n",
      "Total steps: 353937\n",
      "Episode rewards, last 10: [50.0, 249.0, 12.0, 500.0, 500.0, 500.0, 500.0, 500.0, 299.0, 140.0]\n",
      "Mean over last 500 episodes: 208.718\n",
      "Episode lengths, last 10: [49, 248, 11, 499, 499, 499, 499, 499, 298, 139]\n",
      "=======================================================================\n",
      "========= Episode 2499 ================================================\n",
      "Total steps: 462026\n",
      "Episode rewards, last 10: [59.0, 308.0, 373.0, 238.0, 160.0, 500.0, 500.0, 500.0, 500.0, 500.0]\n",
      "Mean over last 500 episodes: 216.178\n",
      "Episode lengths, last 10: [58, 307, 372, 237, 159, 499, 499, 499, 499, 499]\n",
      "=======================================================================\n",
      "\n"
     ]
    },
    {
     "name": "stderr",
     "output_type": "stream",
     "text": [
      "Widget Javascript not detected.  It may not be installed properly. Did you enable the widgetsnbextension? If not, then run \"jupyter nbextension enable --py --sys-prefix widgetsnbextension\"\n"
     ]
    },
    {
     "name": "stdout",
     "output_type": "stream",
     "text": [
      "========= Episode 499 ================================================\n",
      "Total steps: 33343\n",
      "Episode rewards, last 10: [500.0, 500.0, 209.0, 84.0, 31.0, 176.0, 437.0, 52.0, 30.0, 48.0]\n",
      "Mean over last 500 episodes: 76.686\n",
      "Episode lengths, last 10: [499, 499, 208, 83, 30, 175, 436, 51, 29, 47]\n",
      "======================================================================\n",
      "========= Episode 999 ================================================\n",
      "Total steps: 150037\n",
      "Episode rewards, last 10: [23.0, 20.0, 94.0, 198.0, 97.0, 146.0, 133.0, 500.0, 500.0, 500.0]\n",
      "Mean over last 500 episodes: 233.388\n",
      "Episode lengths, last 10: [22, 19, 93, 197, 96, 145, 132, 499, 499, 499]\n",
      "======================================================================\n",
      "========= Episode 1499 ================================================\n",
      "Total steps: 266628\n",
      "Episode rewards, last 10: [80.0, 81.0, 73.0, 44.0, 364.0, 129.0, 24.0, 16.0, 116.0, 176.0]\n",
      "Mean over last 500 episodes: 233.182\n",
      "Episode lengths, last 10: [79, 80, 72, 43, 363, 128, 23, 15, 115, 175]\n",
      "=======================================================================\n",
      "========= Episode 1999 ================================================\n",
      "Total steps: 384455\n",
      "Episode rewards, last 10: [500.0, 500.0, 500.0, 337.0, 500.0, 500.0, 500.0, 500.0, 500.0, 500.0]\n",
      "Mean over last 500 episodes: 235.654\n",
      "Episode lengths, last 10: [499, 499, 499, 336, 499, 499, 499, 499, 499, 499]\n",
      "=======================================================================\n",
      "========= Episode 2499 ================================================\n",
      "Total steps: 497995\n",
      "Episode rewards, last 10: [500.0, 500.0, 500.0, 280.0, 164.0, 103.0, 18.0, 22.0, 14.0, 128.0]\n",
      "Mean over last 500 episodes: 227.08\n",
      "Episode lengths, last 10: [499, 499, 499, 279, 163, 102, 17, 21, 13, 127]\n",
      "=======================================================================\n",
      "\n"
     ]
    },
    {
     "name": "stderr",
     "output_type": "stream",
     "text": [
      "Widget Javascript not detected.  It may not be installed properly. Did you enable the widgetsnbextension? If not, then run \"jupyter nbextension enable --py --sys-prefix widgetsnbextension\"\n"
     ]
    },
    {
     "name": "stdout",
     "output_type": "stream",
     "text": [
      "========= Episode 499 ================================================\n",
      "Total steps: 1977\n",
      "Episode rewards, last 10: [165.0, 215.0, 166.0, 217.0, 65.0, 28.0, 38.0, 34.0, 9.0, 10.0]\n",
      "Mean over last 500 episodes: 13.954\n",
      "Episode lengths, last 10: [164, 214, 165, 216, 64, 27, 37, 33, 8, 9]\n",
      "======================================================================\n",
      "========= Episode 999 ================================================\n",
      "Total steps: 87065\n",
      "Episode rewards, last 10: [183.0, 171.0, 310.0, 176.0, 257.0, 139.0, 167.0, 147.0, 153.0, 215.0]\n",
      "Mean over last 500 episodes: 170.176\n",
      "Episode lengths, last 10: [182, 170, 309, 175, 256, 138, 166, 146, 152, 214]\n",
      "======================================================================\n",
      "========= Episode 1499 ================================================\n",
      "Total steps: 193689\n",
      "Episode rewards, last 10: [351.0, 143.0, 64.0, 29.0, 304.0, 90.0, 129.0, 154.0, 93.0, 338.0]\n",
      "Mean over last 500 episodes: 213.248\n",
      "Episode lengths, last 10: [350, 142, 63, 28, 303, 89, 128, 153, 92, 337]\n",
      "=======================================================================\n",
      "========= Episode 1999 ================================================\n",
      "Total steps: 300819\n",
      "Episode rewards, last 10: [15.0, 14.0, 13.0, 19.0, 17.0, 17.0, 15.0, 13.0, 14.0, 14.0]\n",
      "Mean over last 500 episodes: 214.26\n",
      "Episode lengths, last 10: [14, 13, 12, 18, 16, 16, 14, 12, 13, 13]\n",
      "=======================================================================\n",
      "========= Episode 2499 ================================================\n",
      "Total steps: 398499\n",
      "Episode rewards, last 10: [22.0, 21.0, 48.0, 37.0, 60.0, 15.0, 42.0, 147.0, 500.0, 500.0]\n",
      "Mean over last 500 episodes: 195.36\n",
      "Episode lengths, last 10: [21, 20, 47, 36, 59, 14, 41, 146, 499, 499]\n",
      "=======================================================================\n",
      "\n"
     ]
    },
    {
     "name": "stderr",
     "output_type": "stream",
     "text": [
      "Widget Javascript not detected.  It may not be installed properly. Did you enable the widgetsnbextension? If not, then run \"jupyter nbextension enable --py --sys-prefix widgetsnbextension\"\n"
     ]
    },
    {
     "name": "stdout",
     "output_type": "stream",
     "text": [
      "========= Episode 499 ================================================\n",
      "Total steps: 50492\n",
      "Episode rewards, last 10: [232.0, 195.0, 204.0, 152.0, 155.0, 156.0, 152.0, 174.0, 225.0, 280.0]\n",
      "Mean over last 500 episodes: 110.984\n",
      "Episode lengths, last 10: [231, 194, 203, 151, 154, 155, 151, 173, 224, 279]\n",
      "======================================================================\n",
      "========= Episode 999 ================================================\n",
      "Total steps: 152126\n",
      "Episode rewards, last 10: [42.0, 15.0, 14.0, 11.0, 15.0, 20.0, 17.0, 110.0, 158.0, 500.0]\n",
      "Mean over last 500 episodes: 203.268\n",
      "Episode lengths, last 10: [41, 14, 13, 10, 14, 19, 16, 109, 157, 499]\n",
      "======================================================================\n",
      "========= Episode 1499 ================================================\n",
      "Total steps: 255197\n",
      "Episode rewards, last 10: [89.0, 500.0, 500.0, 407.0, 163.0, 345.0, 306.0, 490.0, 500.0, 500.0]\n",
      "Mean over last 500 episodes: 206.142\n",
      "Episode lengths, last 10: [88, 499, 499, 406, 162, 344, 305, 489, 499, 499]\n",
      "=======================================================================\n",
      "========= Episode 1999 ================================================\n",
      "Total steps: 351074\n",
      "Episode rewards, last 10: [15.0, 108.0, 32.0, 500.0, 134.0, 500.0, 113.0, 110.0, 123.0, 113.0]\n",
      "Mean over last 500 episodes: 191.754\n",
      "Episode lengths, last 10: [14, 107, 31, 499, 133, 499, 112, 109, 122, 112]\n",
      "=======================================================================\n",
      "========= Episode 2499 ================================================\n",
      "Total steps: 436545\n",
      "Episode rewards, last 10: [364.0, 225.0, 89.0, 330.0, 230.0, 202.0, 165.0, 178.0, 186.0, 168.0]\n",
      "Mean over last 500 episodes: 170.942\n",
      "Episode lengths, last 10: [363, 224, 88, 329, 229, 201, 164, 177, 185, 167]\n",
      "=======================================================================\n",
      "\n"
     ]
    },
    {
     "name": "stderr",
     "output_type": "stream",
     "text": [
      "Widget Javascript not detected.  It may not be installed properly. Did you enable the widgetsnbextension? If not, then run \"jupyter nbextension enable --py --sys-prefix widgetsnbextension\"\n"
     ]
    },
    {
     "name": "stdout",
     "output_type": "stream",
     "text": [
      "========= Episode 499 ================================================\n",
      "Total steps: 0\n",
      "Episode rewards, last 10: [9.0, 9.0, 10.0, 8.0, 10.0, 12.0, 9.0, 9.0, 10.0, 9.0]\n",
      "Mean over last 500 episodes: 9.542\n",
      "Episode lengths, last 10: [8, 8, 9, 7, 9, 11, 8, 8, 9, 8]\n",
      "======================================================================\n",
      "========= Episode 999 ================================================\n",
      "Total steps: 68061\n",
      "Episode rewards, last 10: [11.0, 20.0, 19.0, 36.0, 18.0, 33.0, 9.0, 31.0, 40.0, 500.0]\n",
      "Mean over last 500 episodes: 136.58\n",
      "Episode lengths, last 10: [10, 19, 18, 35, 17, 32, 8, 30, 39, 499]\n",
      "======================================================================\n",
      "========= Episode 1499 ================================================\n",
      "Total steps: 151942\n",
      "Episode rewards, last 10: [360.0, 128.0, 170.0, 103.0, 15.0, 102.0, 91.0, 74.0, 79.0, 16.0]\n",
      "Mean over last 500 episodes: 167.762\n",
      "Episode lengths, last 10: [359, 127, 169, 102, 14, 101, 90, 73, 78, 15]\n",
      "=======================================================================\n",
      "========= Episode 1999 ================================================\n",
      "Total steps: 248696\n",
      "Episode rewards, last 10: [23.0, 22.0, 16.0, 16.0, 18.0, 102.0, 11.0, 24.0, 331.0, 466.0]\n",
      "Mean over last 500 episodes: 193.508\n",
      "Episode lengths, last 10: [22, 21, 15, 15, 17, 101, 10, 23, 330, 465]\n",
      "=======================================================================\n",
      "========= Episode 2499 ================================================\n",
      "Total steps: 351277\n",
      "Episode rewards, last 10: [38.0, 20.0, 144.0, 69.0, 44.0, 37.0, 38.0, 50.0, 76.0, 58.0]\n",
      "Mean over last 500 episodes: 205.162\n",
      "Episode lengths, last 10: [37, 19, 143, 68, 43, 36, 37, 49, 75, 57]\n",
      "=======================================================================\n",
      "\n"
     ]
    },
    {
     "name": "stderr",
     "output_type": "stream",
     "text": [
      "Widget Javascript not detected.  It may not be installed properly. Did you enable the widgetsnbextension? If not, then run \"jupyter nbextension enable --py --sys-prefix widgetsnbextension\"\n"
     ]
    },
    {
     "name": "stdout",
     "output_type": "stream",
     "text": [
      "========= Episode 499 ================================================\n",
      "Total steps: 1166\n",
      "Episode rewards, last 10: [28.0, 10.0, 13.0, 25.0, 15.0, 68.0, 120.0, 59.0, 10.0, 14.0]\n",
      "Mean over last 500 episodes: 12.332\n",
      "Episode lengths, last 10: [27, 9, 12, 24, 14, 67, 119, 58, 9, 13]\n",
      "======================================================================\n",
      "========= Episode 999 ================================================\n",
      "Total steps: 96822\n",
      "Episode rewards, last 10: [17.0, 12.0, 54.0, 145.0, 157.0, 302.0, 500.0, 500.0, 500.0, 500.0]\n",
      "Mean over last 500 episodes: 191.312\n",
      "Episode lengths, last 10: [16, 11, 53, 144, 156, 301, 499, 499, 499, 499]\n",
      "======================================================================\n",
      "========= Episode 1499 ================================================\n",
      "Total steps: 192535\n",
      "Episode rewards, last 10: [500.0, 71.0, 69.0, 400.0, 59.0, 500.0, 117.0, 98.0, 335.0, 99.0]\n",
      "Mean over last 500 episodes: 191.426\n",
      "Episode lengths, last 10: [499, 70, 68, 399, 58, 499, 116, 97, 334, 98]\n",
      "=======================================================================\n",
      "========= Episode 1999 ================================================\n",
      "Total steps: 313975\n",
      "Episode rewards, last 10: [493.0, 131.0, 104.0, 224.0, 500.0, 500.0, 500.0, 500.0, 500.0, 500.0]\n",
      "Mean over last 500 episodes: 242.88\n",
      "Episode lengths, last 10: [492, 130, 103, 223, 499, 499, 499, 499, 499, 499]\n",
      "=======================================================================\n",
      "========= Episode 2499 ================================================\n",
      "Total steps: 413483\n",
      "Episode rewards, last 10: [79.0, 107.0, 58.0, 27.0, 20.0, 69.0, 53.0, 48.0, 48.0, 47.0]\n",
      "Mean over last 500 episodes: 199.016\n",
      "Episode lengths, last 10: [78, 106, 57, 26, 19, 68, 52, 47, 47, 46]\n",
      "=======================================================================\n",
      "\n"
     ]
    },
    {
     "name": "stderr",
     "output_type": "stream",
     "text": [
      "Widget Javascript not detected.  It may not be installed properly. Did you enable the widgetsnbextension? If not, then run \"jupyter nbextension enable --py --sys-prefix widgetsnbextension\"\n"
     ]
    },
    {
     "name": "stdout",
     "output_type": "stream",
     "text": [
      "========= Episode 499 ================================================\n",
      "Total steps: 2776\n",
      "Episode rewards, last 10: [9.0, 10.0, 9.0, 9.0, 9.0, 9.0, 9.0, 9.0, 10.0, 10.0]\n",
      "Mean over last 500 episodes: 15.552\n",
      "Episode lengths, last 10: [8, 9, 8, 8, 8, 8, 8, 8, 9, 9]\n",
      "======================================================================\n",
      "========= Episode 999 ================================================\n",
      "Total steps: 7511\n",
      "Episode rewards, last 10: [8.0, 10.0, 9.0, 10.0, 9.0, 10.0, 9.0, 9.0, 10.0, 9.0]\n",
      "Mean over last 500 episodes: 9.47\n",
      "Episode lengths, last 10: [7, 9, 8, 9, 8, 9, 8, 8, 9, 8]\n",
      "======================================================================\n",
      "========= Episode 1499 ================================================\n",
      "Total steps: 12435\n",
      "Episode rewards, last 10: [9.0, 12.0, 9.0, 11.0, 9.0, 9.0, 9.0, 11.0, 10.0, 9.0]\n",
      "Mean over last 500 episodes: 9.848\n",
      "Episode lengths, last 10: [8, 11, 8, 10, 8, 8, 8, 10, 9, 8]\n",
      "=======================================================================\n",
      "========= Episode 1999 ================================================\n",
      "Total steps: 17243\n",
      "Episode rewards, last 10: [11.0, 11.0, 10.0, 10.0, 10.0, 9.0, 9.0, 10.0, 9.0, 10.0]\n",
      "Mean over last 500 episodes: 9.616\n",
      "Episode lengths, last 10: [10, 10, 9, 9, 9, 8, 8, 9, 8, 9]\n",
      "=======================================================================\n",
      "========= Episode 2499 ================================================\n",
      "Total steps: 22135\n",
      "Episode rewards, last 10: [10.0, 12.0, 9.0, 10.0, 9.0, 10.0, 9.0, 9.0, 10.0, 10.0]\n",
      "Mean over last 500 episodes: 9.784\n",
      "Episode lengths, last 10: [9, 11, 8, 9, 8, 9, 8, 8, 9, 9]\n",
      "=======================================================================\n",
      "\n"
     ]
    },
    {
     "name": "stderr",
     "output_type": "stream",
     "text": [
      "Widget Javascript not detected.  It may not be installed properly. Did you enable the widgetsnbextension? If not, then run \"jupyter nbextension enable --py --sys-prefix widgetsnbextension\"\n"
     ]
    },
    {
     "name": "stdout",
     "output_type": "stream",
     "text": [
      "========= Episode 499 ================================================\n",
      "Total steps: 28500\n",
      "Episode rewards, last 10: [88.0, 68.0, 86.0, 97.0, 87.0, 100.0, 115.0, 128.0, 93.0, 172.0]\n",
      "Mean over last 500 episodes: 67.0\n",
      "Episode lengths, last 10: [87, 67, 85, 96, 86, 99, 114, 127, 92, 171]\n",
      "======================================================================\n",
      "========= Episode 999 ================================================\n",
      "Total steps: 124321\n",
      "Episode rewards, last 10: [105.0, 121.0, 131.0, 118.0, 149.0, 143.0, 250.0, 211.0, 31.0, 139.0]\n",
      "Mean over last 500 episodes: 191.642\n",
      "Episode lengths, last 10: [104, 120, 130, 117, 148, 142, 249, 210, 30, 138]\n",
      "======================================================================\n",
      "========= Episode 1499 ================================================\n",
      "Total steps: 224104\n",
      "Episode rewards, last 10: [500.0, 500.0, 500.0, 246.0, 115.0, 70.0, 87.0, 72.0, 24.0, 184.0]\n",
      "Mean over last 500 episodes: 199.566\n",
      "Episode lengths, last 10: [499, 499, 499, 245, 114, 69, 86, 71, 23, 183]\n",
      "=======================================================================\n",
      "========= Episode 1999 ================================================\n",
      "Total steps: 326997\n",
      "Episode rewards, last 10: [129.0, 500.0, 500.0, 500.0, 500.0, 301.0, 11.0, 30.0, 500.0, 500.0]\n",
      "Mean over last 500 episodes: 205.786\n",
      "Episode lengths, last 10: [128, 499, 499, 499, 499, 300, 10, 29, 499, 499]\n",
      "=======================================================================\n",
      "========= Episode 2499 ================================================\n",
      "Total steps: 440153\n",
      "Episode rewards, last 10: [500.0, 46.0, 500.0, 500.0, 183.0, 134.0, 89.0, 33.0, 32.0, 51.0]\n",
      "Mean over last 500 episodes: 226.312\n",
      "Episode lengths, last 10: [499, 45, 499, 499, 182, 133, 88, 32, 31, 50]\n",
      "=======================================================================\n",
      "\n"
     ]
    }
   ],
   "source": [
    "res = produce_experiment(DDQL, ddql_bayes_params, ddql_train_params, 10)"
   ]
  },
  {
   "cell_type": "code",
   "execution_count": null,
   "metadata": {
    "collapsed": true
   },
   "outputs": [],
   "source": []
  },
  {
   "cell_type": "code",
   "execution_count": 26,
   "metadata": {
    "collapsed": true
   },
   "outputs": [],
   "source": [
    "def plot_results(ddql_res, window = 100, std_coef = 0.2, results_over = 1000):\n",
    "    res_lists = [k.rList for k in ddql_res]\n",
    "    res_lists = np.array(res_lists)\n",
    "    pd.DataFrame(data = res_lists)\n",
    "    mean = res_lists.mean(axis = 0)\n",
    "    std = res_lists.std(axis = 0)\n",
    "    rol_mean = np.nan_to_num(pd.Series(mean).rolling(window = window).mean())\n",
    "    rol_std = np.nan_to_num(pd.Series(std).rolling(window = window).mean())\n",
    "    plt.figure()\n",
    "    index = np.arange(len(rol_mean))\n",
    "    plt.plot(index, rol_mean)\n",
    "    plt.fill_between(index, rol_mean-std_coef*rol_std, rol_mean+std_coef*rol_std, color='b', alpha=0.1)\n",
    "    return max(rol_mean[0:results_over]), rol_mean[0:results_over].mean(), pd.DataFrame(data = res_lists)"
   ]
  },
  {
   "cell_type": "code",
   "execution_count": 30,
   "metadata": {
    "collapsed": false
   },
   "outputs": [
    {
     "data": {
      "image/png": "[encoded data removed]",
      "text/plain": [
       "<matplotlib.figure.Figure at 0x131fa5d10>"
      ]
     },
     "metadata": {},
     "output_type": "display_data"
    }
   ],
   "source": [
    "bayes_max, bayes_auc, bayes_df = plot_results(res, 100, 0.2)\n",
    "plt.savefig(\"bayes_cp.png\")"
   ]
  },
  {
   "cell_type": "code",
   "execution_count": 28,
   "metadata": {
    "collapsed": false
   },
   "outputs": [
    {
     "name": "stdout",
     "output_type": "stream",
     "text": [
      "186.35 91.645872\n"
     ]
    }
   ],
   "source": [
    "print bayes_max, bayes_auc"
   ]
  },
  {
   "cell_type": "code",
   "execution_count": 29,
   "metadata": {
    "collapsed": true
   },
   "outputs": [],
   "source": [
    "bayes_df.to_csv(\"bayes.csv\")"
   ]
  },
  {
   "cell_type": "code",
   "execution_count": null,
   "metadata": {
    "collapsed": true
   },
   "outputs": [],
   "source": []
  }
 ],
 "metadata": {
  "anaconda-cloud": {},
  "kernelspec": {
   "display_name": "Python [conda root]",
   "language": "python",
   "name": "conda-root-py"
  },
  "widgets": {
   "state": {
    "3c204b607cb14286bbd6ee9c117cf423": {
     "views": [
      {
       "cell_index": 24
      }
     ]
    },
    "4743bea11db3430c9703fb62fb6ec2ea": {
     "views": [
      {
       "cell_index": 24
      }
     ]
    },
    "6d2173e809654f18b5cbc542e36d2e9d": {
     "views": [
      {
       "cell_index": 24
      }
     ]
    },
    "81a8212689e04224b39ade0449c5325f": {
     "views": [
      {
       "cell_index": 28
      }
     ]
    },
    "86f2cbc45bc1494fb7e409c1201665cc": {
     "views": [
      {
       "cell_index": 24
      }
     ]
    },
    "8eff0a0ee4754c79945f2e7afa2e0dd2": {
     "views": [
      {
       "cell_index": 28
      }
     ]
    },
    "960a61dff50f415d9f8536217ba9ee5b": {
     "views": [
      {
       "cell_index": 28
      }
     ]
    },
    "9ddd99d3753f4045b15116f6f05e6414": {
     "views": [
      {
       "cell_index": 28
      }
     ]
    },
    "b47bee3eb60f49a98dd1d5a1347fb1d6": {
     "views": [
      {
       "cell_index": 24
      }
     ]
    },
    "ccffe7e048d1485eafe37c8ddd1c938c": {
     "views": [
      {
       "cell_index": 24
      }
     ]
    },
    "cffb3e1d70aa4e95af372253ad808202": {
     "views": [
      {
       "cell_index": 24
      }
     ]
    },
    "d659bd36378448b0bccc92454ebbb14c": {
     "views": [
      {
       "cell_index": 24
      }
     ]
    },
    "d9f47c7ba7914cf0bbe8bf046a0dd80e": {
     "views": [
      {
       "cell_index": 24
      }
     ]
    },
    "ef486d933aa443d6808757305396c962": {
     "views": [
      {
       "cell_index": 24
      }
     ]
    },
    "f81342256f2f46de871c550fbade9606": {
     "views": [
      {
       "cell_index": 28
      }
     ]
    }
   },
   "version": "1.2.0"
  }
 },
 "nbformat": 4,
 "nbformat_minor": 0
}
